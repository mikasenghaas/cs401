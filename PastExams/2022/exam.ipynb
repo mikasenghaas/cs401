{
 "cells": [
  {
   "cell_type": "markdown",
   "id": "09e9a536",
   "metadata": {},
   "source": [
    "## ADA final exam (Fall 2022)\n",
    "\n",
    "This exam consists of 3 tasks. Tasks 2 and 3 are independent of each other (although conceptually related).\n"
   ]
  },
  {
   "cell_type": "code",
   "execution_count": 1,
   "id": "6bb8a9b5",
   "metadata": {},
   "outputs": [],
   "source": [
    "import numpy as np\n",
    "import pandas as pd\n",
    "\n",
    "from matplotlib import pyplot as plt\n",
    "import seaborn as sns"
   ]
  },
  {
   "cell_type": "markdown",
   "id": "68507ec4",
   "metadata": {},
   "source": [
    "## Dataset\n",
    "\n",
    "For a Wikipedia editor to become an administrator, a so-called “request for adminship” ([RfA](https://en.wikipedia.org/wiki/Wikipedia:Requests_for_adminship)) must be submitted by either the candidate or another community member. Subsequently, any Wikipedia member may cast a supporting or opposing vote. Here we provide a simplified version of the Wikipedia RfA dataset, containing all votes from 2003 through 2012.\n",
    "\n",
    "###  Data format\n",
    "\n",
    "|        |   SRC |   TGT |   VOT |   RES |   YEA | DAT                 | TXT                                                                                                                                                                                               |\n",
    "|-------:|------:|------:|------:|------:|------:|:--------------------|:--------------------------------------------------------------------------------------------------------------------------------------------------------------------------------------------------|\n",
    "|  39054 |  3444 | 10170 |     1 |     1 |  2009 | 2009-07-01 17:50:00 | '''Support''' - Best of luck. &nbsp;                                                                                                                                                              |\n",
    "| 159680 |   722 |  9634 |    -1 |    -1 |  2006 | 2006-12-15 07:28:00 | '''Oppose''' Not even 2000 edits.                                                                                                                                                                 |\n",
    "| 173438 |  4194 |  5524 |     1 |     1 |  2005 | 2005-03-18 19:22:00 | Ohhh, you're Carrp!  In that case, '''Support'''.                                                                                                                                                 |\n",
    "|  60627 |  4855 |  9436 |     1 |     1 |  2008 | 2008-12-18 23:26:00 | '''Support''' via thoughtful answer to my question that demonstrates this editor has clue.                                                 |\n",
    "| 194809 |  7687 |   908 |     1 |     1 |  2004 | 2004-09-25 05:21:00 | Nicholas is very good in English. Also, he got '''exceptional''' patience to explain petty obvious facts in talk page to convince ignorants. Let the world be benefitted more out of his work. -- |\n",
    "\n",
    "\n",
    "- SRC: the user name of the source of the vote, i.e., of the user who cast the vote.\n",
    "- TGT: the user name of the target of the vote, i.e., of the user running for election.\n",
    "- VOT: the source's vote on the target (-1 = oppose; 1 = support).\n",
    "- RES: the outcome of the election (-1 = target was rejected as admin; 1 = target was accepted). **(We will not use this  column in this exam.)**\n",
    "- YEA: the year of the RfA.\n",
    "- DAT: the date and time of this vote. **(We will not use this column in this exam.)**\n",
    "- TXT: the comment written by the source. **(We will not use this column in this exam.)**\n",
    "\n",
    "---\n"
   ]
  },
  {
   "cell_type": "markdown",
   "id": "4a4a661c",
   "metadata": {},
   "source": [
    "## Structural balance theory\n",
    "\n",
    "**Structural balance theory** affirms that social networks tend to be organized so as to avoid conflictual situations, e.g., if a great friend of yours hates someone, you will likely not befriend that person.\n",
    "\n",
    "The theory can be operationalized by looking at _triangles_ in an undirected _signed graph_ capturing person-to-person relationships, where a _signed graph_ is a  graph in which each edge is associated with a positive or negative sign, and a _triangle_ is a set of three edges ($\\langle u,v \\rangle$, $\\langle v,w\\rangle$, $\\langle u,w\\rangle$) that fully connect three distinct nodes ($u, v, w$).\n",
    "\n",
    "\n",
    "\n",
    "_Triangles_ in an undirected signed graph can be in 4 _configurations_:\n",
    "all positive edges ($\\{+,+,+\\}$); \n",
    "all negative edges ($\\{-,-,-\\}$); \n",
    "two positive edges and one negative edge ($\\{+,+,-\\}$);\n",
    "one positive edge and two negative edges ($\\{+,-,-\\}$).\n",
    "\n",
    "Structural balance theory posits that social networks tend to favor triangle configurations with an even number of negative signs (i.e., $\\{+,+,+\\}$ and $\\{+,-,-\\}$), which can be understood as being “balanced” by avoiding conflictual situations. Intuitively, $\\{+,+,+\\}$ could be tagged as “The friend of my friend is my friend”, and $\\{+,-,-\\}$ as “The enemy of my enemy is my friend”, “The friend of my enemy is my enemy”, or “The enemy of my friend is my enemy”. On the contrary, triangle configurations with an odd number of negative signs (i.e., $\\{+,+,-\\}$ and $\\{-,-,-\\}$) are unstable (“unbalanced”) according to structural balance theory and will thus occur less frequently in social networks. For instance, me being friends with two mutual enemies ($\\{+,+,-\\}$) would lead to tension that could be resolved if the two enemies became friends or if I took sides and ended my friendship with one of the two. Similarly, two among three mutual enemies ($\\{-,-,-\\}$) would have the incentive to form an alliance to “gang up” against the third.\n",
    "\n",
    "Some social scientists have argued that three mutual enemies ($\\{-,-,-\\}$) is not necessarily a triangle configuration that social networks tend to avoid. This gives rise to **weak structural balance theory**, which only posits that social networks tend to avoid the “unbalanced” triangle configuration $\\{+,+,-\\}$.\n",
    "\n",
    "In a nutshell,\n",
    "- structural balance theory\n",
    "  - considers $\\{+,+,+\\}$, $\\{+,-,-\\}$ as balanced,\n",
    "  - and $\\{+,+,-\\}$, $\\{-,-,-\\}$ as unbalanced;\n",
    "- weak structural balance theory\n",
    "  - considers $\\{+,+,+\\}$, $\\{+,-,-\\}$, $\\{-,-,-\\}$ as balanced,\n",
    "  - and $\\{+,+,-\\}$ as unbalanced.\n",
    "\n"
   ]
  },
  {
   "cell_type": "markdown",
   "id": "d5f337c9",
   "metadata": {},
   "source": [
    "### Task 1: Preliminaries\n",
    "\n",
    "As a good data scientist, you first load the data and explore it.\n",
    "\n",
    "**1.1**\n",
    "Load the csv file `wiki-RfA.csv.gz` in a pandas dataframe. Calculate the number of distinct RfAs and the average number of votes per RfA.\n",
    "- **Hint:** Throughout this question, assume that each RfA is uniquely determined by the column `TGT` and each vote is uniquely determined by the combination of `SRC` and `TGT`."
   ]
  },
  {
   "cell_type": "code",
   "execution_count": 2,
   "id": "ff2e92a5",
   "metadata": {},
   "outputs": [
    {
     "data": {
      "text/html": [
       "<div>\n",
       "<style scoped>\n",
       "    .dataframe tbody tr th:only-of-type {\n",
       "        vertical-align: middle;\n",
       "    }\n",
       "\n",
       "    .dataframe tbody tr th {\n",
       "        vertical-align: top;\n",
       "    }\n",
       "\n",
       "    .dataframe thead th {\n",
       "        text-align: right;\n",
       "    }\n",
       "</style>\n",
       "<table border=\"1\" class=\"dataframe\">\n",
       "  <thead>\n",
       "    <tr style=\"text-align: right;\">\n",
       "      <th></th>\n",
       "      <th>SRC</th>\n",
       "      <th>TGT</th>\n",
       "      <th>VOT</th>\n",
       "      <th>RES</th>\n",
       "      <th>YEA</th>\n",
       "      <th>DAT</th>\n",
       "      <th>TXT</th>\n",
       "    </tr>\n",
       "  </thead>\n",
       "  <tbody>\n",
       "    <tr>\n",
       "      <th>0</th>\n",
       "      <td>5943</td>\n",
       "      <td>9966</td>\n",
       "      <td>-1</td>\n",
       "      <td>-1</td>\n",
       "      <td>2012</td>\n",
       "      <td>2012-12-30 22:27:00</td>\n",
       "      <td>—</td>\n",
       "    </tr>\n",
       "    <tr>\n",
       "      <th>1</th>\n",
       "      <td>9153</td>\n",
       "      <td>9966</td>\n",
       "      <td>-1</td>\n",
       "      <td>-1</td>\n",
       "      <td>2012</td>\n",
       "      <td>2012-12-30 22:25:00</td>\n",
       "      <td>'''Oppose'''. This joke really isn't funny, no...</td>\n",
       "    </tr>\n",
       "    <tr>\n",
       "      <th>2</th>\n",
       "      <td>4189</td>\n",
       "      <td>9966</td>\n",
       "      <td>-1</td>\n",
       "      <td>-1</td>\n",
       "      <td>2012</td>\n",
       "      <td>2012-12-30 22:17:00</td>\n",
       "      <td>'''Oppose''' as per nomination and answers. --...</td>\n",
       "    </tr>\n",
       "    <tr>\n",
       "      <th>3</th>\n",
       "      <td>3750</td>\n",
       "      <td>9966</td>\n",
       "      <td>-1</td>\n",
       "      <td>-1</td>\n",
       "      <td>2012</td>\n",
       "      <td>2012-12-30 22:14:00</td>\n",
       "      <td>'''Oppose''' and '''speeedy close''' this as [...</td>\n",
       "    </tr>\n",
       "    <tr>\n",
       "      <th>4</th>\n",
       "      <td>4225</td>\n",
       "      <td>9966</td>\n",
       "      <td>-1</td>\n",
       "      <td>-1</td>\n",
       "      <td>2012</td>\n",
       "      <td>2012-12-30 22:08:00</td>\n",
       "      <td>'''Oppose''' per nomination and answers. I am ...</td>\n",
       "    </tr>\n",
       "  </tbody>\n",
       "</table>\n",
       "</div>"
      ],
      "text/plain": [
       "    SRC   TGT  VOT  RES   YEA                 DAT  \\\n",
       "0  5943  9966   -1   -1  2012 2012-12-30 22:27:00   \n",
       "1  9153  9966   -1   -1  2012 2012-12-30 22:25:00   \n",
       "2  4189  9966   -1   -1  2012 2012-12-30 22:17:00   \n",
       "3  3750  9966   -1   -1  2012 2012-12-30 22:14:00   \n",
       "4  4225  9966   -1   -1  2012 2012-12-30 22:08:00   \n",
       "\n",
       "                                                 TXT  \n",
       "0                                                  —  \n",
       "1  '''Oppose'''. This joke really isn't funny, no...  \n",
       "2  '''Oppose''' as per nomination and answers. --...  \n",
       "3  '''Oppose''' and '''speeedy close''' this as [...  \n",
       "4  '''Oppose''' per nomination and answers. I am ...  "
      ]
     },
     "execution_count": 2,
     "metadata": {},
     "output_type": "execute_result"
    }
   ],
   "source": [
    "# Load data\n",
    "df = pd.read_csv(\"wiki-RfA.csv.gz\")\n",
    "\n",
    "# Convert date column to datetime\n",
    "df[\"DAT\"] = pd.to_datetime(df[\"DAT\"])\n",
    "\n",
    "# Show first five samples\n",
    "df.head(5)"
   ]
  },
  {
   "cell_type": "code",
   "execution_count": 3,
   "id": "f5164386",
   "metadata": {},
   "outputs": [
    {
     "name": "stdout",
     "output_type": "stream",
     "text": [
      "There are 3439 unique RfA.\n",
      "Each RfA has on average 48.56 votes.\n"
     ]
    }
   ],
   "source": [
    "# Unique RfA are all the uniques in TGT\n",
    "print(f\"There are {len(df.groupby(by='TGT'))} unique RfA.\")\n",
    "\n",
    "# Verify that there are no duplicate SRC-TGT pairs\n",
    "assert len(set([tuple(p) for p in df[[\"SRC\", \"TGT\"]].values])) == len(df)\n",
    "\n",
    "# Average number of votes per RfA\n",
    "print(f\"Each RfA has on average {df.groupby(by='TGT').size().mean():.2f} votes.\")\n",
    "\n",
    "# Alternative which aggregates unique SRC votes\n",
    "# float(data.groupby(by=[\"TGT\"]).agg({\"SRC\": \"nunique\"}).mean().iloc[0])"
   ]
  },
  {
   "cell_type": "markdown",
   "id": "813b5a32",
   "metadata": {},
   "source": [
    "**1.2** \n",
    "In a single figure with three subfigures (one per item), show the following time series:\n",
    "- the number of RfAs per year;\n",
    "- the overall fraction of positive votes per year; and \n",
    "- the average number of votes per RfA per year.\n",
    "\n",
    "For each of the above three quantities, print the value for the year 2008."
   ]
  },
  {
   "cell_type": "code",
   "execution_count": 4,
   "id": "b1732d7e",
   "metadata": {},
   "outputs": [
    {
     "name": "stdout",
     "output_type": "stream",
     "text": [
      "RfAs in 2008: 514\n",
      "Fraction of positive votes in 2008: 0.76\n",
      "Avg. Votes per RfA in 2008: 51.39\n"
     ]
    },
    {
     "data": {
      "image/png": "[encoded data removed]",
      "text/plain": [
       "<Figure size 2000x500 with 3 Axes>"
      ]
     },
     "metadata": {},
     "output_type": "display_data"
    }
   ],
   "source": [
    "# Create subplots figures\n",
    "fig, axs = plt.subplots(ncols=3, figsize=(20,5))\n",
    "\n",
    "# Create relevant frames\n",
    "rfas_per_year = df.groupby(by=[df[\"DAT\"].dt.year])[\"TGT\"].nunique().to_frame()\n",
    "vote_ratio_per_year = df[\"VOT\"].groupby(df.DAT.dt.year).value_counts(normalize=True).to_frame().reset_index().rename(columns={\"proportion\": \"Fraction\"})\n",
    "pos_ratio_per_year = vote_ratio_per_year[vote_ratio_per_year[\"VOT\"] == 1]\n",
    "avg_votes_per_year = df.groupby(by=[df[\"DAT\"].dt.year, \"TGT\"]).size().to_frame().groupby(\"DAT\").mean().rename(columns={0: \"Avg. #Votes per RfA\"})\n",
    "\n",
    "# Plot on axes\n",
    "sns.lineplot(rfas_per_year, x=\"DAT\", y=\"TGT\", ax=axs[0])\n",
    "sns.lineplot(pos_ratio_per_year, x=\"DAT\", y=\"Fraction\", ax=axs[1])\n",
    "sns.lineplot(avg_votes_per_year, x=\"DAT\", y=\"Avg. #Votes per RfA\", ax=axs[2])\n",
    "\n",
    "# Additional styling\n",
    "axs[0].set(title=\"RfAs per Year\", xlabel=\"Year\", ylabel=\"#RfAs\")\n",
    "axs[1].set(title=\"Fraction of Positive Votes per Year\", xlabel=\"Year\")\n",
    "axs[2].set(title=\"Average #Votes per RfA per Year\", xlabel=\"Year\")\n",
    "\n",
    "year = 2008\n",
    "print(f\"RfAs in 2008: {rfas_per_year.loc[year].iloc[0]}\")\n",
    "print(f\"Fraction of positive votes in 2008: {pos_ratio_per_year[pos_ratio_per_year['DAT'] == year]['Fraction'].values[0]:.2f}\")\n",
    "print(f\"Avg. Votes per RfA in 2008: {avg_votes_per_year.loc[year].iloc[0]:.2f}\")"
   ]
  },
  {
   "cell_type": "markdown",
   "id": "366d38d9",
   "metadata": {},
   "source": [
    "**1.3** \n",
    "**/Discuss:/** Describe the temporal patterns observed in the plots you did in **T1.2**."
   ]
  },
  {
   "cell_type": "markdown",
   "id": "e77900f8",
   "metadata": {},
   "source": [
    "**A1.3** \n",
    "\n",
    "We see that the number of RfAs per year increased sharply (linaerly) from 2003 to 2006 and then decrased steadily until 2012. The minimum number of RfAs are below 100 and the maximum number of RfAs was above 800 in 2007. Meanwhile the fraction of positive votes that were casted per year decreased from 2003 to 2012, with the exception of the year 2011 which had a small spike. \n",
    "\n",
    "In summary, we see that first a lot of people requested to be admin and then the number of requests decreased. The procedure got more selective over time, as members casted less positive votes per year. The average votes increased steadily - probably because each year there were more members to cast votes."
   ]
  },
  {
   "cell_type": "markdown",
   "id": "81126c89",
   "metadata": {},
   "source": [
    "**1.4** \n",
    "Create an undirected graph ([`nx.Graph`](https://networkx.org/documentation/stable/reference/classes/graph.html)) where every node corresponds to a Wikipedia user (source or target of an RfA) and where there exists an edge between two users if at least one of them has voted on the other. Each edge should have attributes corresponding to columns of the dataframe, namely:\n",
    "- `VOT`, which equals `1` if the vote was positive, and `-1` otherwise.\n",
    "- `YEA`, an integer that represents the year of the RfA.\n",
    "\n",
    "**The code to load the graph has been provided to you!** After running it, print the number of nodes and edges in your graph.\n",
    "\n",
    "---\n",
    "\n",
    "**Observation:** Note that we have at most one edge per pair of nodes in the graph, even though two votes may be associated with the pair  — e.g., if A voted in B's RfA in time $t_1$ and B voted in A's RfA in time $t_2$ ($t_1 < t_2$). In these cases, the code provided associates the metadata of the oldest vote ($t_1$ in the example) to the edge between A and B."
   ]
  },
  {
   "cell_type": "code",
   "execution_count": 5,
   "id": "e57d4776",
   "metadata": {},
   "outputs": [
    {
     "name": "stdout",
     "output_type": "stream",
     "text": [
      "There are 10831 nodes in the graph.\n",
      "There are 161147 edges in the graph.\n"
     ]
    }
   ],
   "source": [
    "# Provided code! Do not change!\n",
    "import networkx as nx\n",
    "import pandas as pd\n",
    "G = nx.from_pandas_edgelist(pd.read_csv(\"./wiki-RfA.csv.gz\"), \n",
    "                            'SRC', 'TGT', ['VOT', 'RES', 'YEA', 'DAT'], create_using=nx.Graph)\n",
    "\n",
    "# Node and edge count\n",
    "print(f\"There are {len(G)} nodes in the graph.\")\n",
    "print(f\"There are {len(G.edges())} edges in the graph.\")"
   ]
  },
  {
   "cell_type": "markdown",
   "id": "37cbd1b8",
   "metadata": {},
   "source": [
    "**1.5** \n",
    "Plot the **complementary** cumulative distribution of the degree centrality of the undirected graph. Use a logarithmic (base 10) x-axis and a linear y-axis."
   ]
  },
  {
   "cell_type": "code",
   "execution_count": 6,
   "id": "66f272f4",
   "metadata": {},
   "outputs": [
    {
     "data": {
      "image/png": "[encoded data removed]",
      "text/plain": [
       "<Figure size 640x480 with 1 Axes>"
      ]
     },
     "metadata": {},
     "output_type": "display_data"
    }
   ],
   "source": [
    "# CCDF of degree centrality\n",
    "degrees = [d for _, d in list(G.degree())]\n",
    "bincount = np.bincount(degrees)\n",
    "s = float(bincount.sum())\n",
    "cdf = bincount.cumsum(0)/s\n",
    "ccdf = 1-cdf\n",
    "\n",
    "fig, ax = plt.subplots()\n",
    "ax.plot(range(len(ccdf)),ccdf,'bo')\n",
    "ax.set(\n",
    "    title=\"CCDF of Degree Centrality\",\n",
    "    xlabel=\"Degree\",\n",
    "    ylabel=\"P(X>=x)\",\n",
    "    xscale=\"log\",\n",
    ")\n",
    "ax.set_ylim([0,1]);"
   ]
  },
  {
   "cell_type": "markdown",
   "id": "935be3bf",
   "metadata": {},
   "source": [
    "\n",
    "**1.6**\n",
    "**/Discuss:/** Why is the following statement false? Justify your answer. **\"From the graph obtained in task 1.5, one can conclude that around 40% of the users voted at least 11 times.\"**\n"
   ]
  },
  {
   "cell_type": "markdown",
   "id": "3316f395",
   "metadata": {},
   "source": [
    "**A1.6** Because we have built an undirected graph and an edge may be a vote that was casted or a vote that was received. Hence, one cannot deduce the number of votes casted by a user from the degree centrality of the node in the graph."
   ]
  },
  {
   "cell_type": "markdown",
   "id": "9d1d5f4a",
   "metadata": {},
   "source": [
    "**1.7**\n",
    "What fraction of users voted at least 11 times? Use the data to measure the fraction."
   ]
  },
  {
   "cell_type": "code",
   "execution_count": 8,
   "id": "a167a11b",
   "metadata": {},
   "outputs": [
    {
     "name": "stdout",
     "output_type": "stream",
     "text": [
      "The fraction of users that voted at least 11 times is 0.275\n"
     ]
    }
   ],
   "source": [
    "# 1.7\n",
    "votes_per_user = df.groupby(\"SRC\").size()\n",
    "voted_at_least_11_times = votes_per_user[votes_per_user >= 11]\n",
    "\n",
    "print(f\"The fraction of users that voted at least 11 times is {len(voted_at_least_11_times) / len(votes_per_user):.3f}\")"
   ]
  },
  {
   "cell_type": "markdown",
   "id": "35b05b29",
   "metadata": {},
   "source": [
    "### Task 2: Triangles\n",
    "\n",
    "Next, you set out to investigate the social balance theory by looking at the RfA graph.\n",
    "\n",
    "**2.1**\n",
    "Considering _only_ the RfAs of 2004 (i.e., where `YEA == 2004`), generate all triangles in the undirected graph.\n",
    "Print the number of triangles found.\n",
    "- **Hint:** Note that you can generate a graph with only a subset of nodes and edges via ` G.edge_subgraph`.\n",
    "-  **Hint:** The function `nx.enumerate_all_cliques` generates all cliques in an undirected graph. First, all cliques of size 1 are generated, then all cliques of size 2, etc. Triangles are cliques of size 3.\n"
   ]
  },
  {
   "cell_type": "code",
   "execution_count": 19,
   "id": "b39a403e",
   "metadata": {},
   "outputs": [
    {
     "name": "stdout",
     "output_type": "stream",
     "text": [
      "There are 8448 triangles in the graphs.\n"
     ]
    }
   ],
   "source": [
    "# Filter RfA graph of 2004\n",
    "edges_2004 = [(src, trg) for src, trg, attr in list(G.edges(data=True)) if attr[\"YEA\"] == 2004]\n",
    "G_2004 = G.edge_subgraph(edges_2004).copy()\n",
    "\n",
    "# Generate all cliques\n",
    "triangles = []\n",
    "for clique in nx.enumerate_all_cliques(G_2004):\n",
    "    if len(clique) != 3:\n",
    "        continue\n",
    "    triangles.append(clique)\n",
    "\n",
    "print(f\"There are {len(triangles)} triangles in the graphs.\")"
   ]
  },
  {
   "cell_type": "markdown",
   "id": "9b8ac389",
   "metadata": {},
   "source": [
    "**2.2** **/True or false:/** Is the following statement true or false? Justify your answer. **\"The node with the highest clustering coefficient in an undirected graph is the node that belongs to the largest number of triangles.\"**"
   ]
  },
  {
   "cell_type": "markdown",
   "id": "f961eef7",
   "metadata": {},
   "source": [
    "**A2.2** False. The clustering coefficient is the ratio of the number of triangles that are closed out of all possible. Hence, a node with just two neighbours that are connected to each other will have a clustering coefficient of 1, but it will only belong to a single triangle. However, a node that has a lot higher degree is likely to be part of more triangles but its clustering coefficient will be lower."
   ]
  },
  {
   "cell_type": "markdown",
   "id": "e2f5b22c",
   "metadata": {},
   "source": [
    "**2.3** Considering the set of triangles previously calculated, estimate the fraction of triangles of configurations\n",
    " $\\{+,+,+\\}$,  $\\{-,-,-\\}$,  $\\{+,+,-\\}$, and $\\{+,-,-\\}$. What fraction of triangles are \"balanced\" according to structural balance theory?"
   ]
  },
  {
   "cell_type": "code",
   "execution_count": 31,
   "id": "f858e94c",
   "metadata": {},
   "outputs": [
    {
     "name": "stdout",
     "output_type": "stream",
     "text": [
      "Fraction of triangles that are 'balanced' according to structural balance theory: 0.8554\n"
     ]
    }
   ],
   "source": [
    "# 2.3\n",
    "def is_balanced(T, col=\"VOT\", strict: bool = False):\n",
    "    assert len(T.nodes()) == 3\n",
    "    assert len(T.edges()) == 3\n",
    "    votes = [attr[col] for _, _, attr in list(T.edges(data=True))]\n",
    "    if strict:\n",
    "        return True if sum(votes) != 1 else False\n",
    "    return True if sum(votes) not in [1, -3] else False\n",
    "\n",
    "num_balanced = 0\n",
    "for triangle in triangles:\n",
    "    T = G_2004.subgraph(triangle)\n",
    "    num_balanced += is_balanced(T)\n",
    "\n",
    "print(f\"Fraction of triangles that are 'balanced' according to structural balance theory: {num_balanced / len(triangles):.4f}\")"
   ]
  },
  {
   "cell_type": "markdown",
   "id": "97e6f9f0",
   "metadata": {},
   "source": [
    "**2.4** To observe how triangle configurations would be distributed under a random null model, do the following:\n",
    "- Create a new column `VOT_RND` in the dataframe, where RfA votes (i.e., edge signs in the graph) are shuffled, i.e., permuted randomly.  For shuffling, use `numpy.random`, without replacement and with the seed 32 (see code provided below).\n",
    "- Create a new edge attribute with the values of `VOT_RND` in the graph you created in task **1.4**. You can do this easily using the  [`set_edge_attributes`](https://networkx.org/documentation/stable/reference/generated/networkx.classes.function.set_edge_attributes.html) function.\n",
    "- Considering the shuffled edge signs,  compute the fraction of triangles in each configuration ($\\{+,+,+\\}$,  $\\{-,-,-\\}$,  $\\{+,+,-\\}$, $\\{+,-,-\\}$). Moreover, compute the fraction of triangles that are \"balanced\" according to structural balance theory. (Reminder: consider only the RfAs of 2004.)\n"
   ]
  },
  {
   "cell_type": "code",
   "execution_count": 32,
   "id": "8b4cba61",
   "metadata": {},
   "outputs": [],
   "source": [
    "# PROVIDED STUB FOR 2.4\n",
    "import numpy as np\n",
    "np.random.seed(32)\n",
    "df_2004 = df[df.YEA == 2004].copy(deep=True)\n",
    "df_2004[\"VOT_RND\"] = np.random.choice(df_2004[\"VOT\"].values, size=len(df_2004), replace=False)"
   ]
  },
  {
   "cell_type": "code",
   "execution_count": 34,
   "id": "49cf240b",
   "metadata": {},
   "outputs": [
    {
     "name": "stdout",
     "output_type": "stream",
     "text": [
      "Fraction of triangles that are 'balanced' according to strict structural balance theory: 0.720\n"
     ]
    }
   ],
   "source": [
    "# Create new edge attributes\n",
    "G_2004 = nx.from_pandas_edgelist(df_2004, \"SRC\", \"TGT\", edge_attr=[\"VOT\", \"YEA\", \"DAT\", \"TXT\", \"VOT_RND\"])\n",
    "\n",
    "# Count balanced triangled according to strict structural balance theory\n",
    "num_balanced = 0\n",
    "for triangle in triangles:\n",
    "    T = G_2004.subgraph(triangle)\n",
    "    num_balanced += is_balanced(T, col=\"VOT_RND\", strict=False)\n",
    "\n",
    "print(f\"Fraction of triangles that are 'balanced' according to strict structural balance theory: {num_balanced / len(triangles):.3f}\")"
   ]
  },
  {
   "cell_type": "markdown",
   "id": "f055a145",
   "metadata": {},
   "source": [
    "**2.5** **/Discuss:/** Do the results of tasks **2.3** and **2.4** suggest that structural balance theory is correct? What kind of subsequent analysis would make you trust that the results are not obtained simply by chance? (No need to actually perform that subsequent analysis here.) Justify your answer."
   ]
  },
  {
   "cell_type": "markdown",
   "id": "dcd070a6",
   "metadata": {},
   "source": [
    "**A2.5** The results do suggest that the structural balance applies to the given graph as the permutation of the votes leads to a significant decrease in the number of balanced triangles. However, we would need to perform more statistical tests to quantify the uncertainty of the results."
   ]
  },
  {
   "cell_type": "markdown",
   "id": "d5252ffb",
   "metadata": {},
   "source": [
    "### Interlude: Additional data\n",
    "\n",
    "In the data provided in the file `wiki-RfA.csv.gz` (with which you’ve worked up to now), each column corresponds to a vote from a user $u$ to a user $v$ at a time $t$. \n",
    "\n",
    "In **Task 2**, we did not consider the temporal aspect of this network. For the next task, you are provided with a complimentary dataset (`data/wiki-RfA_extra.csv.gz`) containing, for each vote (uniquely determined by `SRC` and `TGT`), a variety of features. **Importantly, these features were calculated considering only data that was already available at the time when the respective vote was cast.** The features are described as follows.\n",
    "\n",
    "- `PP`, `NN`, `PN` — Each vote (signed edge) is part of zero or more triangles, and we computed the number of triangles in which the two remaining edges were both positive (`PP`), both negative (`NN`) and of different signs (i.e., one positive and one negative, `PN`). This considers only the votes the target (denoted by `TGT`) has received before the current vote. \n",
    "\n",
    "- `P`, `N` — The number of positive (`P`) and negative (`N`) votes that the target `TGT` received before the current vote.\n",
    "\n",
    "- `TXT_PROCESSED` — The text in the original dataset, processed so 1) it is entirely lower-case, 2) it does not contain non-alphanumeric characters, and 3) it does not contain words starting with “supp” or “opp” (since words such as \"support\" and \"oppose\"  are obvious give-away signals of the vote).\n",
    "\n",
    "### Interlude: Predicting edge signs with structural balance theory\n",
    "\n",
    "We can use structural balance theory to predict edge signs. \n",
    "\n",
    "Consider an edge whose sign we do not know, as well as the fractions `PP`, `NN`, and `PN` associated with the edge, as defined above. \n",
    "\n",
    "According to structural balance theory, if `PP` + `NN` $\\geq$ `PN`, the vote is predicted to be positive, as this will create more balanced triangles in the graph. Otherwise, it is predicted to be negative. \n",
    "\n",
    "According to the weak structural balance theory, if `PP` $\\geq$ `PN`, the vote is predicted to be positive, as this will create more balanced triangles in the graph. Otherwise, it is predicted to be negative. \n",
    "\n",
    "Note that in both cases we use “$\\geq$” rather than “<”, i.e., when both sides of the equation are equal, we break ties in favor of positive edges. We do so because there are more positive edges in the graph."
   ]
  },
  {
   "cell_type": "markdown",
   "id": "e2f20eed",
   "metadata": {},
   "source": [
    "### Task 3: Predict it!\n",
    "\n",
    "In the final part of the exam, you will leverage your machine learning and regression skills.\n",
    "\n",
    "**3.1** Merge the new dataset with the original dataframe from task **1** using the columns `SRC` and `TGT`. You may drop the old `TXT` column if you want to. \n"
   ]
  },
  {
   "cell_type": "code",
   "execution_count": 41,
   "id": "a2272113",
   "metadata": {},
   "outputs": [
    {
     "data": {
      "text/html": [
       "<div>\n",
       "<style scoped>\n",
       "    .dataframe tbody tr th:only-of-type {\n",
       "        vertical-align: middle;\n",
       "    }\n",
       "\n",
       "    .dataframe tbody tr th {\n",
       "        vertical-align: top;\n",
       "    }\n",
       "\n",
       "    .dataframe thead th {\n",
       "        text-align: right;\n",
       "    }\n",
       "</style>\n",
       "<table border=\"1\" class=\"dataframe\">\n",
       "  <thead>\n",
       "    <tr style=\"text-align: right;\">\n",
       "      <th></th>\n",
       "      <th>SRC</th>\n",
       "      <th>TGT</th>\n",
       "      <th>VOT</th>\n",
       "      <th>RES</th>\n",
       "      <th>YEA_x</th>\n",
       "      <th>DAT</th>\n",
       "      <th>TXT</th>\n",
       "      <th>YEA_y</th>\n",
       "      <th>PP</th>\n",
       "      <th>NN</th>\n",
       "      <th>PN</th>\n",
       "      <th>N</th>\n",
       "      <th>P</th>\n",
       "      <th>TXT_PROCESSED</th>\n",
       "    </tr>\n",
       "  </thead>\n",
       "  <tbody>\n",
       "    <tr>\n",
       "      <th>0</th>\n",
       "      <td>5943</td>\n",
       "      <td>9966</td>\n",
       "      <td>-1</td>\n",
       "      <td>-1</td>\n",
       "      <td>2012</td>\n",
       "      <td>2012-12-30 22:27:00</td>\n",
       "      <td>—</td>\n",
       "      <td>2012</td>\n",
       "      <td>2</td>\n",
       "      <td>0</td>\n",
       "      <td>4</td>\n",
       "      <td>12</td>\n",
       "      <td>0</td>\n",
       "      <td></td>\n",
       "    </tr>\n",
       "    <tr>\n",
       "      <th>1</th>\n",
       "      <td>9153</td>\n",
       "      <td>9966</td>\n",
       "      <td>-1</td>\n",
       "      <td>-1</td>\n",
       "      <td>2012</td>\n",
       "      <td>2012-12-30 22:25:00</td>\n",
       "      <td>'''Oppose'''. This joke really isn't funny, no...</td>\n",
       "      <td>2012</td>\n",
       "      <td>2</td>\n",
       "      <td>1</td>\n",
       "      <td>3</td>\n",
       "      <td>11</td>\n",
       "      <td>0</td>\n",
       "      <td>this joke really isn t funny not even if you ...</td>\n",
       "    </tr>\n",
       "    <tr>\n",
       "      <th>2</th>\n",
       "      <td>4189</td>\n",
       "      <td>9966</td>\n",
       "      <td>-1</td>\n",
       "      <td>-1</td>\n",
       "      <td>2012</td>\n",
       "      <td>2012-12-30 22:17:00</td>\n",
       "      <td>'''Oppose''' as per nomination and answers. --...</td>\n",
       "      <td>2012</td>\n",
       "      <td>0</td>\n",
       "      <td>0</td>\n",
       "      <td>2</td>\n",
       "      <td>10</td>\n",
       "      <td>0</td>\n",
       "      <td>as per nomination and answers</td>\n",
       "    </tr>\n",
       "  </tbody>\n",
       "</table>\n",
       "</div>"
      ],
      "text/plain": [
       "    SRC   TGT  VOT  RES  YEA_x                 DAT  \\\n",
       "0  5943  9966   -1   -1   2012 2012-12-30 22:27:00   \n",
       "1  9153  9966   -1   -1   2012 2012-12-30 22:25:00   \n",
       "2  4189  9966   -1   -1   2012 2012-12-30 22:17:00   \n",
       "\n",
       "                                                 TXT  YEA_y  PP  NN  PN   N  \\\n",
       "0                                                  —   2012   2   0   4  12   \n",
       "1  '''Oppose'''. This joke really isn't funny, no...   2012   2   1   3  11   \n",
       "2  '''Oppose''' as per nomination and answers. --...   2012   0   0   2  10   \n",
       "\n",
       "   P                                      TXT_PROCESSED  \n",
       "0  0                                                     \n",
       "1  0   this joke really isn t funny not even if you ...  \n",
       "2  0                     as per nomination and answers   "
      ]
     },
     "execution_count": 41,
     "metadata": {},
     "output_type": "execute_result"
    }
   ],
   "source": [
    "# 3.1\n",
    "# Load additional dataframe\n",
    "add_df = pd.read_csv(\"wiki-RfA_extra.csv.gz\")\n",
    "\n",
    "# Merge with old dataframe on SRC and TGT\n",
    "merged_df = df.merge(add_df, on=[\"SRC\", \"TGT\"])\n",
    "\n",
    "# Display first three rows\n",
    "merged_df.head(3)"
   ]
  },
  {
   "cell_type": "markdown",
   "id": "c5d42a2d",
   "metadata": {},
   "source": [
    "**3.2**  Create the following two rule-based classifiers, and for each, estimate its area under the ROC curve (a.k.a. “AUC/ROC”) on the entire dataset:\n",
    "\n",
    "- **A)** a classifier inspired by structural balance theory. The classifier should predict a positive vote if  `PP` + `NN` $\\geq$ `PN`, and a negative vote otherwise.\n",
    "- **B)** a classifier inspired by weak structural balance theory. The classifier should predict a positive vote if `PP`  $\\geq$ `PN` and a negative vote otherwise."
   ]
  },
  {
   "cell_type": "code",
   "execution_count": 50,
   "id": "44643421",
   "metadata": {},
   "outputs": [
    {
     "name": "stdout",
     "output_type": "stream",
     "text": [
      "ROC-AUC of classifier according to structural balance theory: 0.525390127858417\n",
      "ROC-AUC of classifier according to weak structural balance theory: 0.528036104766419\n"
     ]
    }
   ],
   "source": [
    "from sklearn.metrics import roc_auc_score\n",
    "\n",
    "def clf1(df):\n",
    "    return (df[\"PP\"] + df[\"NN\"] >= df[\"PN\"]).astype(int).map({0: -1, 1: 1})\n",
    "\n",
    "def clf2(df):\n",
    "    return (df[\"PP\"] >= df[\"PN\"]).astype(int).map({0: -1, 1: 1})\n",
    "\n",
    "votes1 = clf1(merged_df)\n",
    "votes2 = clf2(merged_df)\n",
    "targets = merged_df[\"VOT\"]\n",
    "\n",
    "rocauc1 = roc_auc_score(targets, votes1)\n",
    "rocauc2 = roc_auc_score(targets, votes2)\n",
    "print(f\"ROC-AUC of classifier according to structural balance theory: {rocauc1}\")\n",
    "print(f\"ROC-AUC of classifier according to weak structural balance theory: {rocauc2}\")"
   ]
  },
  {
   "cell_type": "markdown",
   "id": "0161ec09",
   "metadata": {},
   "source": [
    "**3.3** To determine if the differences in the classifiers from task **3.2** occur solely due to chance, follow the following bootstrap procedure, using 200 iterations:\n",
    "\n",
    "- **A)** Randomly sample the entire dataset (i.e., votes from the dataframe constructed in task **3.1**) with replacement;\n",
    "- **B)** Compute the difference of the AUC/ROC for the two classifiers on the entire dataset.\n",
    "\n",
    "Then use the distribution of AUC/ROC differences (one difference per bootstrap iteration) to estimate the 95% confidence interval for the AUC/ROC difference."
   ]
  },
  {
   "cell_type": "code",
   "execution_count": 58,
   "id": "817ee28f",
   "metadata": {},
   "outputs": [
    {
     "name": "stdout",
     "output_type": "stream",
     "text": [
      "0.002347380426158452 0.0028907883335633766\n"
     ]
    }
   ],
   "source": [
    "alpha = 0.05\n",
    "M = 200\n",
    "N = len(merged_df)\n",
    "aucroc_diffs = []\n",
    "for m in range(M):\n",
    "    # Construct bootstrap sample\n",
    "    bootstrapped_df = merged_df.iloc[np.random.randint(N, size=N)]\n",
    "    votes1 = clf1(bootstrapped_df)\n",
    "    votes2 = clf2(bootstrapped_df)\n",
    "    targets = bootstrapped_df[\"VOT\"]\n",
    "    aucroc_1 = roc_auc_score(targets, votes1)\n",
    "    aucroc_2 = roc_auc_score(targets, votes2)\n",
    "    aucroc_diffs.append(aucroc_2 - aucroc_1)\n",
    "\n",
    "n = 200 * alpha\n",
    "lo, hi = int(n//2), int(M-(n//2))\n",
    "sorted_auc_roc_diffs = sorted(aucroc_diffs)\n",
    "print(sorted_auc_roc_diffs[lo], sorted_auc_roc_diffs[hi])"
   ]
  },
  {
   "cell_type": "markdown",
   "id": "4d0e1569",
   "metadata": {},
   "source": [
    "**3.4 ** **/Discuss:**/ According to the results in tasks **3.2** and **3.3**, which theory better predicts actual edge signs, structural balance theory or the weak structural balance theory? \n"
   ]
  },
  {
   "cell_type": "markdown",
   "id": "94b39801",
   "metadata": {},
   "source": [
    "**A3.4** Both theories are similarly good at predicting the edge signs. However, from the bootstrap results we find that the incrase in ROC-AUC score by ~0.002 weak structural balance theory is statistically significant and we are 95% that the true value is within the interval (0.0023, 0.0028)."
   ]
  },
  {
   "cell_type": "markdown",
   "id": "28d37dc1",
   "metadata": {},
   "source": [
    "**3.5** How accurately can we predict the vote with more sophisticated features and algorithms?\n",
    "\n",
    "- Create a TF-IDF representation of the text of each vote  using `sklearn`'s vectorizer ([`sklearn.feature_extraction.text.TfidfVectorizer`](https://scikit-learn.org/stable/modules/generated/sklearn.feature_extraction.text.TfidfVectorizer.html)) with the parameters `max_features=150` and `stop_words='english'`.\n",
    "- Split the  dataset into training and test sets using sklearn [`sklearn.model_selection.train_test_split`](https://scikit-learn.org/stable/modules/generated/sklearn.model_selection.train_test_split.html) using parameters `test_size=0.1` and  `random_state=42`.\n",
    "\n",
    "- Then, train two logistic regression models ([`sklearn.linear_model.SGDClassifier`](https://scikit-learn.org/stable/modules/generated/sklearn.linear_model.SGDClassifier.html)) using parameters `loss='log_loss'` and `max_iter=2000` considering:\n",
    "\n",
    "    - **1)** the TF-IDF feature vector\n",
    "\n",
    "    - **2)** the TF-IDF feature vector and the features `PP`, `NN`, `PN`, `P`, and `N` related to the graph.\n",
    "\n",
    "- Last, report the AUC/ROC of each model in the test set."
   ]
  },
  {
   "cell_type": "code",
   "execution_count": 81,
   "id": "764a00f3",
   "metadata": {},
   "outputs": [
    {
     "data": {
      "text/plain": [
       "(0.5, 0.7457441527027779)"
      ]
     },
     "execution_count": 81,
     "metadata": {},
     "output_type": "execute_result"
    }
   ],
   "source": [
    "# 3.5\n",
    "from sklearn.feature_extraction.text import TfidfVectorizer\n",
    "from sklearn.model_selection import train_test_split\n",
    "from sklearn.linear_model import SGDClassifier\n",
    "\n",
    "targets = merged_df[\"VOT\"]\n",
    "texts = merged_df[\"TXT_PROCESSED\"].fillna(\"\").tolist()\n",
    "additional_features = merged_df[[\"PP\", \"NN\", \"PN\", \"P\", \"N\"]]\n",
    "\n",
    "tfidf = TfidfVectorizer(max_features=150, stop_words=\"english\")\n",
    "X = tfidf.fit_transform(texts)\n",
    "y = targets\n",
    "XA = np.array(np.hstack([X.todense(), additional_features.values]))\n",
    "\n",
    "X_train, X_test, y_train, y_test = train_test_split(X, y)\n",
    "XA_train, XA_test, y_train, y_test = train_test_split(XA, y)\n",
    "\n",
    "sgd1 = SGDClassifier(loss=\"log_loss\", max_iter=2000)\n",
    "sgd2 = SGDClassifier(loss=\"log_loss\", max_iter=2000)\n",
    "\n",
    "sgd1.fit(X_train, y_train)\n",
    "sgd2.fit(XA_train, y_train)\n",
    "\n",
    "preds1 = sgd1.predict(X_test)\n",
    "preds2 = sgd2.predict(XA_test)\n",
    "\n",
    "rocauc1 = roc_auc_score(y_test, preds1)\n",
    "rocauc2 = roc_auc_score(y_test, preds2)\n",
    "\n",
    "rocauc1, rocauc2"
   ]
  },
  {
   "cell_type": "markdown",
   "id": "898cbdd1",
   "metadata": {},
   "source": [
    "**3.6** **/Discuss:**/  According to the results in task **3.5**, does information from the graph help in the task of predicting the vote even when using the text?  What kind of subsequent analysis would make you trust that the results are not obtained simply by chance? (No need to actually perform that subsequent analysis here.) "
   ]
  },
  {
   "cell_type": "markdown",
   "id": "6b6767ad",
   "metadata": {},
   "source": [
    "**A3.6** Yes, the analysis shows that the information from the graph helps in predicting the vote even when using the text. We would need to perform more statistical tests to quantify the uncertainty of the results."
   ]
  },
  {
   "cell_type": "markdown",
   "id": "7f51071d",
   "metadata": {},
   "source": [
    "**3.7** Putting on your observational studies hat, run two logistic regressions using `statsmodels`.\n",
    "- In the first regression, the vote is the outcome, and `PP`, `NN` and `PN` are the predictors.\n",
    "- In the second regression, the vote is the outcome, and `PP`, `NN`, `PN`, and `N` are the predictors."
   ]
  },
  {
   "cell_type": "code",
   "execution_count": 84,
   "id": "9f8df411",
   "metadata": {},
   "outputs": [],
   "source": [
    "# 3.7\n",
    "import statsmodels.formula.api as smf\n",
    "\n",
    "# Convert to binary outcome\n",
    "merged_df[\"VOT2\"] = (merged_df.VOT == 1).values.astype(int)"
   ]
  },
  {
   "cell_type": "code",
   "execution_count": 85,
   "id": "d1e5031a",
   "metadata": {},
   "outputs": [
    {
     "name": "stdout",
     "output_type": "stream",
     "text": [
      "Optimization terminated successfully.\n",
      "         Current function value: 0.514594\n",
      "         Iterations 7\n"
     ]
    },
    {
     "data": {
      "text/html": [
       "<table class=\"simpletable\">\n",
       "<caption>Logit Regression Results</caption>\n",
       "<tr>\n",
       "  <th>Dep. Variable:</th>         <td>VOT2</td>       <th>  No. Observations:  </th>  <td>167003</td> \n",
       "</tr>\n",
       "<tr>\n",
       "  <th>Model:</th>                 <td>Logit</td>      <th>  Df Residuals:      </th>  <td>166999</td> \n",
       "</tr>\n",
       "<tr>\n",
       "  <th>Method:</th>                 <td>MLE</td>       <th>  Df Model:          </th>  <td>     3</td> \n",
       "</tr>\n",
       "<tr>\n",
       "  <th>Date:</th>            <td>Thu, 11 Jan 2024</td> <th>  Pseudo R-squ.:     </th>  <td>0.01804</td>\n",
       "</tr>\n",
       "<tr>\n",
       "  <th>Time:</th>                <td>19:57:54</td>     <th>  Log-Likelihood:    </th> <td> -85939.</td>\n",
       "</tr>\n",
       "<tr>\n",
       "  <th>converged:</th>             <td>True</td>       <th>  LL-Null:           </th> <td> -87517.</td>\n",
       "</tr>\n",
       "<tr>\n",
       "  <th>Covariance Type:</th>     <td>nonrobust</td>    <th>  LLR p-value:       </th>  <td> 0.000</td> \n",
       "</tr>\n",
       "</table>\n",
       "<table class=\"simpletable\">\n",
       "<tr>\n",
       "      <td></td>         <th>coef</th>     <th>std err</th>      <th>z</th>      <th>P>|z|</th>  <th>[0.025</th>    <th>0.975]</th>  \n",
       "</tr>\n",
       "<tr>\n",
       "  <th>Intercept</th> <td>    1.2781</td> <td>    0.006</td> <td>  206.255</td> <td> 0.000</td> <td>    1.266</td> <td>    1.290</td>\n",
       "</tr>\n",
       "<tr>\n",
       "  <th>PP</th>        <td>    0.2493</td> <td>    0.007</td> <td>   34.272</td> <td> 0.000</td> <td>    0.235</td> <td>    0.264</td>\n",
       "</tr>\n",
       "<tr>\n",
       "  <th>NN</th>        <td>   -0.6765</td> <td>    0.040</td> <td>  -16.946</td> <td> 0.000</td> <td>   -0.755</td> <td>   -0.598</td>\n",
       "</tr>\n",
       "<tr>\n",
       "  <th>PN</th>        <td>   -0.5509</td> <td>    0.014</td> <td>  -40.304</td> <td> 0.000</td> <td>   -0.578</td> <td>   -0.524</td>\n",
       "</tr>\n",
       "</table>"
      ],
      "text/latex": [
       "\\begin{center}\n",
       "\\begin{tabular}{lclc}\n",
       "\\toprule\n",
       "\\textbf{Dep. Variable:}   &       VOT2       & \\textbf{  No. Observations:  } &   167003    \\\\\n",
       "\\textbf{Model:}           &      Logit       & \\textbf{  Df Residuals:      } &   166999    \\\\\n",
       "\\textbf{Method:}          &       MLE        & \\textbf{  Df Model:          } &        3    \\\\\n",
       "\\textbf{Date:}            & Thu, 11 Jan 2024 & \\textbf{  Pseudo R-squ.:     } &  0.01804    \\\\\n",
       "\\textbf{Time:}            &     19:57:54     & \\textbf{  Log-Likelihood:    } &   -85939.   \\\\\n",
       "\\textbf{converged:}       &       True       & \\textbf{  LL-Null:           } &   -87517.   \\\\\n",
       "\\textbf{Covariance Type:} &    nonrobust     & \\textbf{  LLR p-value:       } &    0.000    \\\\\n",
       "\\bottomrule\n",
       "\\end{tabular}\n",
       "\\begin{tabular}{lcccccc}\n",
       "                   & \\textbf{coef} & \\textbf{std err} & \\textbf{z} & \\textbf{P$> |$z$|$} & \\textbf{[0.025} & \\textbf{0.975]}  \\\\\n",
       "\\midrule\n",
       "\\textbf{Intercept} &       1.2781  &        0.006     &   206.255  &         0.000        &        1.266    &        1.290     \\\\\n",
       "\\textbf{PP}        &       0.2493  &        0.007     &    34.272  &         0.000        &        0.235    &        0.264     \\\\\n",
       "\\textbf{NN}        &      -0.6765  &        0.040     &   -16.946  &         0.000        &       -0.755    &       -0.598     \\\\\n",
       "\\textbf{PN}        &      -0.5509  &        0.014     &   -40.304  &         0.000        &       -0.578    &       -0.524     \\\\\n",
       "\\bottomrule\n",
       "\\end{tabular}\n",
       "%\\caption{Logit Regression Results}\n",
       "\\end{center}"
      ],
      "text/plain": [
       "<class 'statsmodels.iolib.summary.Summary'>\n",
       "\"\"\"\n",
       "                           Logit Regression Results                           \n",
       "==============================================================================\n",
       "Dep. Variable:                   VOT2   No. Observations:               167003\n",
       "Model:                          Logit   Df Residuals:                   166999\n",
       "Method:                           MLE   Df Model:                            3\n",
       "Date:                Thu, 11 Jan 2024   Pseudo R-squ.:                 0.01804\n",
       "Time:                        19:57:54   Log-Likelihood:                -85939.\n",
       "converged:                       True   LL-Null:                       -87517.\n",
       "Covariance Type:            nonrobust   LLR p-value:                     0.000\n",
       "==============================================================================\n",
       "                 coef    std err          z      P>|z|      [0.025      0.975]\n",
       "------------------------------------------------------------------------------\n",
       "Intercept      1.2781      0.006    206.255      0.000       1.266       1.290\n",
       "PP             0.2493      0.007     34.272      0.000       0.235       0.264\n",
       "NN            -0.6765      0.040    -16.946      0.000      -0.755      -0.598\n",
       "PN            -0.5509      0.014    -40.304      0.000      -0.578      -0.524\n",
       "==============================================================================\n",
       "\"\"\""
      ]
     },
     "execution_count": 85,
     "metadata": {},
     "output_type": "execute_result"
    }
   ],
   "source": [
    "lm1 = smf.logit(\"VOT2 ~ PP + NN + PN\" , data=merged_df).fit()\n",
    "lm1.summary()"
   ]
  },
  {
   "cell_type": "code",
   "execution_count": 86,
   "id": "c8922a70",
   "metadata": {},
   "outputs": [
    {
     "name": "stdout",
     "output_type": "stream",
     "text": [
      "Optimization terminated successfully.\n",
      "         Current function value: 0.487994\n",
      "         Iterations 7\n"
     ]
    },
    {
     "data": {
      "text/html": [
       "<table class=\"simpletable\">\n",
       "<caption>Logit Regression Results</caption>\n",
       "<tr>\n",
       "  <th>Dep. Variable:</th>         <td>VOT2</td>       <th>  No. Observations:  </th>  <td>167003</td> \n",
       "</tr>\n",
       "<tr>\n",
       "  <th>Model:</th>                 <td>Logit</td>      <th>  Df Residuals:      </th>  <td>166998</td> \n",
       "</tr>\n",
       "<tr>\n",
       "  <th>Method:</th>                 <td>MLE</td>       <th>  Df Model:          </th>  <td>     4</td> \n",
       "</tr>\n",
       "<tr>\n",
       "  <th>Date:</th>            <td>Thu, 11 Jan 2024</td> <th>  Pseudo R-squ.:     </th>  <td>0.06880</td>\n",
       "</tr>\n",
       "<tr>\n",
       "  <th>Time:</th>                <td>19:57:55</td>     <th>  Log-Likelihood:    </th> <td> -81496.</td>\n",
       "</tr>\n",
       "<tr>\n",
       "  <th>converged:</th>             <td>True</td>       <th>  LL-Null:           </th> <td> -87517.</td>\n",
       "</tr>\n",
       "<tr>\n",
       "  <th>Covariance Type:</th>     <td>nonrobust</td>    <th>  LLR p-value:       </th>  <td> 0.000</td> \n",
       "</tr>\n",
       "</table>\n",
       "<table class=\"simpletable\">\n",
       "<tr>\n",
       "      <td></td>         <th>coef</th>     <th>std err</th>      <th>z</th>      <th>P>|z|</th>  <th>[0.025</th>    <th>0.975]</th>  \n",
       "</tr>\n",
       "<tr>\n",
       "  <th>Intercept</th> <td>    1.6227</td> <td>    0.008</td> <td>  212.945</td> <td> 0.000</td> <td>    1.608</td> <td>    1.638</td>\n",
       "</tr>\n",
       "<tr>\n",
       "  <th>PP</th>        <td>    0.2535</td> <td>    0.008</td> <td>   33.344</td> <td> 0.000</td> <td>    0.239</td> <td>    0.268</td>\n",
       "</tr>\n",
       "<tr>\n",
       "  <th>NN</th>        <td>   -0.5466</td> <td>    0.040</td> <td>  -13.631</td> <td> 0.000</td> <td>   -0.625</td> <td>   -0.468</td>\n",
       "</tr>\n",
       "<tr>\n",
       "  <th>PN</th>        <td>   -0.4561</td> <td>    0.014</td> <td>  -33.013</td> <td> 0.000</td> <td>   -0.483</td> <td>   -0.429</td>\n",
       "</tr>\n",
       "<tr>\n",
       "  <th>N</th>         <td>   -0.0438</td> <td>    0.000</td> <td>  -89.263</td> <td> 0.000</td> <td>   -0.045</td> <td>   -0.043</td>\n",
       "</tr>\n",
       "</table>"
      ],
      "text/latex": [
       "\\begin{center}\n",
       "\\begin{tabular}{lclc}\n",
       "\\toprule\n",
       "\\textbf{Dep. Variable:}   &       VOT2       & \\textbf{  No. Observations:  } &   167003    \\\\\n",
       "\\textbf{Model:}           &      Logit       & \\textbf{  Df Residuals:      } &   166998    \\\\\n",
       "\\textbf{Method:}          &       MLE        & \\textbf{  Df Model:          } &        4    \\\\\n",
       "\\textbf{Date:}            & Thu, 11 Jan 2024 & \\textbf{  Pseudo R-squ.:     } &  0.06880    \\\\\n",
       "\\textbf{Time:}            &     19:57:55     & \\textbf{  Log-Likelihood:    } &   -81496.   \\\\\n",
       "\\textbf{converged:}       &       True       & \\textbf{  LL-Null:           } &   -87517.   \\\\\n",
       "\\textbf{Covariance Type:} &    nonrobust     & \\textbf{  LLR p-value:       } &    0.000    \\\\\n",
       "\\bottomrule\n",
       "\\end{tabular}\n",
       "\\begin{tabular}{lcccccc}\n",
       "                   & \\textbf{coef} & \\textbf{std err} & \\textbf{z} & \\textbf{P$> |$z$|$} & \\textbf{[0.025} & \\textbf{0.975]}  \\\\\n",
       "\\midrule\n",
       "\\textbf{Intercept} &       1.6227  &        0.008     &   212.945  &         0.000        &        1.608    &        1.638     \\\\\n",
       "\\textbf{PP}        &       0.2535  &        0.008     &    33.344  &         0.000        &        0.239    &        0.268     \\\\\n",
       "\\textbf{NN}        &      -0.5466  &        0.040     &   -13.631  &         0.000        &       -0.625    &       -0.468     \\\\\n",
       "\\textbf{PN}        &      -0.4561  &        0.014     &   -33.013  &         0.000        &       -0.483    &       -0.429     \\\\\n",
       "\\textbf{N}         &      -0.0438  &        0.000     &   -89.263  &         0.000        &       -0.045    &       -0.043     \\\\\n",
       "\\bottomrule\n",
       "\\end{tabular}\n",
       "%\\caption{Logit Regression Results}\n",
       "\\end{center}"
      ],
      "text/plain": [
       "<class 'statsmodels.iolib.summary.Summary'>\n",
       "\"\"\"\n",
       "                           Logit Regression Results                           \n",
       "==============================================================================\n",
       "Dep. Variable:                   VOT2   No. Observations:               167003\n",
       "Model:                          Logit   Df Residuals:                   166998\n",
       "Method:                           MLE   Df Model:                            4\n",
       "Date:                Thu, 11 Jan 2024   Pseudo R-squ.:                 0.06880\n",
       "Time:                        19:57:55   Log-Likelihood:                -81496.\n",
       "converged:                       True   LL-Null:                       -87517.\n",
       "Covariance Type:            nonrobust   LLR p-value:                     0.000\n",
       "==============================================================================\n",
       "                 coef    std err          z      P>|z|      [0.025      0.975]\n",
       "------------------------------------------------------------------------------\n",
       "Intercept      1.6227      0.008    212.945      0.000       1.608       1.638\n",
       "PP             0.2535      0.008     33.344      0.000       0.239       0.268\n",
       "NN            -0.5466      0.040    -13.631      0.000      -0.625      -0.468\n",
       "PN            -0.4561      0.014    -33.013      0.000      -0.483      -0.429\n",
       "N             -0.0438      0.000    -89.263      0.000      -0.045      -0.043\n",
       "==============================================================================\n",
       "\"\"\""
      ]
     },
     "execution_count": 86,
     "metadata": {},
     "output_type": "execute_result"
    }
   ],
   "source": [
    "lm2 = smf.logit(\"VOT2 ~ PP + NN + PN + N\", data=merged_df).fit()\n",
    "lm2.summary()"
   ]
  },
  {
   "cell_type": "markdown",
   "id": "db15d090",
   "metadata": {},
   "source": [
    "**3.8** **/Discuss:**/   Explain what the coefficient associated with `PP` means in the first regression. Is it in accordance with structural balance theory?"
   ]
  },
  {
   "cell_type": "markdown",
   "id": "48845787",
   "metadata": {},
   "source": [
    "**A3.8** The coefficient in the regression indicates the change in the outcome (here the probability that the vote was positive) for a one-unit additive increase in the PP feature, i.e. the number of triangles in which the two remaining edges were both positive. The coefficient is positive, which means that the probability of a positive vote increases with the number of positive triangles. This is in accordance with structural balance theory."
   ]
  },
  {
   "cell_type": "markdown",
   "id": "49752dbb",
   "metadata": {},
   "source": [
    "**3.9** **/Discuss:**/   Compare the coefficients associated with `PN` and `NN` in the first vs. the second regression. Present a reason that may explain this difference."
   ]
  },
  {
   "cell_type": "markdown",
   "id": "8ab7612b",
   "metadata": {},
   "source": [
    "**A3.9**  Both coefficients are smaller in the second regression model which includes the `N` predictor. It is therefore likely that `N` was previously an unobserved covariate that may have confounded the relationship between `PN` and `NN` and the outcome. This is because `N` is correlated with both `PN` and `NN` and it is also correlated with the outcome. Hence, the coefficient of `PN` and `NN` in the first regression model is biased and the second regression model is more accurate."
   ]
  },
  {
   "cell_type": "markdown",
   "id": "207c9147",
   "metadata": {},
   "source": [
    "---"
   ]
  }
 ],
 "metadata": {
  "kernelspec": {
   "display_name": "adaexam",
   "language": "python",
   "name": "python3"
  },
  "language_info": {
   "codemirror_mode": {
    "name": "ipython",
    "version": 3
   },
   "file_extension": ".py",
   "mimetype": "text/x-python",
   "name": "python",
   "nbconvert_exporter": "python",
   "pygments_lexer": "ipython3",
   "version": "3.9.16"
  }
 },
 "nbformat": 4,
 "nbformat_minor": 5
}
