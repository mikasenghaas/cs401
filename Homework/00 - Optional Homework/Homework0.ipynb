{
 "cells": [
  {
   "cell_type": "markdown",
   "metadata": {},
   "source": [
    "# Homework 0\n",
    "\n",
    "We will analyse the following [dataset](https://github.com/fivethirtyeight/guns-data/blob/master/interactive_data.csv) and try to reproduce the results from this [article](http://fivethirtyeight.com/features/gun-deaths/)."
   ]
  },
  {
   "cell_type": "code",
   "execution_count": 1,
   "metadata": {},
   "outputs": [],
   "source": [
    "# imports\n",
    "import numpy as np\n",
    "import pandas as pd\n",
    "import seaborn as sns"
   ]
  },
  {
   "cell_type": "code",
   "execution_count": 2,
   "metadata": {},
   "outputs": [
    {
     "data": {
      "text/html": [
       "<div>\n",
       "<style scoped>\n",
       "    .dataframe tbody tr th:only-of-type {\n",
       "        vertical-align: middle;\n",
       "    }\n",
       "\n",
       "    .dataframe tbody tr th {\n",
       "        vertical-align: top;\n",
       "    }\n",
       "\n",
       "    .dataframe thead th {\n",
       "        text-align: right;\n",
       "    }\n",
       "</style>\n",
       "<table border=\"1\" class=\"dataframe\">\n",
       "  <thead>\n",
       "    <tr style=\"text-align: right;\">\n",
       "      <th></th>\n",
       "      <th>Intent</th>\n",
       "      <th>Gender</th>\n",
       "      <th>Age</th>\n",
       "      <th>Race</th>\n",
       "      <th>Deaths</th>\n",
       "      <th>Population</th>\n",
       "      <th>Rate</th>\n",
       "    </tr>\n",
       "  </thead>\n",
       "  <tbody>\n",
       "    <tr>\n",
       "      <th>1</th>\n",
       "      <td>None selected</td>\n",
       "      <td>None selected</td>\n",
       "      <td>None selected</td>\n",
       "      <td>None selected</td>\n",
       "      <td>33599</td>\n",
       "      <td>316299978</td>\n",
       "      <td>10.6</td>\n",
       "    </tr>\n",
       "    <tr>\n",
       "      <th>2</th>\n",
       "      <td>None selected</td>\n",
       "      <td>None selected</td>\n",
       "      <td>None selected</td>\n",
       "      <td>White</td>\n",
       "      <td>22079</td>\n",
       "      <td>197369634</td>\n",
       "      <td>11.2</td>\n",
       "    </tr>\n",
       "    <tr>\n",
       "      <th>3</th>\n",
       "      <td>None selected</td>\n",
       "      <td>None selected</td>\n",
       "      <td>None selected</td>\n",
       "      <td>Black</td>\n",
       "      <td>7765</td>\n",
       "      <td>38896382</td>\n",
       "      <td>20.0</td>\n",
       "    </tr>\n",
       "    <tr>\n",
       "      <th>4</th>\n",
       "      <td>None selected</td>\n",
       "      <td>None selected</td>\n",
       "      <td>None selected</td>\n",
       "      <td>Hispanic</td>\n",
       "      <td>3007</td>\n",
       "      <td>54049078</td>\n",
       "      <td>5.6</td>\n",
       "    </tr>\n",
       "    <tr>\n",
       "      <th>5</th>\n",
       "      <td>None selected</td>\n",
       "      <td>None selected</td>\n",
       "      <td>None selected</td>\n",
       "      <td>Asian/Pacific Islander</td>\n",
       "      <td>442</td>\n",
       "      <td>16315561</td>\n",
       "      <td>2.7</td>\n",
       "    </tr>\n",
       "  </tbody>\n",
       "</table>\n",
       "</div>"
      ],
      "text/plain": [
       "          Intent         Gender            Age                    Race  \\\n",
       "1  None selected  None selected  None selected           None selected   \n",
       "2  None selected  None selected  None selected                   White   \n",
       "3  None selected  None selected  None selected                   Black   \n",
       "4  None selected  None selected  None selected                Hispanic   \n",
       "5  None selected  None selected  None selected  Asian/Pacific Islander   \n",
       "\n",
       "   Deaths  Population  Rate  \n",
       "1   33599   316299978  10.6  \n",
       "2   22079   197369634  11.2  \n",
       "3    7765    38896382  20.0  \n",
       "4    3007    54049078   5.6  \n",
       "5     442    16315561   2.7  "
      ]
     },
     "execution_count": 2,
     "metadata": {},
     "output_type": "execute_result"
    }
   ],
   "source": [
    "# download and load data\n",
    "url = \"https://raw.githubusercontent.com/fivethirtyeight/guns-data/master/interactive_data.csv\"\n",
    "data = pd.read_csv(url, index_col=0)\n",
    "\n",
    "# display first 5 rows\n",
    "data.head(5)"
   ]
  },
  {
   "cell_type": "code",
   "execution_count": 3,
   "metadata": {},
   "outputs": [
    {
     "name": "stdout",
     "output_type": "stream",
     "text": [
      "Number of rows:  540\n",
      "Number of columns:  7\n"
     ]
    }
   ],
   "source": [
    "# number of rows and cols\n",
    "print(\"Number of rows: \", data.shape[0])\n",
    "print(\"Number of columns: \", data.shape[1])"
   ]
  },
  {
   "cell_type": "code",
   "execution_count": 4,
   "metadata": {},
   "outputs": [
    {
     "name": "stdout",
     "output_type": "stream",
     "text": [
      "Column 0: Intent\n",
      "Column 1: Gender\n",
      "Column 2: Age\n",
      "Column 3: Race\n",
      "Column 4: Deaths\n",
      "Column 5: Population\n",
      "Column 6: Rate\n"
     ]
    }
   ],
   "source": [
    "# columns\n",
    "print(*[f\"Column {i}: {data.columns[i]}\" for i in range(len(data.columns))], sep=\"\\n\")"
   ]
  },
  {
   "cell_type": "markdown",
   "metadata": {},
   "source": [
    "### Claim 1: Nearly two-thirds of gun deaths are suicides\n",
    "\n"
   ]
  },
  {
   "cell_type": "code",
   "execution_count": 5,
   "metadata": {},
   "outputs": [
    {
     "name": "stdout",
     "output_type": "stream",
     "text": [
      "Ratio of gundeaths that are suicides: 62.67%\n"
     ]
    }
   ],
   "source": [
    "suicide_mask = (\n",
    "  (data[\"Intent\"]== \"Suicide\") &\n",
    "  (data[\"Gender\"] == \"None selected\") &\n",
    "  (data[\"Age\"] == \"None selected\") &\n",
    "  (data[\"Race\"] == \"None selected\"))\n",
    "\n",
    "general_mask = (\n",
    "  (data[\"Intent\"] == \"None selected\") &\n",
    "  (data[\"Gender\"] == \"None selected\") &\n",
    "  (data[\"Age\"] == \"None selected\") &\n",
    "  (data[\"Race\"] == \"None selected\"))\n",
    "\n",
    "total_suicides = float(data[suicide_mask][\"Deaths\"].iloc[0])\n",
    "total_gun_deaths = float(data[general_mask][\"Deaths\"].iloc[0])\n",
    "print(f\"Ratio of gundeaths that are suicides: {100 * (total_suicides / total_gun_deaths):.2f}%\")"
   ]
  },
  {
   "cell_type": "markdown",
   "metadata": {},
   "source": [
    "#### Claim 2: More than 85% of suicide victims are male"
   ]
  },
  {
   "cell_type": "code",
   "execution_count": 6,
   "metadata": {},
   "outputs": [
    {
     "name": "stdout",
     "output_type": "stream",
     "text": [
      "Ratio of male suicides: 86.25%\n"
     ]
    }
   ],
   "source": [
    "suicide_male_mask = (\n",
    "  (data[\"Intent\"]== \"Suicide\") &\n",
    "  (data[\"Gender\"] == \"Male\") &\n",
    "  (data[\"Age\"] == \"None selected\") &\n",
    "  (data[\"Race\"] == \"None selected\"))\n",
    "\n",
    "total_male_suicides = float(data[suicide_male_mask][\"Deaths\"].iloc[0])\n",
    "\n",
    "print(f\"Ratio of male suicides: {100 * (total_male_suicides / total_suicides):.2f}%\")"
   ]
  },
  {
   "cell_type": "markdown",
   "metadata": {},
   "source": [
    "#### Claim 3: Around 1/3 of all gun deaths are homicides"
   ]
  },
  {
   "cell_type": "code",
   "execution_count": 7,
   "metadata": {},
   "outputs": [
    {
     "name": "stdout",
     "output_type": "stream",
     "text": [
      "Ratio of gundeaths that are homicides: 34.90%\n"
     ]
    }
   ],
   "source": [
    "homicides_mask = (\n",
    "  (data[\"Intent\"] == \"Homicide\") &\n",
    "  (data[\"Gender\"] == \"None selected\") &\n",
    "  (data[\"Age\"] == \"None selected\") &\n",
    "  (data[\"Race\"] == \"None selected\"))\n",
    "\n",
    "total_homicides = float(data[homicides_mask][\"Deaths\"].iloc[0])\n",
    "print(f\"Ratio of gundeaths that are homicides: {100 * (total_homicides / total_gun_deaths):.2f}%\")"
   ]
  },
  {
   "cell_type": "markdown",
   "metadata": {},
   "source": [
    "#### Claim 4: Around 2/3 of homicide victims who are male in the age group of 15-34 are black"
   ]
  },
  {
   "cell_type": "code",
   "execution_count": 8,
   "metadata": {},
   "outputs": [
    {
     "name": "stdout",
     "output_type": "stream",
     "text": [
      "Ratio of male homicides in the age group of 15-34 that are black: 66.13\n"
     ]
    }
   ],
   "source": [
    "male_young_homicide_black = (\n",
    "  (data[\"Intent\"] == \"Homicide\") &\n",
    "  (data[\"Gender\"] == \"Male\") &\n",
    "  (data[\"Age\"] == \"15 - 34\") &\n",
    "  (data[\"Race\"] == \"Black\"))\n",
    "\n",
    "male_young_homicide = (\n",
    "  (data[\"Intent\"] == \"Homicide\") &\n",
    "  (data[\"Gender\"] == \"Male\") &\n",
    "  (data[\"Age\"] == \"15 - 34\") &\n",
    "  (data[\"Race\"] == \"None selected\"))\n",
    "\n",
    "total_male_young_black_homicides = float(data[male_young_homicide_black][\"Deaths\"].iloc[0])\n",
    "total_male_young_homicides = float(data[male_young_homicide][\"Deaths\"].iloc[0])\n",
    "print(f\"Ratio of male homicides in the age group of 15-34 that are black: {100 * (total_male_young_black_homicides / total_male_young_homicides):.2f}\")"
   ]
  },
  {
   "cell_type": "markdown",
   "metadata": {},
   "source": [
    "#### Claim 5: Women constitute only 15% of the total homicide victims"
   ]
  },
  {
   "cell_type": "code",
   "execution_count": 9,
   "metadata": {},
   "outputs": [
    {
     "name": "stdout",
     "output_type": "stream",
     "text": [
      "Ratio of female homicides of all homicides: 15.27\n"
     ]
    }
   ],
   "source": [
    "female_homicides = (\n",
    "  (data[\"Intent\"] == \"Homicide\") &\n",
    "  (data[\"Gender\"] == \"Female\") &\n",
    "  (data[\"Age\"] == \"None selected\") &\n",
    "  (data[\"Race\"] == \"None selected\"))\n",
    "\n",
    "total_female_homicides = float(data[female_homicides][\"Deaths\"].iloc[0])\n",
    "print(f\"Ratio of female homicides of all homicides: {100 * (total_female_homicides / total_homicides):.2f}\")"
   ]
  }
 ],
 "metadata": {
  "kernelspec": {
   "display_name": "cs401",
   "language": "python",
   "name": "python3"
  },
  "language_info": {
   "codemirror_mode": {
    "name": "ipython",
    "version": 3
   },
   "file_extension": ".py",
   "mimetype": "text/x-python",
   "name": "python",
   "nbconvert_exporter": "python",
   "pygments_lexer": "ipython3",
   "version": "3.9.16"
  },
  "orig_nbformat": 4
 },
 "nbformat": 4,
 "nbformat_minor": 2
}
