{
 "cells": [
  {
   "cell_type": "markdown",
   "metadata": {},
   "source": [
    "# Handling text exercise\n"
   ]
  },
  {
   "cell_type": "markdown",
   "metadata": {},
   "source": [
    "## Welcome! This exercise consists of:\n",
    "\n",
    "## Part 1: Hands on tutorial\n",
    "\n",
    "1. Implementing the natural language processing pipeline\n",
    "2. Solving four typical language processing tasks:\n",
    "   - Sentiment analysis\n",
    "   - Document classification\n",
    "   - Topic detection\n",
    "   - Semantic analysis\n",
    "\n",
    "### We will be working with four books in plain text:\n",
    "\n",
    "1. Moby-Dick, by Herman Melville\n",
    "2. Frankenstein; or, The Modern Prometheus, by Mary Shelley\n",
    "3. Pride and Prejudice, by Jane Austen\n",
    "4. Dracula, Bram Stoker\n",
    "\n",
    "#### To run this notebook, you need to install the following libraries:\n",
    "\n",
    "conda install nltk gensim spacy <br> pip install pyLDAvis <br> pip install\n",
    "vaderSentiment <br> pip install empath <br> python -m spacy download en <br>\n",
    "python -m nltk.downloader punkt <br> python -m nltk.downloader all-corpora <br>\n",
    "\n",
    "## Part 2: Handling text comprehension questions\n",
    "\n",
    "- You can test your understanding of important NLP concepts. Solutions will be\n",
    "  released next week.\n",
    "\n",
    "## Part 3: Coding exercise\n",
    "\n",
    "- When you are done, in \"Handling_text_exercise_2.ipynb\", you will find\n",
    "  additional exercises you can work on independently.\n"
   ]
  },
  {
   "cell_type": "markdown",
   "metadata": {},
   "source": [
    "## Part 1\n"
   ]
  },
  {
   "cell_type": "code",
   "execution_count": 1,
   "metadata": {},
   "outputs": [],
   "source": [
    "%load_ext autoreload\n",
    "%autoreload 2\n",
    "\n",
    "import warnings; warnings.simplefilter('ignore')\n",
    "import os, codecs, string, random\n",
    "import numpy as np\n",
    "from numpy.random import seed as random_seed\n",
    "from numpy.random import shuffle as random_shuffle\n",
    "import matplotlib.pyplot as plt\n",
    "%matplotlib inline  \n",
    "\n",
    "seed = 42\n",
    "random.seed(seed)\n",
    "np.random.seed(seed)\n",
    "\n",
    "#NLP libraries\n",
    "import spacy, nltk, gensim, sklearn\n",
    "#import pyLDAvis.gensim\n",
    "import pyLDAvis.gensim_models\n",
    "\n",
    "#Vader\n",
    "import vaderSentiment\n",
    "from vaderSentiment.vaderSentiment import SentimentIntensityAnalyzer\n",
    "\n",
    "#Scikit imports\n",
    "from sklearn.feature_extraction.text import CountVectorizer\n",
    "from sklearn.model_selection import train_test_split\n",
    "from sklearn.model_selection import cross_val_score\n",
    "from sklearn.linear_model import LogisticRegression\n",
    "from sklearn import preprocessing\n",
    "from sklearn.preprocessing import StandardScaler\n",
    "from sklearn.utils import shuffle\n",
    "\n",
    "#The data\n",
    "corpus_root = 'books/'"
   ]
  },
  {
   "cell_type": "markdown",
   "metadata": {},
   "source": [
    "#### In this tutorial we will be working with text in English. The same principles apply, but the methods cannot be applied directly to the text in unknown or other languages. We will be working mainly with the Spacy library.\n"
   ]
  },
  {
   "cell_type": "markdown",
   "metadata": {},
   "source": [
    "Initialize the Spacy analyzer in English\n"
   ]
  },
  {
   "cell_type": "code",
   "execution_count": null,
   "metadata": {},
   "outputs": [
    {
     "name": "stdout",
     "output_type": "stream",
     "text": [
      "Collecting en-core-web-sm==3.7.1\n",
      "  Downloading https://github.com/explosion/spacy-models/releases/download/en_core_web_sm-3.7.1/en_core_web_sm-3.7.1-py3-none-any.whl (12.8 MB)\n",
      "\u001b[2K     \u001b[38;2;114;156;31m━━━━━━━━━━━━━━━━━━━━━━━━━━━━━━━━━━━━━━━━\u001b[0m \u001b[32m12.8/12.8 MB\u001b[0m \u001b[31m11.5 MB/s\u001b[0m eta \u001b[36m0:00:00\u001b[0mm eta \u001b[36m0:00:01\u001b[0m[36m0:00:01\u001b[0m\n",
      "\u001b[?25hRequirement already satisfied: spacy<3.8.0,>=3.7.2 in /Users/jonas-mika/.pyenv/versions/3.9.16/envs/cs401/lib/python3.9/site-packages (from en-core-web-sm==3.7.1) (3.7.2)\n",
      "Requirement already satisfied: spacy-legacy<3.1.0,>=3.0.11 in /Users/jonas-mika/.pyenv/versions/3.9.16/envs/cs401/lib/python3.9/site-packages (from spacy<3.8.0,>=3.7.2->en-core-web-sm==3.7.1) (3.0.12)\n",
      "Requirement already satisfied: spacy-loggers<2.0.0,>=1.0.0 in /Users/jonas-mika/.pyenv/versions/3.9.16/envs/cs401/lib/python3.9/site-packages (from spacy<3.8.0,>=3.7.2->en-core-web-sm==3.7.1) (1.0.5)\n",
      "Requirement already satisfied: murmurhash<1.1.0,>=0.28.0 in /Users/jonas-mika/.pyenv/versions/3.9.16/envs/cs401/lib/python3.9/site-packages (from spacy<3.8.0,>=3.7.2->en-core-web-sm==3.7.1) (1.0.10)\n",
      "Requirement already satisfied: cymem<2.1.0,>=2.0.2 in /Users/jonas-mika/.pyenv/versions/3.9.16/envs/cs401/lib/python3.9/site-packages (from spacy<3.8.0,>=3.7.2->en-core-web-sm==3.7.1) (2.0.8)\n",
      "Requirement already satisfied: preshed<3.1.0,>=3.0.2 in /Users/jonas-mika/.pyenv/versions/3.9.16/envs/cs401/lib/python3.9/site-packages (from spacy<3.8.0,>=3.7.2->en-core-web-sm==3.7.1) (3.0.9)\n",
      "Requirement already satisfied: thinc<8.3.0,>=8.1.8 in /Users/jonas-mika/.pyenv/versions/3.9.16/envs/cs401/lib/python3.9/site-packages (from spacy<3.8.0,>=3.7.2->en-core-web-sm==3.7.1) (8.2.1)\n",
      "Requirement already satisfied: wasabi<1.2.0,>=0.9.1 in /Users/jonas-mika/.pyenv/versions/3.9.16/envs/cs401/lib/python3.9/site-packages (from spacy<3.8.0,>=3.7.2->en-core-web-sm==3.7.1) (1.1.2)\n",
      "Requirement already satisfied: srsly<3.0.0,>=2.4.3 in /Users/jonas-mika/.pyenv/versions/3.9.16/envs/cs401/lib/python3.9/site-packages (from spacy<3.8.0,>=3.7.2->en-core-web-sm==3.7.1) (2.4.8)\n",
      "Requirement already satisfied: catalogue<2.1.0,>=2.0.6 in /Users/jonas-mika/.pyenv/versions/3.9.16/envs/cs401/lib/python3.9/site-packages (from spacy<3.8.0,>=3.7.2->en-core-web-sm==3.7.1) (2.0.10)\n",
      "Requirement already satisfied: weasel<0.4.0,>=0.1.0 in /Users/jonas-mika/.pyenv/versions/3.9.16/envs/cs401/lib/python3.9/site-packages (from spacy<3.8.0,>=3.7.2->en-core-web-sm==3.7.1) (0.3.4)\n",
      "Requirement already satisfied: typer<0.10.0,>=0.3.0 in /Users/jonas-mika/.pyenv/versions/3.9.16/envs/cs401/lib/python3.9/site-packages (from spacy<3.8.0,>=3.7.2->en-core-web-sm==3.7.1) (0.9.0)\n",
      "Requirement already satisfied: smart-open<7.0.0,>=5.2.1 in /Users/jonas-mika/.pyenv/versions/3.9.16/envs/cs401/lib/python3.9/site-packages (from spacy<3.8.0,>=3.7.2->en-core-web-sm==3.7.1) (6.4.0)\n",
      "Requirement already satisfied: tqdm<5.0.0,>=4.38.0 in /Users/jonas-mika/.pyenv/versions/3.9.16/envs/cs401/lib/python3.9/site-packages (from spacy<3.8.0,>=3.7.2->en-core-web-sm==3.7.1) (4.66.1)\n",
      "Requirement already satisfied: requests<3.0.0,>=2.13.0 in /Users/jonas-mika/.pyenv/versions/3.9.16/envs/cs401/lib/python3.9/site-packages (from spacy<3.8.0,>=3.7.2->en-core-web-sm==3.7.1) (2.31.0)\n",
      "Requirement already satisfied: pydantic!=1.8,!=1.8.1,<3.0.0,>=1.7.4 in /Users/jonas-mika/.pyenv/versions/3.9.16/envs/cs401/lib/python3.9/site-packages (from spacy<3.8.0,>=3.7.2->en-core-web-sm==3.7.1) (2.5.2)\n",
      "Requirement already satisfied: jinja2 in /Users/jonas-mika/.pyenv/versions/3.9.16/envs/cs401/lib/python3.9/site-packages (from spacy<3.8.0,>=3.7.2->en-core-web-sm==3.7.1) (3.1.2)\n",
      "Requirement already satisfied: setuptools in /Users/jonas-mika/.pyenv/versions/3.9.16/envs/cs401/lib/python3.9/site-packages (from spacy<3.8.0,>=3.7.2->en-core-web-sm==3.7.1) (58.1.0)\n",
      "Requirement already satisfied: packaging>=20.0 in /Users/jonas-mika/.pyenv/versions/3.9.16/envs/cs401/lib/python3.9/site-packages (from spacy<3.8.0,>=3.7.2->en-core-web-sm==3.7.1) (23.1)\n",
      "Requirement already satisfied: langcodes<4.0.0,>=3.2.0 in /Users/jonas-mika/.pyenv/versions/3.9.16/envs/cs401/lib/python3.9/site-packages (from spacy<3.8.0,>=3.7.2->en-core-web-sm==3.7.1) (3.3.0)\n",
      "Requirement already satisfied: numpy>=1.19.0 in /Users/jonas-mika/.pyenv/versions/3.9.16/envs/cs401/lib/python3.9/site-packages (from spacy<3.8.0,>=3.7.2->en-core-web-sm==3.7.1) (1.26.0)\n",
      "Requirement already satisfied: annotated-types>=0.4.0 in /Users/jonas-mika/.pyenv/versions/3.9.16/envs/cs401/lib/python3.9/site-packages (from pydantic!=1.8,!=1.8.1,<3.0.0,>=1.7.4->spacy<3.8.0,>=3.7.2->en-core-web-sm==3.7.1) (0.6.0)\n",
      "Requirement already satisfied: pydantic-core==2.14.5 in /Users/jonas-mika/.pyenv/versions/3.9.16/envs/cs401/lib/python3.9/site-packages (from pydantic!=1.8,!=1.8.1,<3.0.0,>=1.7.4->spacy<3.8.0,>=3.7.2->en-core-web-sm==3.7.1) (2.14.5)\n",
      "Requirement already satisfied: typing-extensions>=4.6.1 in /Users/jonas-mika/.pyenv/versions/3.9.16/envs/cs401/lib/python3.9/site-packages (from pydantic!=1.8,!=1.8.1,<3.0.0,>=1.7.4->spacy<3.8.0,>=3.7.2->en-core-web-sm==3.7.1) (4.8.0)\n",
      "Requirement already satisfied: charset-normalizer<4,>=2 in /Users/jonas-mika/.pyenv/versions/3.9.16/envs/cs401/lib/python3.9/site-packages (from requests<3.0.0,>=2.13.0->spacy<3.8.0,>=3.7.2->en-core-web-sm==3.7.1) (3.3.0)\n",
      "Requirement already satisfied: idna<4,>=2.5 in /Users/jonas-mika/.pyenv/versions/3.9.16/envs/cs401/lib/python3.9/site-packages (from requests<3.0.0,>=2.13.0->spacy<3.8.0,>=3.7.2->en-core-web-sm==3.7.1) (3.4)\n",
      "Requirement already satisfied: urllib3<3,>=1.21.1 in /Users/jonas-mika/.pyenv/versions/3.9.16/envs/cs401/lib/python3.9/site-packages (from requests<3.0.0,>=2.13.0->spacy<3.8.0,>=3.7.2->en-core-web-sm==3.7.1) (2.0.6)\n",
      "Requirement already satisfied: certifi>=2017.4.17 in /Users/jonas-mika/.pyenv/versions/3.9.16/envs/cs401/lib/python3.9/site-packages (from requests<3.0.0,>=2.13.0->spacy<3.8.0,>=3.7.2->en-core-web-sm==3.7.1) (2023.7.22)\n",
      "Requirement already satisfied: blis<0.8.0,>=0.7.8 in /Users/jonas-mika/.pyenv/versions/3.9.16/envs/cs401/lib/python3.9/site-packages (from thinc<8.3.0,>=8.1.8->spacy<3.8.0,>=3.7.2->en-core-web-sm==3.7.1) (0.7.11)\n",
      "Requirement already satisfied: confection<1.0.0,>=0.0.1 in /Users/jonas-mika/.pyenv/versions/3.9.16/envs/cs401/lib/python3.9/site-packages (from thinc<8.3.0,>=8.1.8->spacy<3.8.0,>=3.7.2->en-core-web-sm==3.7.1) (0.1.4)\n",
      "Requirement already satisfied: click<9.0.0,>=7.1.1 in /Users/jonas-mika/.pyenv/versions/3.9.16/envs/cs401/lib/python3.9/site-packages (from typer<0.10.0,>=0.3.0->spacy<3.8.0,>=3.7.2->en-core-web-sm==3.7.1) (8.1.7)\n",
      "Requirement already satisfied: cloudpathlib<0.17.0,>=0.7.0 in /Users/jonas-mika/.pyenv/versions/3.9.16/envs/cs401/lib/python3.9/site-packages (from weasel<0.4.0,>=0.1.0->spacy<3.8.0,>=3.7.2->en-core-web-sm==3.7.1) (0.16.0)\n",
      "Requirement already satisfied: MarkupSafe>=2.0 in /Users/jonas-mika/.pyenv/versions/3.9.16/envs/cs401/lib/python3.9/site-packages (from jinja2->spacy<3.8.0,>=3.7.2->en-core-web-sm==3.7.1) (2.1.3)\n",
      "\n",
      "\u001b[1m[\u001b[0m\u001b[34;49mnotice\u001b[0m\u001b[1;39;49m]\u001b[0m\u001b[39;49m A new release of pip is available: \u001b[0m\u001b[31;49m23.2.1\u001b[0m\u001b[39;49m -> \u001b[0m\u001b[32;49m23.3.1\u001b[0m\n",
      "\u001b[1m[\u001b[0m\u001b[34;49mnotice\u001b[0m\u001b[1;39;49m]\u001b[0m\u001b[39;49m To update, run: \u001b[0m\u001b[32;49mpip install --upgrade pip\u001b[0m\n",
      "\u001b[38;5;2m✔ Download and installation successful\u001b[0m\n",
      "You can now load the package via spacy.load('en_core_web_sm')\n"
     ]
    }
   ],
   "source": [
    "!python -m spacy download en_core_web_sm"
   ]
  },
  {
   "cell_type": "code",
   "execution_count": 5,
   "metadata": {},
   "outputs": [],
   "source": [
    "nlp = spacy.load(\"en_core_web_sm\")"
   ]
  },
  {
   "cell_type": "markdown",
   "metadata": {},
   "source": [
    "Load the books\n"
   ]
  },
  {
   "cell_type": "code",
   "execution_count": 6,
   "metadata": {},
   "outputs": [
    {
     "name": "stdout",
     "output_type": "stream",
     "text": [
      "Moby_Dick.txt\n",
      "Frankenstein.txt\n",
      "DRACULA.txt\n",
      "PRIDE_AND_PREJUDICE.txt\n"
     ]
    }
   ],
   "source": [
    "books = list()\n",
    "\n",
    "for book_file in os.listdir(corpus_root):\n",
    "    if \".txt\" in book_file:\n",
    "        print(book_file)\n",
    "        with codecs.open(os.path.join(corpus_root, book_file), encoding=\"utf8\") as f:\n",
    "            books.append(f.read())"
   ]
  },
  {
   "cell_type": "markdown",
   "metadata": {},
   "source": [
    "Print the beginning of Pride and Prejudice\n"
   ]
  },
  {
   "cell_type": "code",
   "execution_count": 7,
   "metadata": {},
   "outputs": [
    {
     "name": "stdout",
     "output_type": "stream",
     "text": [
      "PRIDE AND PREJUDICE\n",
      "\n",
      "By Jane Austen\n",
      "\n",
      "\n",
      "\n",
      "Chapter 1\n",
      "\n",
      "\n",
      "It is a truth universally acknowledged, that a single man in possession\n",
      "of a good fortune, must be in want of a wife.\n",
      "\n",
      "However little known the feelings or views of such a man may be on his\n",
      "first entering a neighbourhood, this truth is so well fixed in the minds\n",
      "of the surrounding families, that he is considered the rightful property\n",
      "of some one or other of their daughters.\n",
      "\n",
      "“My dear Mr. Bennet,” said his lady to him one day, “have you heard that\n",
      "Netherfield Park is let at last?”\n",
      "\n",
      "Mr. Bennet replied that he had not.\n",
      "\n",
      "“But it is,” returned she;\n"
     ]
    }
   ],
   "source": [
    "print(books[3][0:600])"
   ]
  },
  {
   "cell_type": "markdown",
   "metadata": {},
   "source": [
    "#### Let's remove the new lines\n"
   ]
  },
  {
   "cell_type": "code",
   "execution_count": 8,
   "metadata": {},
   "outputs": [],
   "source": [
    "books = [\" \".join(b.split()) for b in books]"
   ]
  },
  {
   "cell_type": "code",
   "execution_count": 9,
   "metadata": {},
   "outputs": [
    {
     "name": "stdout",
     "output_type": "stream",
     "text": [
      "PRIDE AND PREJUDICE By Jane Austen Chapter 1 It is a truth universally acknowledged, that a single man in possession of a good fortune, must be in want of a wife. However little known the feelings or views of such a man may be on his first entering a neighbourhood, this truth is so well fixed in the minds of the surrounding families, that he is considered the rightful property of some one or other of their daughters. “My dear Mr. Bennet,” said his lady to him one day, “have you heard that Netherfield Park is let at last?” Mr. Bennet replied that he had not. “But it is,” returned she; “for Mrs.\n"
     ]
    }
   ],
   "source": [
    "print(books[3][0:600])"
   ]
  },
  {
   "cell_type": "markdown",
   "metadata": {},
   "source": [
    "### Load Frankenstein\n"
   ]
  },
  {
   "cell_type": "code",
   "execution_count": 10,
   "metadata": {},
   "outputs": [],
   "source": [
    "# index all books\n",
    "book = books[1]\n",
    "\n",
    "# put in raw text, get a Spacy object\n",
    "doc = nlp(book)"
   ]
  },
  {
   "cell_type": "markdown",
   "metadata": {},
   "source": [
    "## Let's create our own NLP pipeline with Spacy!\n"
   ]
  },
  {
   "cell_type": "markdown",
   "metadata": {},
   "source": [
    "### Step 1: Sentence splitting\n",
    "\n",
    "#### May sound trivial, but it's not! (e.g., U.K. or Yahoo!) Spacy uses a statistical model to generate accurate predictions. This works well out of the box for general-purpose text or web text. For social media use dedicated libraries.\n"
   ]
  },
  {
   "cell_type": "code",
   "execution_count": 11,
   "metadata": {},
   "outputs": [
    {
     "name": "stdout",
     "output_type": "stream",
     "text": [
      "Sentence 1: Frankenstein, or the Modern Prometheus by Mary Wollstonecraft (Godwin) Shelley Letter 1 St. Petersburgh, Dec. 11th, 17-- TO Mrs. Saville, England You will rejoice to hear that no disaster has accompanied the commencement of an enterprise which you have regarded with such evil forebodings. \n",
      "\n",
      "Sentence 2: I arrived here yesterday, and my first task is to assure my dear sister of my welfare and increasing confidence in the success of my undertaking. \n",
      "\n",
      "Sentence 3: I am already far north of London, and as I walk in the streets of Petersburgh, I feel a cold northern breeze play upon my cheeks, which braces my nerves and fills me with delight. \n",
      "\n"
     ]
    }
   ],
   "source": [
    "sentences = [sent for sent in doc.sents]\n",
    "print(\"Sentence 1:\", sentences[0], \"\\n\")\n",
    "print(\"Sentence 2:\", sentences[1], \"\\n\")\n",
    "print(\"Sentence 3:\", sentences[2], \"\\n\")"
   ]
  },
  {
   "cell_type": "markdown",
   "metadata": {},
   "source": [
    "### Step 2: Tokenization\n",
    "\n",
    "#### The task of splitting a text into meaningful segments called tokens. We segment the sentence into words, punctuation, etc. This is done by first splitting on whitespace characters and them applying rules specific to each language. For example, \"don't\" does not contain whitespace, but should be split into two tokens, \"do\" and \"n't\", while \"U.K.\" should always remain one token and \"but,\" shouldn't.\n"
   ]
  },
  {
   "cell_type": "markdown",
   "metadata": {},
   "source": [
    "### We will analyze the methods on an example sentence first\n"
   ]
  },
  {
   "cell_type": "code",
   "execution_count": 12,
   "metadata": {},
   "outputs": [
    {
     "name": "stdout",
     "output_type": "stream",
     "text": [
      "I am already far north of London, and as I walk in the streets of Petersburgh, I feel a cold northern breeze play upon my cheeks, which braces my nerves and fills me with delight. \n",
      "\n",
      "['I', 'am', 'already', 'far', 'north', 'of', 'London', ',', 'and', 'as', 'I', 'walk', 'in', 'the', 'streets', 'of', 'Petersburgh', ',', 'I', 'feel', 'a', 'cold', 'northern', 'breeze', 'play', 'upon', 'my', 'cheeks', ',', 'which', 'braces', 'my', 'nerves', 'and', 'fills', 'me', 'with', 'delight', '.']\n"
     ]
    }
   ],
   "source": [
    "example = \"I am already far north of London, and as I walk in the streets of Petersburgh, I feel a cold northern breeze play upon my cheeks, which braces my nerves and fills me with delight.\"\n",
    "\n",
    "doc = nlp(example)\n",
    "\n",
    "# strings are encoded to hashes\n",
    "tokens = [token.text for token in doc]\n",
    "\n",
    "print(example, \"\\n\")\n",
    "print(tokens)"
   ]
  },
  {
   "cell_type": "markdown",
   "metadata": {},
   "source": [
    "### Step 3: Part of speech tagging\n",
    "\n",
    "#### The model makes a prediction of which tag or label most likely applies in this context. For example, a word following \"the\" in English is most likely a noun.\n"
   ]
  },
  {
   "cell_type": "code",
   "execution_count": 13,
   "metadata": {},
   "outputs": [
    {
     "name": "stdout",
     "output_type": "stream",
     "text": [
      "I am already far north of London, and as I walk in the streets of Petersburgh, I feel a cold northern breeze play upon my cheeks, which braces my nerves and fills me with delight. \n",
      "\n",
      "[('I', 'PRON'), ('am', 'AUX'), ('already', 'ADV'), ('far', 'ADV'), ('north', 'ADV'), ('of', 'ADP'), ('London', 'PROPN'), (',', 'PUNCT'), ('and', 'CCONJ'), ('as', 'SCONJ'), ('I', 'PRON'), ('walk', 'VERB'), ('in', 'ADP'), ('the', 'DET'), ('streets', 'NOUN'), ('of', 'ADP'), ('Petersburgh', 'PROPN'), (',', 'PUNCT'), ('I', 'PRON'), ('feel', 'VERB'), ('a', 'DET'), ('cold', 'ADJ'), ('northern', 'ADJ'), ('breeze', 'NOUN'), ('play', 'VERB'), ('upon', 'SCONJ'), ('my', 'PRON'), ('cheeks', 'NOUN'), (',', 'PUNCT'), ('which', 'PRON'), ('braces', 'VERB'), ('my', 'PRON'), ('nerves', 'NOUN'), ('and', 'CCONJ'), ('fills', 'VERB'), ('me', 'PRON'), ('with', 'ADP'), ('delight', 'NOUN'), ('.', 'PUNCT')]\n"
     ]
    }
   ],
   "source": [
    "pos_tagged = [(token.text, token.pos_) for token in doc]\n",
    "\n",
    "print(example, \"\\n\")\n",
    "print(pos_tagged)"
   ]
  },
  {
   "cell_type": "code",
   "execution_count": 14,
   "metadata": {},
   "outputs": [
    {
     "name": "stdout",
     "output_type": "stream",
     "text": [
      "coordinating conjunction\n",
      "adposition\n",
      "determiner\n"
     ]
    }
   ],
   "source": [
    "print(spacy.explain(\"CCONJ\"))\n",
    "print(spacy.explain(\"ADP\"))\n",
    "print(spacy.explain(\"DET\"))"
   ]
  },
  {
   "cell_type": "markdown",
   "metadata": {},
   "source": [
    "### When unsure, see here for more details: http://universaldependencies.org/u/pos/all.html\n"
   ]
  },
  {
   "cell_type": "markdown",
   "metadata": {},
   "source": [
    "#### More detailed annotation:\n"
   ]
  },
  {
   "cell_type": "code",
   "execution_count": 15,
   "metadata": {},
   "outputs": [
    {
     "name": "stdout",
     "output_type": "stream",
     "text": [
      "[('I', 'PRP'), ('am', 'VBP'), ('already', 'RB'), ('far', 'RB'), ('north', 'RB'), ('of', 'IN'), ('London', 'NNP'), (',', ','), ('and', 'CC'), ('as', 'IN'), ('I', 'PRP'), ('walk', 'VBP'), ('in', 'IN'), ('the', 'DT'), ('streets', 'NNS'), ('of', 'IN'), ('Petersburgh', 'NNP'), (',', ','), ('I', 'PRP'), ('feel', 'VBP'), ('a', 'DT'), ('cold', 'JJ'), ('northern', 'JJ'), ('breeze', 'NN'), ('play', 'VB'), ('upon', 'IN'), ('my', 'PRP$'), ('cheeks', 'NNS'), (',', ','), ('which', 'WDT'), ('braces', 'VBZ'), ('my', 'PRP$'), ('nerves', 'NNS'), ('and', 'CC'), ('fills', 'VBZ'), ('me', 'PRP'), ('with', 'IN'), ('delight', 'NN'), ('.', '.')]\n"
     ]
    }
   ],
   "source": [
    "pos_tagged = [(token.text, token.tag_) for token in doc]\n",
    "\n",
    "print(pos_tagged)"
   ]
  },
  {
   "cell_type": "code",
   "execution_count": 16,
   "metadata": {},
   "outputs": [
    {
     "name": "stdout",
     "output_type": "stream",
     "text": [
      "pronoun, personal\n",
      "verb, non-3rd person singular present\n"
     ]
    }
   ],
   "source": [
    "print(spacy.explain(\"PRP\"))\n",
    "print(spacy.explain(\"VBP\"))"
   ]
  },
  {
   "cell_type": "markdown",
   "metadata": {},
   "source": [
    "### Step 4: Named entity recognition\n",
    "\n",
    "#### For example, a person, a country, a product or a book title. Spacy can recognise various types of named entities in a document. This doesn't always work perfectly and might need some tuning later, depending on your use case.\n",
    "\n",
    "Built in entity types: <br>\n",
    "\n",
    "PERSON People, including fictional. <br> NORP Nationalities or religious or\n",
    "political groups. <br> FAC Buildings, airports, highways, bridges, etc. <br> ORG\n",
    "Companies, agencies, institutions, etc. <br> GPE Countries, cities, states. <br>\n",
    "LOC Non-GPE locations, mountain ranges, bodies of water. <br> PRODUCT Objects,\n",
    "vehicles, foods, etc. (Not services.) <br> EVENT Named hurricanes, battles,\n",
    "wars, sports events, etc. <br> WORK_OF_ART Titles of books, songs, etc. <br> LAW\n",
    "Named documents made into laws. <br> LANGUAGE Any named language. <br> DATE\n",
    "Absolute or relative dates or periods. <br> TIME Times smaller than a day. <br>\n",
    "PERCENT Percentage, including \"%\". <br> MONEY Monetary values, including unit.\n",
    "<br> QUANTITY Measurements, as of weight or distance. <br> ORDINAL \"first\",\n",
    "\"second\", etc. <br> CARDINAL Numerals that do not fall under another type. <br>\n"
   ]
  },
  {
   "cell_type": "code",
   "execution_count": 17,
   "metadata": {},
   "outputs": [
    {
     "name": "stdout",
     "output_type": "stream",
     "text": [
      "I am already far north of London, and as I walk in the streets of Petersburgh, I feel a cold northern breeze play upon my cheeks, which braces my nerves and fills me with delight. \n",
      "\n",
      "London GPE\n",
      "Petersburgh GPE\n"
     ]
    }
   ],
   "source": [
    "print(example, \"\\n\")\n",
    "for ent in doc.ents:\n",
    "    print(ent.text, ent.label_)"
   ]
  },
  {
   "cell_type": "markdown",
   "metadata": {},
   "source": [
    "### Step 5: Removing stop words\n"
   ]
  },
  {
   "cell_type": "markdown",
   "metadata": {},
   "source": [
    "Let's check out all the stopwords:\n"
   ]
  },
  {
   "cell_type": "code",
   "execution_count": 18,
   "metadata": {},
   "outputs": [
    {
     "name": "stdout",
     "output_type": "stream",
     "text": [
      "Number of stop words: 326\n",
      "First ten stop words: ['nobody', 'everyone', 'made', 'had', 'may', 'something', 'whence', 'beside', 'former', 'therein']\n"
     ]
    }
   ],
   "source": [
    "spacy_stopwords = spacy.lang.en.stop_words.STOP_WORDS\n",
    "print(\"Number of stop words: %d\" % len(spacy_stopwords))\n",
    "print(\"First ten stop words:\", list(spacy_stopwords)[:10])"
   ]
  },
  {
   "cell_type": "markdown",
   "metadata": {},
   "source": [
    "Detecting stopwords in the example:\n"
   ]
  },
  {
   "cell_type": "code",
   "execution_count": 19,
   "metadata": {},
   "outputs": [
    {
     "name": "stdout",
     "output_type": "stream",
     "text": [
      "I am already far north of London, and as I walk in the streets of Petersburgh, I feel a cold northern breeze play upon my cheeks, which braces my nerves and fills me with delight. \n",
      "\n",
      "['I', 'am', 'already', 'of', 'and', 'as', 'I', 'in', 'the', 'of', 'I', 'a', 'upon', 'my', 'which', 'my', 'and', 'me', 'with']\n"
     ]
    }
   ],
   "source": [
    "print(example, \"\\n\")\n",
    "\n",
    "stop_words = [token.text for token in doc if token.is_stop]\n",
    "\n",
    "print(stop_words)"
   ]
  },
  {
   "cell_type": "markdown",
   "metadata": {},
   "source": [
    "#### Sometimes it's useful to define a custom list of stopwords. Other solutions: https://www.ranks.nl/stopwords\n"
   ]
  },
  {
   "cell_type": "markdown",
   "metadata": {},
   "source": [
    "### Step 6: Lemmatization\n",
    "\n",
    "#### A rule-based deterministic lemmatizer maps the surface form of a token to a lemma.\n"
   ]
  },
  {
   "cell_type": "code",
   "execution_count": 20,
   "metadata": {},
   "outputs": [
    {
     "name": "stdout",
     "output_type": "stream",
     "text": [
      "I am already far north of London, and as I walk in the streets of Petersburgh, I feel a cold northern breeze play upon my cheeks, which braces my nerves and fills me with delight. \n",
      "\n",
      "am ---> be\n",
      "streets ---> street\n",
      "cheeks ---> cheek\n",
      "braces ---> brace\n",
      "nerves ---> nerve\n",
      "fills ---> fill\n",
      "me ---> I\n"
     ]
    }
   ],
   "source": [
    "print(example, \"\\n\")\n",
    "for token in doc:\n",
    "    if token.text != token.lemma_:\n",
    "        print(token.text, \"--->\", token.lemma_)"
   ]
  },
  {
   "cell_type": "markdown",
   "metadata": {},
   "source": [
    "### Step 7: Chunking (shallow parsing)\n",
    "\n",
    "#### Noun chunks are \"base noun phrases\" – flat phrases that have a noun as their head -- a noun plus the words describing the noun – for example, \"the lavish green grass\" or \"the world’s largest tech fund\".\n"
   ]
  },
  {
   "cell_type": "code",
   "execution_count": 21,
   "metadata": {},
   "outputs": [
    {
     "name": "stdout",
     "output_type": "stream",
     "text": [
      "I am already far north of London, and as I walk in the streets of Petersburgh, I feel a cold northern breeze play upon my cheeks, which braces my nerves and fills me with delight. \n",
      "\n",
      "I\n",
      "London\n",
      "I\n",
      "the streets\n",
      "Petersburgh\n",
      "I\n",
      "my cheeks\n",
      "which\n",
      "my nerves\n",
      "me\n",
      "delight\n"
     ]
    }
   ],
   "source": [
    "print(example, \"\\n\")\n",
    "\n",
    "for chunk in doc.noun_chunks:\n",
    "    print(chunk.text)"
   ]
  },
  {
   "cell_type": "markdown",
   "metadata": {},
   "source": [
    "### Step 8: Dependancy parsing\n",
    "\n",
    "#### The terms head and child describe the words connected by an arc in the dependency tree. The type of syntactic relation that connects the child to the head can be obtain through .dep\\_.\n"
   ]
  },
  {
   "cell_type": "code",
   "execution_count": 22,
   "metadata": {},
   "outputs": [
    {
     "name": "stdout",
     "output_type": "stream",
     "text": [
      "I am already far north of London, and as I walk in the streets of Petersburgh, I feel a cold northern breeze play upon my cheeks, which braces my nerves and fills me with delight. \n",
      "\n",
      "Token: I Head: am Children: []\n",
      "Token: am Head: am Children: [I, already, north, ,, and, feel]\n",
      "Token: already Head: am Children: []\n",
      "Token: far Head: north Children: []\n",
      "Token: north Head: am Children: [far, of]\n",
      "Token: of Head: north Children: [London]\n",
      "Token: London Head: of Children: []\n",
      "Token: , Head: am Children: []\n",
      "Token: and Head: am Children: []\n",
      "Token: as Head: walk Children: []\n",
      "Token: I Head: walk Children: []\n",
      "Token: walk Head: feel Children: [as, I, in]\n",
      "Token: in Head: walk Children: [streets]\n",
      "Token: the Head: streets Children: []\n",
      "Token: streets Head: in Children: [the, of]\n",
      "Token: of Head: streets Children: [Petersburgh]\n",
      "Token: Petersburgh Head: of Children: []\n",
      "Token: , Head: feel Children: []\n",
      "Token: I Head: feel Children: []\n",
      "Token: feel Head: am Children: [walk, ,, I, play, .]\n",
      "Token: a Head: play Children: []\n",
      "Token: cold Head: breeze Children: []\n",
      "Token: northern Head: breeze Children: []\n",
      "Token: breeze Head: play Children: [cold, northern]\n",
      "Token: play Head: feel Children: [a, breeze, upon]\n",
      "Token: upon Head: play Children: [cheeks]\n",
      "Token: my Head: cheeks Children: []\n",
      "Token: cheeks Head: upon Children: [my, ,, braces]\n",
      "Token: , Head: cheeks Children: []\n",
      "Token: which Head: braces Children: []\n",
      "Token: braces Head: cheeks Children: [which, nerves, and, fills]\n",
      "Token: my Head: nerves Children: []\n",
      "Token: nerves Head: braces Children: [my]\n",
      "Token: and Head: braces Children: []\n",
      "Token: fills Head: braces Children: [me, with]\n",
      "Token: me Head: fills Children: []\n",
      "Token: with Head: fills Children: [delight]\n",
      "Token: delight Head: with Children: []\n",
      "Token: . Head: feel Children: []\n"
     ]
    }
   ],
   "source": [
    "print(example, \"\\n\")\n",
    "\n",
    "for token in doc:\n",
    "    print(\n",
    "        \"Token:\",\n",
    "        token.text,\n",
    "        \"Head:\",\n",
    "        token.head.text,\n",
    "        \"Children:\",\n",
    "        [child for child in token.children],\n",
    "    )"
   ]
  },
  {
   "cell_type": "markdown",
   "metadata": {},
   "source": [
    "### Counting word occurences\n"
   ]
  },
  {
   "cell_type": "code",
   "execution_count": 23,
   "metadata": {},
   "outputs": [
    {
     "name": "stdout",
     "output_type": "stream",
     "text": [
      "I am already far north of London, and as I walk in the streets of Petersburgh, I feel a cold northern breeze play upon my cheeks, which braces my nerves and fills me with delight. \n",
      "\n",
      "[('I', 3), (',', 3), ('of', 2), ('and', 2), ('my', 2), ('am', 1), ('already', 1), ('far', 1), ('north', 1), ('London', 1), ('as', 1), ('walk', 1), ('in', 1), ('the', 1), ('streets', 1), ('Petersburgh', 1), ('feel', 1), ('a', 1), ('cold', 1), ('northern', 1), ('breeze', 1), ('play', 1), ('upon', 1), ('cheeks', 1), ('which', 1), ('braces', 1), ('nerves', 1), ('fills', 1), ('me', 1), ('with', 1), ('delight', 1), ('.', 1)]\n"
     ]
    }
   ],
   "source": [
    "from collections import Counter\n",
    "\n",
    "print(example, \"\\n\")\n",
    "words = [token.text for token in doc]\n",
    "\n",
    "# five most common tokens\n",
    "word_freq = Counter(words)\n",
    "common_words = word_freq.most_common()\n",
    "\n",
    "print(common_words)"
   ]
  },
  {
   "cell_type": "markdown",
   "metadata": {},
   "source": [
    "### Without stop words and punctuation\n"
   ]
  },
  {
   "cell_type": "code",
   "execution_count": 24,
   "metadata": {},
   "outputs": [
    {
     "name": "stdout",
     "output_type": "stream",
     "text": [
      "[('far', 1), ('north', 1), ('London', 1), ('walk', 1), ('streets', 1), ('Petersburgh', 1), ('feel', 1), ('cold', 1), ('northern', 1), ('breeze', 1), ('play', 1), ('cheeks', 1), ('braces', 1), ('nerves', 1), ('fills', 1), ('delight', 1)]\n"
     ]
    }
   ],
   "source": [
    "words = [\n",
    "    token.text for token in doc if token.is_stop != True and token.is_punct != True\n",
    "]\n",
    "\n",
    "# five most common tokens\n",
    "word_freq = Counter(words)\n",
    "common_words = word_freq.most_common()\n",
    "\n",
    "print(common_words)"
   ]
  },
  {
   "cell_type": "markdown",
   "metadata": {},
   "source": [
    "## Putting all the components together\n"
   ]
  },
  {
   "cell_type": "markdown",
   "metadata": {},
   "source": [
    "### Under the hood: the pipeline [\"tokenizer\",\"tagger\", \"parser\", \"ner\"].\n"
   ]
  },
  {
   "cell_type": "markdown",
   "metadata": {},
   "source": [
    "#### The NLP pipeline with Spacy\n",
    "\n",
    "<img src=\"spacy.png\">\n"
   ]
  },
  {
   "cell_type": "code",
   "execution_count": 25,
   "metadata": {},
   "outputs": [],
   "source": [
    "nlp = spacy.load(\"en_core_web_sm\")"
   ]
  },
  {
   "cell_type": "markdown",
   "metadata": {},
   "source": [
    "### If you don't need a particular component of the pipeline – for example, the tagger or the parser, you can disable loading it. This can sometimes make a big difference and improve loading speed.\n"
   ]
  },
  {
   "cell_type": "code",
   "execution_count": 26,
   "metadata": {},
   "outputs": [
    {
     "data": {
      "text/plain": [
       "('tagger', <spacy.pipeline.tagger.Tagger at 0x2845a9400>)"
      ]
     },
     "execution_count": 26,
     "metadata": {},
     "output_type": "execute_result"
    }
   ],
   "source": [
    "nlp.remove_pipe(\"parser\")\n",
    "nlp.remove_pipe(\"tagger\")"
   ]
  },
  {
   "cell_type": "markdown",
   "metadata": {},
   "source": [
    "# Task 1: Sentiment analysis\n"
   ]
  },
  {
   "cell_type": "markdown",
   "metadata": {},
   "source": [
    "### Initialize the analyzer. Typically used for data from social media (short sentences).\n"
   ]
  },
  {
   "cell_type": "code",
   "execution_count": 27,
   "metadata": {},
   "outputs": [],
   "source": [
    "analyzer = SentimentIntensityAnalyzer()\n",
    "vs = analyzer.polarity_scores(example)"
   ]
  },
  {
   "cell_type": "markdown",
   "metadata": {},
   "source": [
    "### The sentiment score consits of four values. Neutral, positive and negative sum to one. The final score is obtained by thresholding the compound value (e.g. +/-0.05).\n"
   ]
  },
  {
   "cell_type": "code",
   "execution_count": 28,
   "metadata": {},
   "outputs": [
    {
     "name": "stdout",
     "output_type": "stream",
     "text": [
      "I am already far north of London, and as I walk in the streets of Petersburgh, I feel a cold northern breeze play upon my cheeks, which braces my nerves and fills me with delight. \n",
      "\n",
      "Negative sentiment: 0.035\n",
      "Neutral sentiment: 0.806\n",
      "Positive sentiment: 0.159\n",
      "Compound sentiment: 0.7096\n"
     ]
    }
   ],
   "source": [
    "print(example, \"\\n\")\n",
    "print(\"Negative sentiment:\", vs[\"neg\"])\n",
    "print(\"Neutral sentiment:\", vs[\"neu\"])\n",
    "print(\"Positive sentiment:\", vs[\"pos\"])\n",
    "print(\"Compound sentiment:\", vs[\"compound\"])"
   ]
  },
  {
   "cell_type": "markdown",
   "metadata": {},
   "source": [
    "### We can now observe the distributions of sentiment across all sentences in the book Pride and Prejudice:\n"
   ]
  },
  {
   "cell_type": "code",
   "execution_count": 29,
   "metadata": {},
   "outputs": [],
   "source": [
    "nlp = spacy.load(\"en_core_web_sm\")\n",
    "doc = nlp(books[3])"
   ]
  },
  {
   "cell_type": "code",
   "execution_count": 30,
   "metadata": {},
   "outputs": [
    {
     "data": {
      "text/plain": [
       "Text(0, 0.5, 'Number of sentences')"
      ]
     },
     "execution_count": 30,
     "metadata": {},
     "output_type": "execute_result"
    },
    {
     "data": {
      "image/png": "[encoded data removed]",
      "text/plain": [
       "<Figure size 640x480 with 1 Axes>"
      ]
     },
     "metadata": {},
     "output_type": "display_data"
    }
   ],
   "source": [
    "positive_sent = []\n",
    "# iterate through the sentences, get polarity scores, choose a value\n",
    "[positive_sent.append(analyzer.polarity_scores(sent.text)[\"pos\"])\n",
    " for sent in doc.sents]\n",
    "plt.hist(positive_sent, bins=15)\n",
    "plt.xlim([0, 1])\n",
    "plt.ylim([0, 8000])\n",
    "plt.xlabel(\"Positive sentiment\")\n",
    "plt.ylabel(\"Number of sentences\")"
   ]
  },
  {
   "cell_type": "code",
   "execution_count": 31,
   "metadata": {},
   "outputs": [
    {
     "data": {
      "text/plain": [
       "Text(0, 0.5, 'Number of sentences')"
      ]
     },
     "execution_count": 31,
     "metadata": {},
     "output_type": "execute_result"
    },
    {
     "data": {
      "image/png": "[encoded data removed]",
      "text/plain": [
       "<Figure size 640x480 with 1 Axes>"
      ]
     },
     "metadata": {},
     "output_type": "display_data"
    }
   ],
   "source": [
    "negative_sent = []\n",
    "[negative_sent.append(analyzer.polarity_scores(sent.text)[\"neg\"])\n",
    " for sent in doc.sents]\n",
    "plt.hist(negative_sent, bins=15)\n",
    "plt.xlim([0, 1])\n",
    "plt.ylim([0, 8000])\n",
    "plt.xlabel(\"Negative sentiment\")\n",
    "plt.ylabel(\"Number of sentences\")"
   ]
  },
  {
   "cell_type": "code",
   "execution_count": 32,
   "metadata": {},
   "outputs": [
    {
     "data": {
      "text/plain": [
       "Text(0, 0.5, 'Number of sentences')"
      ]
     },
     "execution_count": 32,
     "metadata": {},
     "output_type": "execute_result"
    },
    {
     "data": {
      "image/png": "[encoded data removed]",
      "text/plain": [
       "<Figure size 640x480 with 1 Axes>"
      ]
     },
     "metadata": {},
     "output_type": "display_data"
    }
   ],
   "source": [
    "total_sent = []\n",
    "[\n",
    "    total_sent.append(analyzer.polarity_scores(sent.text)[\"compound\"])\n",
    "    for sent in doc.sents\n",
    "]\n",
    "plt.hist(total_sent, bins=15)\n",
    "plt.xlim([-1, 1])\n",
    "plt.ylim([0, 8000])\n",
    "plt.xlabel(\"Compound sentiment\")\n",
    "plt.ylabel(\"Number of sentences\")"
   ]
  },
  {
   "cell_type": "code",
   "execution_count": 33,
   "metadata": {},
   "outputs": [
    {
     "name": "stdout",
     "output_type": "stream",
     "text": [
      "Number of positive sentences: 2734\n",
      "Number of negative sentences: 1343\n",
      "Number of neutral sentences: 1872\n"
     ]
    }
   ],
   "source": [
    "sents = [analyzer.polarity_scores(sent.text)[\"compound\"] for sent in doc.sents]\n",
    "print(\"Number of positive sentences:\", sum(np.array(sents) >= 0.05))\n",
    "print(\"Number of negative sentences:\", sum(np.array(sents) <= -0.05))\n",
    "print(\"Number of neutral sentences:\", sum(np.abs(np.array(sents)) < 0.05))"
   ]
  },
  {
   "cell_type": "markdown",
   "metadata": {},
   "source": [
    "#### Most of the sentences are quite neutral in sentiment. This is not the case when working with data from other sources (e.g., in social media opinions are strong and polarized (bimodal distribution)).\n"
   ]
  },
  {
   "cell_type": "markdown",
   "metadata": {},
   "source": [
    "# Task 2: Document classification: Can we detect paragraphs from Frankenstein?\n"
   ]
  },
  {
   "cell_type": "code",
   "execution_count": 34,
   "metadata": {},
   "outputs": [
    {
     "name": "stdout",
     "output_type": "stream",
     "text": [
      "['DRACULA.txt', 'Frankenstein.txt', 'Moby_Dick.txt', 'PRIDE_AND_PREJUDICE.txt']\n"
     ]
    },
    {
     "name": "stdout",
     "output_type": "stream",
     "text": [
      "\u001b[0;31mDocstring:\u001b[0m     \n",
      "Reader for corpora that consist of plaintext documents.  Paragraphs\n",
      "are assumed to be split using blank lines.  Sentences and words can\n",
      "be tokenized using the default tokenizers, or by custom tokenizers\n",
      "specified as parameters to the constructor.\n",
      "\n",
      "This corpus reader can be customized (e.g., to skip preface\n",
      "sections of specific document formats) by creating a subclass and\n",
      "overriding the ``CorpusView`` class variable.\n",
      "\u001b[0;31mInit docstring:\u001b[0m\n",
      "Construct a new plaintext corpus reader for a set of documents\n",
      "located at the given root directory.  Example usage:\n",
      "\n",
      "    >>> root = '/usr/local/share/nltk_data/corpora/webtext/'\n",
      "    >>> reader = PlaintextCorpusReader(root, '.*\\.txt') # doctest: +SKIP\n",
      "\n",
      ":param root: The root directory for this corpus.\n",
      ":param fileids: A list or regexp specifying the fileids in this corpus.\n",
      ":param word_tokenizer: Tokenizer for breaking sentences or\n",
      "    paragraphs into words.\n",
      ":param sent_tokenizer: Tokenizer for breaking paragraphs\n",
      "    into words.\n",
      ":param para_block_reader: The block reader used to divide the\n",
      "    corpus into paragraph blocks.\n",
      "\u001b[0;31mFile:\u001b[0m           ~/.pyenv/versions/3.9.16/envs/cs401/lib/python3.9/site-packages/nltk/corpus/reader/plaintext.py\n",
      "\u001b[0;31mType:\u001b[0m           type\n",
      "\u001b[0;31mSubclasses:\u001b[0m     CategorizedPlaintextCorpusReader, EuroparlCorpusReader, UdhrCorpusReader"
     ]
    }
   ],
   "source": [
    "# Let's load our corpus via NLTK this time\n",
    "from nltk.corpus import PlaintextCorpusReader\n",
    "?PlaintextCorpusReader\n",
    "our_books = PlaintextCorpusReader(corpus_root, '.*.txt')\n",
    "print(our_books.fileids())"
   ]
  },
  {
   "cell_type": "markdown",
   "metadata": {},
   "source": [
    "### We will segment the books into equally long chunks\n"
   ]
  },
  {
   "cell_type": "code",
   "execution_count": 37,
   "metadata": {},
   "outputs": [
    {
     "name": "stderr",
     "output_type": "stream",
     "text": [
      "[nltk_data] Downloading package punkt to /Users/jonas-\n",
      "[nltk_data]     mika/nltk_data...\n",
      "[nltk_data]   Unzipping tokenizers/punkt.zip.\n"
     ]
    },
    {
     "data": {
      "text/plain": [
       "True"
      ]
     },
     "execution_count": 37,
     "metadata": {},
     "output_type": "execute_result"
    }
   ],
   "source": [
    "nltk.download(\"punkt\")"
   ]
  },
  {
   "cell_type": "code",
   "execution_count": 38,
   "metadata": {},
   "outputs": [
    {
     "name": "stdout",
     "output_type": "stream",
     "text": [
      "DRACULA.txt :\n",
      "Number of sentences: 9303\n",
      "Number of chunks: 187 \n",
      "\n",
      "Frankenstein.txt :\n",
      "Number of sentences: 3378\n",
      "Number of chunks: 68 \n",
      "\n",
      "Moby_Dick.txt :\n",
      "Number of sentences: 9609\n",
      "Number of chunks: 193 \n",
      "\n",
      "PRIDE_AND_PREJUDICE.txt :\n",
      "Number of sentences: 6055\n",
      "Number of chunks: 122 \n",
      "\n"
     ]
    }
   ],
   "source": [
    "def get_chunks(l, n):\n",
    "    \"\"\"Yield successive n-sized chunks from l.\"\"\"\n",
    "    for i in range(0, len(l), n):\n",
    "        yield l[i : i + n]\n",
    "\n",
    "\n",
    "# Get the data\n",
    "book_id = {f: n for n, f in enumerate(our_books.fileids())}  # dictionary of books\n",
    "\n",
    "chunks = list()\n",
    "chunk_class = (\n",
    "    list()\n",
    ")  # this list contains the original book of the chunk, for evaluation\n",
    "\n",
    "limit = 500  # how many chunks total\n",
    "size = 50  # how many sentences per chunk/page\n",
    "\n",
    "for f in our_books.fileids():\n",
    "    sentences = our_books.sents(f)\n",
    "    print(f, \":\")\n",
    "    print(\"Number of sentences:\", len(sentences))\n",
    "\n",
    "    # create chunks\n",
    "    chunks_of_sents = [\n",
    "        x for x in get_chunks(sentences, size)\n",
    "    ]  # this is a list of lists of sentences, which are a list of tokens\n",
    "    chs = list()\n",
    "\n",
    "    # regroup so to have a list of chunks which are strings\n",
    "    for c in chunks_of_sents:\n",
    "        grouped_chunk = list()\n",
    "        for s in c:\n",
    "            grouped_chunk.extend(s)\n",
    "        chs.append(\" \".join(grouped_chunk))\n",
    "    print(\"Number of chunks:\", len(chs), \"\\n\")\n",
    "\n",
    "    # filter to the limit, to have the same number of chunks per book\n",
    "    chunks.extend(chs[:limit])\n",
    "    chunk_class.extend([book_id[f] for _ in range(len(chs[:limit]))])"
   ]
  },
  {
   "cell_type": "markdown",
   "metadata": {},
   "source": [
    "### Representing the chunks with bag-of-words\n"
   ]
  },
  {
   "cell_type": "code",
   "execution_count": 39,
   "metadata": {},
   "outputs": [
    {
     "name": "stdout",
     "output_type": "stream",
     "text": [
      "Number of samples: 570\n",
      "Number of features: 23116\n"
     ]
    }
   ],
   "source": [
    "vectorizer = CountVectorizer()\n",
    "\n",
    "# initialize and specify minumum number of occurences to avoid untractable number of features\n",
    "# vectorizer = CountVectorizer(min_df = 2) if we want high frequency\n",
    "\n",
    "# create bag of words features\n",
    "X = vectorizer.fit_transform(chunks)\n",
    "\n",
    "print(\"Number of samples:\", X.toarray().shape[0])\n",
    "print(\"Number of features:\", X.toarray().shape[1])\n",
    "\n",
    "# mask and convert to int Frankenstein\n",
    "Y = np.array(chunk_class) == 1\n",
    "Y = Y.astype(int)\n",
    "\n",
    "# shuffle the data\n",
    "X, Y = shuffle(X, Y, random_state=0)\n",
    "\n",
    "# split into training and test set\n",
    "X_train, X_test, Y_train, Y_test = train_test_split(\n",
    "    X, Y, test_size=0.2, random_state=42\n",
    ")"
   ]
  },
  {
   "cell_type": "markdown",
   "metadata": {},
   "source": [
    "### Let's fit the regularized logistic regression. We will crossvalidate the regularization parameter on the training set.\n"
   ]
  },
  {
   "cell_type": "code",
   "execution_count": 40,
   "metadata": {},
   "outputs": [],
   "source": [
    "accs = []\n",
    "\n",
    "# the grid of regularization parameter\n",
    "grid = [0.01, 0.1, 1, 10, 100, 1000, 10000]\n",
    "\n",
    "for c in grid:\n",
    "    # initialize the classifier\n",
    "    clf = LogisticRegression(random_state=0, solver=\"lbfgs\", C=c)\n",
    "\n",
    "    # crossvalidate\n",
    "    scores = cross_val_score(clf, X_train, Y_train, cv=10)\n",
    "    accs.append(np.mean(scores))"
   ]
  },
  {
   "cell_type": "code",
   "execution_count": 41,
   "metadata": {},
   "outputs": [
    {
     "data": {
      "text/plain": [
       "(0.986, 1.0)"
      ]
     },
     "execution_count": 41,
     "metadata": {},
     "output_type": "execute_result"
    },
    {
     "data": {
      "image/png": "[encoded data removed]",
      "text/plain": [
       "<Figure size 640x480 with 1 Axes>"
      ]
     },
     "metadata": {},
     "output_type": "display_data"
    }
   ],
   "source": [
    "plt.plot(accs)\n",
    "plt.xticks(range(len(grid)), grid)\n",
    "plt.xlabel(\n",
    "    \"Regularization parameter \\n (Low - strong regularization, High - weak regularization)\"\n",
    ")\n",
    "plt.ylabel(\"Crossvalidation accuracy\")\n",
    "plt.ylim([0.986, 1])"
   ]
  },
  {
   "cell_type": "markdown",
   "metadata": {},
   "source": [
    "### Let's train again, on the entire training set, with the chosen regularization parameter. We will test on the test set\n"
   ]
  },
  {
   "cell_type": "code",
   "execution_count": 42,
   "metadata": {},
   "outputs": [
    {
     "name": "stdout",
     "output_type": "stream",
     "text": [
      "Accuracy: 0.9824561403508771\n"
     ]
    }
   ],
   "source": [
    "clf = LogisticRegression(random_state=0, solver=\"lbfgs\",\n",
    "                         C=10).fit(X_train, Y_train)\n",
    "\n",
    "# predict on the test set\n",
    "print(\"Accuracy:\", clf.score(X_test, Y_test))"
   ]
  },
  {
   "cell_type": "markdown",
   "metadata": {},
   "source": [
    "### What features characterize Frankenstein? BOW are interpretable!\n"
   ]
  },
  {
   "cell_type": "code",
   "execution_count": 44,
   "metadata": {},
   "outputs": [
    {
     "name": "stdout",
     "output_type": "stream",
     "text": [
      "['frankenstein' 'towards' 'death' 'creature' 'by' 'misery' 'but' 'justine'\n",
      " 'yet' 'my' 'had' 'who' 'poor' 'me' 'and' 'will' 'this' 'father' 'of'\n",
      " 'which']\n"
     ]
    }
   ],
   "source": [
    "coefs = clf.coef_[0]\n",
    "top_three = np.argpartition(coefs, -20)[-20:]\n",
    "\n",
    "print(np.array(vectorizer.get_feature_names_out())[top_three])"
   ]
  },
  {
   "cell_type": "markdown",
   "metadata": {},
   "source": [
    "### We can perfectly predict paragraphs from Frankenstein! We saw issues of high dimensionality when using bag of words (more features than samples) and how regularization helps.\n"
   ]
  },
  {
   "cell_type": "markdown",
   "metadata": {},
   "source": [
    "### Alternative text representation: word emdeddings, pretrained on intergraded in Spacy (300-dimensional word vectors trained on Common Crawl with GloVe.) Depending on the application, might be suitable or not\n"
   ]
  },
  {
   "cell_type": "code",
   "execution_count": 45,
   "metadata": {},
   "outputs": [
    {
     "name": "stdout",
     "output_type": "stream",
     "text": [
      "I am already far north of London, and as I walk in the streets of Petersburgh, I feel a cold northern breeze play upon my cheeks, which braces my nerves and fills me with delight. \n",
      "\n",
      "Embedding representation: [0.20092034, -0.07697437, -0.2399046, -0.042964995, 0.06303606, 0.093752265, 0.36673704, -0.08795006, 0.37766427, -0.11488467] ...\n"
     ]
    }
   ],
   "source": [
    "print(example, \"\\n\")\n",
    "print(\"Embedding representation:\", list((nlp(example).vector)[0:10]), \"...\")"
   ]
  },
  {
   "cell_type": "markdown",
   "metadata": {},
   "source": [
    "# Task 3: Topic detection\n"
   ]
  },
  {
   "cell_type": "code",
   "execution_count": 46,
   "metadata": {},
   "outputs": [
    {
     "name": "stdout",
     "output_type": "stream",
     "text": [
      "DRACULA.txt\n",
      "Number of sentences: 9303\n",
      "Number of chunks: 187 \n",
      "\n",
      "Frankenstein.txt\n",
      "Number of sentences: 3378\n",
      "Number of chunks: 68 \n",
      "\n",
      "Moby_Dick.txt\n",
      "Number of sentences: 9609\n",
      "Number of chunks: 193 \n",
      "\n",
      "PRIDE_AND_PREJUDICE.txt\n",
      "Number of sentences: 6055\n",
      "Number of chunks: 122 \n",
      "\n"
     ]
    }
   ],
   "source": [
    "# Get the chunks again (into smaller chunks)\n",
    "book_id = {f: n for n, f in enumerate(\n",
    "    our_books.fileids())}  # dictionary of books\n",
    "chunks = list()\n",
    "chunk_class = (\n",
    "    list()\n",
    ")  # this list contains the original book of the chunk, for evaluation\n",
    "\n",
    "limit = 60  # how many chunks total\n",
    "size = 50  # how many sentences per chunk/page\n",
    "\n",
    "for f in our_books.fileids():\n",
    "    sentences = our_books.sents(f)\n",
    "    print(f)\n",
    "    print(\"Number of sentences:\", len(sentences))\n",
    "\n",
    "    # create chunks\n",
    "    chunks_of_sents = [\n",
    "        x for x in get_chunks(sentences, size)\n",
    "    ]  # this is a list of lists of sentences, which are a list of tokens\n",
    "    chs = list()\n",
    "\n",
    "    # regroup so to have a list of chunks which are strings\n",
    "    for c in chunks_of_sents:\n",
    "        grouped_chunk = list()\n",
    "        for s in c:\n",
    "            grouped_chunk.extend(s)\n",
    "        chs.append(\" \".join(grouped_chunk))\n",
    "    print(\"Number of chunks:\", len(chs), \"\\n\")\n",
    "\n",
    "    # filter to the limit, to have the same number of chunks per book\n",
    "    chunks.extend(chs[:limit])\n",
    "    chunk_class.extend([book_id[f] for _ in range(len(chs[:limit]))])"
   ]
  },
  {
   "cell_type": "code",
   "execution_count": 47,
   "metadata": {},
   "outputs": [],
   "source": [
    "STOPWORDS = spacy.lang.en.stop_words.STOP_WORDS\n",
    "\n",
    "processed_docs = list()\n",
    "for doc in nlp.pipe(chunks, n_process=5, batch_size=10):\n",
    "    # Process document using Spacy NLP pipeline.\n",
    "    ents = doc.ents  # Named entities\n",
    "\n",
    "    # Keep only words (no numbers, no punctuation).\n",
    "    # Lemmatize tokens, remove punctuation and remove stopwords.\n",
    "    doc = [token.lemma_ for token in doc if token.is_alpha and not token.is_stop]\n",
    "\n",
    "    # Remove common words from a stopword list and keep only words of length 3 or more.\n",
    "    doc = [token for token in doc if token not in STOPWORDS and len(token) > 2]\n",
    "\n",
    "    # Add named entities, but only if they are a compound of more than word.\n",
    "    doc.extend([str(entity) for entity in ents if len(entity) > 1])\n",
    "\n",
    "    processed_docs.append(doc)\n",
    "docs = processed_docs\n",
    "del processed_docs"
   ]
  },
  {
   "cell_type": "code",
   "execution_count": 48,
   "metadata": {},
   "outputs": [],
   "source": [
    "# Add bigrams too\n",
    "from gensim.models.phrases import Phrases\n",
    "\n",
    "# Add bigrams to docs (only ones that appear 15 times or more).\n",
    "bigram = Phrases(docs, min_count=15)\n",
    "\n",
    "for idx in range(len(docs)):\n",
    "    for token in bigram[docs[idx]]:\n",
    "        if \"_\" in token:\n",
    "            # Token is a bigram, add to document.\n",
    "            docs[idx].append(token)"
   ]
  },
  {
   "cell_type": "code",
   "execution_count": 49,
   "metadata": {},
   "outputs": [
    {
     "name": "stdout",
     "output_type": "stream",
     "text": [
      "Number of unique tokens: 3087\n",
      "Number of chunks: 240\n"
     ]
    }
   ],
   "source": [
    "# Create a dictionary representation of the documents, and filter out frequent and rare words.\n",
    "from gensim.corpora import Dictionary\n",
    "\n",
    "dictionary = Dictionary(docs)\n",
    "\n",
    "# Remove rare and common tokens.\n",
    "# Filter out words that occur too frequently or too rarely.\n",
    "max_freq = 0.5\n",
    "min_wordcount = 5\n",
    "dictionary.filter_extremes(no_below=min_wordcount, no_above=max_freq)\n",
    "\n",
    "# Bag-of-words representation of the documents.\n",
    "corpus = [dictionary.doc2bow(doc) for doc in docs]\n",
    "# MmCorpus.serialize(\"models/corpus.mm\", corpus)\n",
    "\n",
    "print(\"Number of unique tokens: %d\" % len(dictionary))\n",
    "print(\"Number of chunks: %d\" % len(corpus))"
   ]
  },
  {
   "cell_type": "code",
   "execution_count": 55,
   "metadata": {},
   "outputs": [],
   "source": [
    "# models\n",
    "from gensim.models import LdaMulticore\n",
    "\n",
    "params = {\"passes\": 10, \"random_state\": seed}\n",
    "base_models = dict()\n",
    "model = LdaMulticore(\n",
    "    corpus=corpus,\n",
    "    num_topics=4,\n",
    "    id2word=dictionary,\n",
    "    workers=6,\n",
    "    passes=params[\"passes\"],\n",
    "    random_state=params[\"random_state\"],\n",
    ")"
   ]
  },
  {
   "cell_type": "code",
   "execution_count": 56,
   "metadata": {},
   "outputs": [
    {
     "data": {
      "text/plain": [
       "[(0,\n",
       "  '0.008*\"father\" + 0.006*\"life\" + 0.005*\"Elizabeth\" + 0.005*\"feeling\" + 0.004*\"love\"'),\n",
       " (1,\n",
       "  '0.007*\"room\" + 0.007*\"door\" + 0.006*\"sleep\" + 0.006*\"Lucy\" + 0.005*\"old\"'),\n",
       " (2,\n",
       "  '0.017*\"whale\" + 0.011*\"ship\" + 0.010*\"sea\" + 0.008*\"Queequeg\" + 0.008*\"old\"'),\n",
       " (3,\n",
       "  '0.016*\"Elizabeth\" + 0.012*\"Darcy\" + 0.011*\"Bingley\" + 0.010*\"Miss\" + 0.009*\"Mrs\"')]"
      ]
     },
     "execution_count": 56,
     "metadata": {},
     "output_type": "execute_result"
    }
   ],
   "source": [
    "model.show_topics(num_words=5)"
   ]
  },
  {
   "cell_type": "code",
   "execution_count": 57,
   "metadata": {},
   "outputs": [
    {
     "data": {
      "text/plain": [
       "[('room', 0.0069624716),\n",
       " ('door', 0.006526855),\n",
       " ('sleep', 0.0060360143),\n",
       " ('Lucy', 0.0055484683),\n",
       " ('old', 0.0050474587),\n",
       " ('Count', 0.0048198076),\n",
       " ('window', 0.0044927625),\n",
       " ('dear', 0.004376263),\n",
       " ('fear', 0.0042438013),\n",
       " ('open', 0.004004005),\n",
       " ('ask', 0.003931098),\n",
       " ('light', 0.0037073116),\n",
       " ('try', 0.0036066144),\n",
       " ('sit', 0.0035651547),\n",
       " ('run', 0.0035312327),\n",
       " ('write', 0.003492933),\n",
       " ('fall', 0.0034300408),\n",
       " ('lie', 0.0034238135),\n",
       " ('bed', 0.00333508),\n",
       " ('pass', 0.0032481523)]"
      ]
     },
     "execution_count": 57,
     "metadata": {},
     "output_type": "execute_result"
    }
   ],
   "source": [
    "model.show_topic(1, 20)"
   ]
  },
  {
   "cell_type": "code",
   "execution_count": 58,
   "metadata": {},
   "outputs": [
    {
     "data": {
      "text/plain": [
       "[(1, 0.997226)]"
      ]
     },
     "execution_count": 58,
     "metadata": {},
     "output_type": "execute_result"
    }
   ],
   "source": [
    "sorted(model[corpus[0]], key=lambda x: x[1], reverse=True)"
   ]
  },
  {
   "cell_type": "code",
   "execution_count": 59,
   "metadata": {},
   "outputs": [
    {
     "data": {
      "text/html": [
       "\n",
       "<link rel=\"stylesheet\" type=\"text/css\" href=\"https://cdn.jsdelivr.net/gh/bmabey/pyLDAvis@3.4.0/pyLDAvis/js/ldavis.v1.0.0.css\">\n",
       "\n",
       "\n",
       "<div id=\"ldavis_el73526108265499526394267984\" style=\"background-color:white;\"></div>\n",
       "<script type=\"text/javascript\">\n",
       "\n",
       "var ldavis_el73526108265499526394267984_data = {\"mdsDat\": {\"x\": [0.15985066170530318, -0.1455379711785958, 0.0456967816629262, -0.06000947218963355], \"y\": [0.07473501940328346, 0.0745577309351697, -0.09511679953924651, -0.0541759507992068], \"topics\": [1, 2, 3, 4], \"cluster\": [1, 1, 1, 1], \"Freq\": [26.74020369376332, 25.307135403230756, 24.278813697668365, 23.673847205337562]}, \"tinfo\": {\"Term\": [\"whale\", \"Darcy\", \"Elizabeth\", \"Bingley\", \"ship\", \"Miss\", \"Bennet\", \"Queequeg\", \"Collins\", \"Mrs\", \"Jane\", \"sea\", \"Captain\", \"Ahab\", \"sister\", \"Lucy\", \"Count\", \"Lady\", \"father\", \"Mrs_Bennet\", \"Catherine\", \"old\", \"Wickham\", \"Bildad\", \"Charlotte\", \"Lady_Catherine\", \"sleep\", \"Peleg\", \"harpooneer\", \"Miss_Bingley\", \"Darcy\", \"Bingley\", \"Collins\", \"Jane\", \"Bennet\", \"Wickham\", \"Charlotte\", \"Mrs_Bennet\", \"Catherine\", \"Lady_Catherine\", \"Miss_Bingley\", \"Lucas\", \"Lady Catherine\", \"Netherfield\", \"Longbourn\", \"Lady\", \"Lizzy\", \"Lydia\", \"Miss Bingley\", \"Miss_Bennet\", \"Hurst\", \"Bourgh\", \"Meryton\", \"Colonel\", \"Fitzwilliam\", \"Hertfordshire\", \"Miss_Lucas\", \"Colonel_Fitzwilliam\", \"Miss\", \"Rosings\", \"Sir_William\", \"Mrs\", \"dance\", \"sister\", \"Elizabeth\", \"lady\", \"daughter\", \"young_lady\", \"young\", \"family\", \"wish\", \"gentleman\", \"hope\", \"manner\", \"reply\", \"attention\", \"dear\", \"room\", \"walk\", \"believe\", \"girl\", \"father\", \"mean\", \"whale\", \"Ahab\", \"Bildad\", \"Peleg\", \"Whale\", \"Queequeg\", \"mast\", \"Nantucket\", \"Pequod\", \"ship\", \"Stubb\", \"Captain_Ahab\", \"whaling\", \"Flask\", \"leg\", \"whaleman\", \"Captain_Peleg\", \"oil\", \"pipe\", \"Starbuck\", \"harpooneer\", \"harpoon\", \"mast_head\", \"whale_ship\", \"shipmate\", \"Greenland\", \"captain\", \"Cape\", \"sperm\", \"tail\", \"Captain\", \"Jonah\", \"thou\", \"crew\", \"deck\", \"sea\", \"mate\", \"sailor\", \"sail\", \"cabin\", \"voyage\", \"head\", \"old\", \"stand\", \"sort\", \"round\", \"God\", \"world\", \"water\", \"chapter\", \"boat\", \"right\", \"small\", \"foot\", \"Justine\", \"Safie\", \"Ingolstadt\", \"Victor\", \"Ernest\", \"Geneva\", \"Felix\", \"Clerval\", \"undertaking\", \"victim\", \"Frankenstein\", \"remorse\", \"enterprise\", \"unfortunate\", \"government\", \"murderer\", \"protector\", \"dearest\", \"innocence\", \"ardently\", \"crime\", \"union\", \"accent\", \"shed\", \"ardent\", \"sympathize\", \"Arabian\", \"disaster\", \"creator\", \"celestial\", \"torture\", \"enthusiasm\", \"Henry\", \"forever\", \"tale\", \"abhor\", \"misery\", \"grief\", \"murder\", \"despair\", \"weep\", \"misfortune\", \"science\", \"father\", \"human\", \"possess\", \"endeavour\", \"miserable\", \"pursue\", \"death\", \"month\", \"tear\", \"life\", \"feeling\", \"appear\", \"desire\", \"creature\", \"child\", \"discover\", \"love\", \"remain\", \"return\", \"mind\", \"countenance\", \"spirit\", \"heart\", \"horror\", \"Elizabeth\", \"dear\", \"hope\", \"pass\", \"enter\", \"nature\", \"year\", \"word\", \"believe\", \"wish\", \"Count\", \"Lucy\", \"Jonathan\", \"Dracula\", \"valley\", \"Helsing\", \"Van_Helsing\", \"Van Helsing\", \"later\", \"diary\", \"Hawkins\", \"Diary\", \"Renfield\", \"key\", \"driver\", \"Westenra\", \"courtyard\", \"Bistritz\", \"Pass\", \"Arthur\", \"wolf\", \"abbey\", \"Van\", \"Mina\", \"glacier\", \"Slovaks\", \"Last night\", \"Transylvania\", \"Seward ' s\", \"Harker\", \"asleep\", \"castle\", \"patient\", \"Seward\", \"cat\", \"harbour\", \"window\", \"Whitby\", \"door\", \"outside\", \"sleep\", \"lock\", \"whilst\", \"mountain\", \"awake\", \"room\", \"fall\", \"run\", \"lie\", \"fear\", \"open\", \"bed\", \"ask\", \"try\", \"close\", \"light\", \"write\", \"sound\", \"sit\", \"old\", \"dear\", \"work\", \"wind\", \"face\", \"pass\", \"letter\", \"want\", \"morning\", \"mind\", \"heart\", \"life\", \"house\"], \"Freq\": [316.0, 232.0, 394.0, 208.0, 206.0, 195.0, 170.0, 157.0, 146.0, 194.0, 143.0, 215.0, 120.0, 104.0, 180.0, 99.0, 85.0, 90.0, 220.0, 79.0, 79.0, 278.0, 77.0, 73.0, 73.0, 72.0, 157.0, 68.0, 73.0, 69.0, 230.74177245833425, 206.7708040906532, 145.62918411337594, 142.77238705981634, 169.41810182230236, 76.77075733476222, 72.95300991179168, 78.62897948782611, 78.61885645889647, 71.93976026072531, 68.1403107587517, 58.588249791752, 60.460154420068825, 49.02422690027967, 40.404813697527004, 88.22302553524268, 36.58198655320507, 36.57523179828978, 34.66586650086728, 34.660051676470864, 29.89487704908487, 30.822269850697325, 29.8806028500186, 29.87776940329706, 28.92315958213206, 24.149643924838884, 23.194922586493682, 23.187831004176957, 188.7633921757301, 21.283465772977127, 38.47933985721689, 178.9939409831548, 60.51335494260918, 150.94569512797494, 303.4512288485577, 96.91157028627931, 69.51053373123749, 34.09030129935905, 117.76157788324198, 74.65767973529543, 97.77623353609592, 44.849710983363565, 85.44224223308828, 80.26033473085779, 66.38094289628769, 57.18175870123048, 86.78576480642779, 88.35495263528628, 67.10168981125821, 67.42728356368437, 62.02413963109162, 63.63656426381826, 62.572631192279005, 314.89587884954875, 103.28785314003603, 72.42396406607726, 67.73619847474231, 61.171677626954065, 155.47302698994693, 51.776826030652636, 49.888543142788414, 44.25609332667017, 202.7845112680688, 41.462594135916085, 37.72188635864224, 36.75158804702437, 36.74577684568904, 35.78933667691457, 34.86500673405077, 28.348332449073087, 29.251515477663265, 28.314085562033924, 26.46504443737515, 70.95603910074996, 34.576454094877036, 23.66144779967518, 20.847609404247464, 30.82369098258695, 22.630780195608654, 42.49932279282086, 19.880255463358058, 18.0358419762341, 17.091513143674796, 114.4640210264571, 57.665412407332084, 68.9553230365685, 31.25291647958552, 62.50185256626233, 180.2341380246651, 60.52878386321512, 42.72508516463828, 70.84205081421622, 44.39524769044703, 56.754914760604485, 112.46667364978062, 149.40180778019675, 77.1736842145691, 76.03706664990784, 65.89647724192118, 63.59033925433384, 69.82461672423577, 54.36233246078886, 53.69249781257911, 46.41839869647755, 49.29299193106964, 47.48974040210681, 46.685041943515294, 55.10077327132511, 24.7897243414437, 16.556542059400176, 24.262590847742363, 13.52555391641456, 35.404903199339586, 46.782027702032856, 51.467174307784546, 10.474957972119926, 17.002964106665683, 15.09591997250118, 11.253547207985232, 9.359713388265721, 12.151538634485977, 7.463432984422502, 27.82361263714691, 13.877326839951651, 7.398468323725458, 18.490437660959564, 11.040891727722357, 23.81661410358383, 15.583757275087166, 10.041982838862053, 8.201418015869827, 7.29068482471298, 8.189885595266428, 12.623589890270377, 5.398090828029133, 17.03139944798863, 5.37560147134806, 16.93162675556533, 10.727436568288313, 25.636845828791174, 28.69396427543926, 29.274610597731566, 14.911594448603218, 47.62875244600891, 26.12026729499847, 38.10656851440639, 37.07719717355983, 25.266903298666435, 31.607583537567926, 27.919424094971262, 136.513839695784, 50.34765543401489, 38.508176124861976, 48.92507008466419, 46.067740854726374, 27.663880036347194, 65.79873098056879, 43.63849358979902, 41.754185743736855, 100.65962049557648, 82.20816080448645, 71.11500123713812, 51.65950392256358, 53.04982081103941, 49.721958075350024, 41.873506312689116, 74.00991363603033, 55.684800177761325, 65.36767344027275, 68.01802247989343, 41.868315586913134, 49.36004546575293, 60.95265121204453, 38.40815133508809, 86.77563580592332, 69.21896466515857, 60.42864413876478, 59.99996292595376, 51.775340588785625, 44.89469055502022, 47.89307858446893, 49.97184440818801, 46.89766186382574, 45.4838833907717, 83.41985472995697, 96.03130550941758, 33.121561195138305, 14.72824855630445, 18.086629315210427, 23.153002198338328, 23.141043867847326, 21.370638728412377, 21.34446136872592, 12.817825168768277, 14.379585145776215, 10.112555631346773, 10.108616535119324, 30.366295358872907, 26.890833779719046, 18.386335099071367, 10.045048991958305, 8.344002673091916, 8.315400401738078, 37.30367648866672, 19.891154483042115, 7.461304099198822, 23.978709303398965, 31.31659073816786, 7.420990824239873, 6.586248983893363, 7.394227133606008, 7.398664409650458, 7.374278784654673, 6.557088589953845, 25.140426353868463, 30.71272224929246, 21.8633521678864, 16.187326066845248, 8.986612828201245, 21.838955964754966, 77.75945203154888, 13.464202651330941, 112.96494624723131, 17.67878476177036, 104.46961931391219, 28.8397575512522, 29.669838967264138, 43.64916357913999, 30.927242810491464, 120.5044771707179, 59.366169615959734, 61.11757037911985, 59.25838949555119, 73.45050388414553, 69.3001753845221, 57.72261747922951, 68.03832670943915, 62.42225546637445, 53.24170309918151, 64.1650929768662, 60.454689997503, 44.4688623031519, 61.70468310112698, 87.3599745179603, 75.74311027547841, 49.784445987759106, 42.638014704059145, 49.79711960170829, 56.21809629793992, 49.822120269733965, 47.70585643688004, 48.19935769559955, 49.80695223065456, 48.05371389421596, 48.32712948494352, 46.49884078723637], \"Total\": [316.0, 232.0, 394.0, 208.0, 206.0, 195.0, 170.0, 157.0, 146.0, 194.0, 143.0, 215.0, 120.0, 104.0, 180.0, 99.0, 85.0, 90.0, 220.0, 79.0, 79.0, 278.0, 77.0, 73.0, 73.0, 72.0, 157.0, 68.0, 73.0, 69.0, 232.16080140633017, 208.1830095172406, 146.78350934657794, 143.90630632513958, 170.7730381423137, 77.70400889636537, 73.8703160576699, 79.63155923111285, 79.62967019903343, 72.9129041883254, 69.07408097453037, 59.48056082797863, 61.400903429272844, 49.88632244104311, 41.252482562013476, 90.13440081010509, 37.415200200636974, 37.41525174873229, 35.49540683449175, 35.49643940142126, 30.6988682083375, 31.660296468890447, 30.699698456803393, 30.69866386311857, 29.739892377853312, 24.943571900472573, 23.983556364068853, 23.983478758676775, 195.4509478774719, 22.06480091600811, 40.2723460817036, 194.48746176250788, 66.13787053458793, 180.59630321434165, 394.6291775931421, 126.70618728263753, 89.11933520964064, 36.38157351024312, 220.585987161133, 116.01675864843637, 189.19067911691667, 54.570445602405414, 174.82460472887993, 156.08949643936344, 111.6506300998789, 87.67678110513125, 238.02649385933574, 250.85607736683315, 134.5191222016976, 136.70158403341065, 111.50586057322145, 220.172203501882, 160.07320930988357, 316.81087930550217, 104.36338998456831, 73.33609906630247, 68.63600161187742, 62.056763511110816, 157.89946980276966, 52.65839943361257, 50.77705711831507, 45.14130632019107, 206.92294977186205, 42.31964318637383, 38.559373191135535, 37.61740976154213, 37.62369446558562, 36.67826585927335, 35.736914819176256, 29.15857594766659, 30.09882496372554, 29.157378578960998, 27.279540289499916, 73.29884730044496, 35.73063671217536, 24.459137982726194, 21.638406336288806, 32.00593760877682, 23.5219973019125, 44.2458978786066, 20.697577150876462, 18.817793955348694, 17.876553830747522, 120.52037437556716, 60.34042293609517, 73.6378632452464, 32.9789364268609, 68.11518394349493, 215.4775413617451, 66.98881680838828, 46.31083195721071, 85.00409341844626, 49.262445748452656, 71.68923687597538, 181.51741986667787, 278.02410873031283, 139.39214784629328, 145.1753088336515, 119.6615118385648, 116.48021260857382, 157.6586258641377, 93.99226889242647, 118.72444228183824, 69.44901686964062, 103.40124154182743, 92.77592483640947, 94.60731363243575, 56.71656649525868, 25.757206377890668, 17.485434631560846, 25.69507282996877, 14.388244840561757, 37.96326873827689, 50.25648447351978, 55.3744031742814, 11.291722955298653, 18.4491073400944, 16.39888622399051, 12.302339064649498, 10.24703685197587, 13.314629805985758, 8.198374365536576, 30.686656090605705, 15.344622806180306, 8.190419649341742, 20.474717245122648, 12.279445571397593, 26.554826755228568, 17.4178865845214, 11.239462610889284, 9.198137832767808, 8.178031469610417, 9.196448625737174, 14.281956162296815, 6.128948821292148, 19.366846991592002, 6.126939613227396, 19.379578016030138, 12.252614623926098, 29.560664149643824, 33.56445747368565, 34.54764695409137, 17.29144734519287, 59.715770019424305, 31.504649526885615, 47.44519389477177, 47.353332724967494, 31.317214786677837, 40.573587123480365, 35.363850624095306, 220.172203501882, 71.13161772979602, 52.48091814104246, 70.52438689570451, 65.89731451735993, 35.43346554626837, 106.17222938870658, 66.90071060321517, 64.61114348129468, 218.0755266350802, 166.6994155732266, 136.23875725711227, 88.4197949906853, 92.084134512273, 86.11502059276665, 66.64354835443297, 185.28724554848444, 116.49517163709113, 159.6294414846184, 172.56528464839573, 71.69119495384382, 102.09870872850615, 162.53866892997166, 61.217806866868315, 394.6291775931421, 238.02649385933574, 174.82460472887993, 181.44292677481218, 124.69378339520631, 88.60875449679843, 129.55000960477236, 170.44581405591413, 136.70158403341065, 189.19067911691667, 85.07195920285963, 99.69404555620496, 34.7926221594875, 15.581239478242521, 19.258280546423297, 24.73053039767351, 24.730608526912413, 22.90280246571461, 22.910465103740396, 13.758315551729806, 15.61679697972907, 11.010876247833709, 11.011656608257322, 33.0864247703775, 29.407069002851603, 20.170533198145407, 11.032762406625421, 9.189958959310927, 9.19325594133538, 41.33674211642888, 22.04178368185996, 8.269181708088961, 26.585532206360757, 34.85294687223052, 8.274472053848617, 7.355494709979316, 8.273644155148117, 8.279294939266997, 8.270579924410642, 7.356669344493182, 28.43970890718017, 34.89526367147443, 24.784303393513085, 18.353004599930255, 10.10336696266177, 25.70865992875362, 99.88570926906536, 15.614669924828657, 160.62011527353997, 21.14695713688657, 157.8356734936348, 36.85521340854767, 39.26596266619703, 63.29893292475738, 42.20470397846196, 250.85607736683315, 101.6613003396797, 112.50289409533619, 108.8288741839302, 147.7128466057797, 139.18118136749214, 106.86880151408718, 136.7256171822579, 122.24076574419004, 98.67081425841866, 139.54701567638165, 126.74666667913641, 77.08889586083066, 146.2886894996723, 278.02410873031283, 238.02649385933574, 112.61770214217351, 83.64587391332859, 123.51813791802361, 181.44292677481218, 141.13082178296514, 125.50404233616295, 143.4332565832566, 172.56528464839573, 162.53866892997166, 218.0755266350802, 162.71779788673217], \"Category\": [\"Default\", \"Default\", \"Default\", \"Default\", \"Default\", \"Default\", \"Default\", \"Default\", \"Default\", \"Default\", \"Default\", \"Default\", \"Default\", \"Default\", \"Default\", \"Default\", \"Default\", \"Default\", \"Default\", \"Default\", \"Default\", \"Default\", \"Default\", \"Default\", \"Default\", \"Default\", \"Default\", \"Default\", \"Default\", \"Default\", \"Topic1\", \"Topic1\", \"Topic1\", \"Topic1\", \"Topic1\", \"Topic1\", \"Topic1\", \"Topic1\", \"Topic1\", \"Topic1\", \"Topic1\", \"Topic1\", \"Topic1\", \"Topic1\", \"Topic1\", \"Topic1\", \"Topic1\", \"Topic1\", \"Topic1\", \"Topic1\", \"Topic1\", \"Topic1\", \"Topic1\", \"Topic1\", \"Topic1\", \"Topic1\", \"Topic1\", \"Topic1\", \"Topic1\", \"Topic1\", \"Topic1\", \"Topic1\", \"Topic1\", \"Topic1\", \"Topic1\", \"Topic1\", \"Topic1\", \"Topic1\", \"Topic1\", \"Topic1\", \"Topic1\", \"Topic1\", \"Topic1\", \"Topic1\", \"Topic1\", \"Topic1\", \"Topic1\", \"Topic1\", \"Topic1\", \"Topic1\", \"Topic1\", \"Topic1\", \"Topic1\", \"Topic2\", \"Topic2\", \"Topic2\", \"Topic2\", \"Topic2\", \"Topic2\", \"Topic2\", \"Topic2\", \"Topic2\", \"Topic2\", \"Topic2\", \"Topic2\", \"Topic2\", \"Topic2\", \"Topic2\", \"Topic2\", \"Topic2\", \"Topic2\", \"Topic2\", \"Topic2\", \"Topic2\", \"Topic2\", \"Topic2\", \"Topic2\", \"Topic2\", \"Topic2\", \"Topic2\", \"Topic2\", \"Topic2\", \"Topic2\", \"Topic2\", \"Topic2\", \"Topic2\", \"Topic2\", \"Topic2\", \"Topic2\", \"Topic2\", \"Topic2\", \"Topic2\", \"Topic2\", \"Topic2\", \"Topic2\", \"Topic2\", \"Topic2\", \"Topic2\", \"Topic2\", \"Topic2\", \"Topic2\", \"Topic2\", \"Topic2\", \"Topic2\", \"Topic2\", \"Topic2\", \"Topic2\", \"Topic3\", \"Topic3\", \"Topic3\", \"Topic3\", \"Topic3\", \"Topic3\", \"Topic3\", \"Topic3\", \"Topic3\", \"Topic3\", \"Topic3\", \"Topic3\", \"Topic3\", \"Topic3\", \"Topic3\", \"Topic3\", \"Topic3\", \"Topic3\", \"Topic3\", \"Topic3\", \"Topic3\", \"Topic3\", \"Topic3\", \"Topic3\", \"Topic3\", \"Topic3\", \"Topic3\", \"Topic3\", \"Topic3\", \"Topic3\", \"Topic3\", \"Topic3\", \"Topic3\", \"Topic3\", \"Topic3\", \"Topic3\", \"Topic3\", \"Topic3\", \"Topic3\", \"Topic3\", \"Topic3\", \"Topic3\", \"Topic3\", \"Topic3\", \"Topic3\", \"Topic3\", \"Topic3\", \"Topic3\", \"Topic3\", \"Topic3\", \"Topic3\", \"Topic3\", \"Topic3\", \"Topic3\", \"Topic3\", \"Topic3\", \"Topic3\", \"Topic3\", \"Topic3\", \"Topic3\", \"Topic3\", \"Topic3\", \"Topic3\", \"Topic3\", \"Topic3\", \"Topic3\", \"Topic3\", \"Topic3\", \"Topic3\", \"Topic3\", \"Topic3\", \"Topic3\", \"Topic3\", \"Topic3\", \"Topic3\", \"Topic3\", \"Topic3\", \"Topic4\", \"Topic4\", \"Topic4\", \"Topic4\", \"Topic4\", \"Topic4\", \"Topic4\", \"Topic4\", \"Topic4\", \"Topic4\", \"Topic4\", \"Topic4\", \"Topic4\", \"Topic4\", \"Topic4\", \"Topic4\", \"Topic4\", \"Topic4\", \"Topic4\", \"Topic4\", \"Topic4\", \"Topic4\", \"Topic4\", \"Topic4\", \"Topic4\", \"Topic4\", \"Topic4\", \"Topic4\", \"Topic4\", \"Topic4\", \"Topic4\", \"Topic4\", \"Topic4\", \"Topic4\", \"Topic4\", \"Topic4\", \"Topic4\", \"Topic4\", \"Topic4\", \"Topic4\", \"Topic4\", \"Topic4\", \"Topic4\", \"Topic4\", \"Topic4\", \"Topic4\", \"Topic4\", \"Topic4\", \"Topic4\", \"Topic4\", \"Topic4\", \"Topic4\", \"Topic4\", \"Topic4\", \"Topic4\", \"Topic4\", \"Topic4\", \"Topic4\", \"Topic4\", \"Topic4\", \"Topic4\", \"Topic4\", \"Topic4\", \"Topic4\", \"Topic4\", \"Topic4\", \"Topic4\", \"Topic4\", \"Topic4\", \"Topic4\", \"Topic4\", \"Topic4\"], \"logprob\": [30.0, 29.0, 28.0, 27.0, 26.0, 25.0, 24.0, 23.0, 22.0, 21.0, 20.0, 19.0, 18.0, 17.0, 16.0, 15.0, 14.0, 13.0, 12.0, 11.0, 10.0, 9.0, 8.0, 7.0, 6.0, 5.0, 4.0, 3.0, 2.0, 1.0, -4.4394, -4.5491, -4.8996, -4.9195, -4.7483, -5.5399, -5.5909, -5.516, -5.5161, -5.6049, -5.6591, -5.8102, -5.7787, -5.9884, -6.1818, -5.4008, -6.2811, -6.2813, -6.3349, -6.3351, -6.483, -6.4525, -6.4835, -6.4836, -6.5161, -6.6964, -6.7368, -6.7371, -4.6402, -6.8228, -6.2306, -4.6934, -5.7778, -4.8638, -4.1655, -5.3069, -5.6392, -6.3517, -5.112, -5.5678, -5.298, -6.0774, -5.4329, -5.4954, -5.6853, -5.8345, -5.4173, -5.3993, -5.6745, -5.6697, -5.7532, -5.7275, -5.7444, -4.0734, -5.1881, -5.5431, -5.61, -5.7119, -4.7792, -5.8787, -5.9158, -6.0356, -4.5135, -6.1008, -6.1954, -6.2214, -6.2216, -6.248, -6.2741, -6.4811, -6.4497, -6.4823, -6.5498, -5.5636, -6.2825, -6.6618, -6.7884, -6.3973, -6.7063, -6.0761, -6.8359, -6.9333, -6.987, -5.0854, -5.771, -5.5922, -6.3835, -5.6904, -4.6314, -5.7225, -6.0708, -5.5652, -6.0325, -5.7869, -5.103, -4.819, -5.4796, -5.4944, -5.6375, -5.6732, -5.5796, -5.83, -5.8423, -5.9879, -5.9278, -5.9651, -5.9822, -5.775, -6.5737, -6.9774, -6.5952, -7.1796, -6.2173, -5.9386, -5.8432, -7.4352, -6.9508, -7.0697, -7.3635, -7.5477, -7.2867, -7.7741, -6.4583, -7.1539, -7.7829, -6.8669, -7.3825, -6.6138, -7.0379, -7.4774, -7.6798, -7.7975, -7.6812, -7.2486, -8.0981, -6.9491, -8.1023, -6.955, -7.4113, -6.5401, -6.4275, -6.4074, -7.082, -5.9207, -6.5214, -6.1438, -6.1711, -6.5546, -6.3307, -6.4548, -4.8677, -5.8652, -6.1333, -5.8939, -5.954, -6.464, -5.5975, -6.0082, -6.0523, -5.1724, -5.3749, -5.5198, -5.8395, -5.8129, -5.8777, -6.0495, -5.4799, -5.7644, -5.6041, -5.5644, -6.0496, -5.885, -5.674, -6.1359, -5.3208, -5.5469, -5.6827, -5.6898, -5.8372, -5.9798, -5.9152, -5.8727, -5.9362, -5.9668, -5.335, -5.1942, -6.2587, -7.0691, -6.8637, -6.6168, -6.6173, -6.6969, -6.6981, -7.2081, -7.0931, -7.4451, -7.4455, -6.3456, -6.4671, -6.8473, -7.4518, -7.6374, -7.6408, -6.1398, -6.7686, -7.7492, -6.5817, -6.3148, -7.7546, -7.8739, -7.7582, -7.7576, -7.7609, -7.8784, -6.5344, -6.3342, -6.6741, -6.9747, -7.5632, -6.6752, -5.4053, -7.1589, -5.0318, -6.8865, -5.11, -6.3972, -6.3688, -5.9827, -6.3273, -4.9672, -5.6752, -5.6461, -5.677, -5.4623, -5.5205, -5.7033, -5.5388, -5.625, -5.7841, -5.5974, -5.657, -5.9641, -5.6365, -5.2889, -5.4316, -5.8512, -6.0062, -5.851, -5.7297, -5.8504, -5.8939, -5.8836, -5.8508, -5.8866, -5.8809, -5.9195], \"loglift\": [30.0, 29.0, 28.0, 27.0, 26.0, 25.0, 24.0, 23.0, 22.0, 21.0, 20.0, 19.0, 18.0, 17.0, 16.0, 15.0, 14.0, 13.0, 12.0, 11.0, 10.0, 9.0, 8.0, 7.0, 6.0, 5.0, 4.0, 3.0, 2.0, 1.0, 1.3129, 1.3122, 1.3111, 1.3111, 1.311, 1.3069, 1.3065, 1.3063, 1.3062, 1.3056, 1.3054, 1.3039, 1.3036, 1.3016, 1.2982, 1.2976, 1.2965, 1.2963, 1.2954, 1.2952, 1.2925, 1.2922, 1.292, 1.2919, 1.2912, 1.2867, 1.2856, 1.2853, 1.2842, 1.2829, 1.2735, 1.236, 1.2301, 1.1397, 1.0563, 1.0509, 1.0705, 1.254, 0.6914, 0.8782, 0.6589, 1.1228, 0.6031, 0.6538, 0.799, 0.8916, 0.3101, 0.2755, 0.6235, 0.6123, 0.7324, 0.0778, 0.3797, 1.368, 1.3637, 1.3616, 1.3609, 1.3597, 1.3586, 1.3572, 1.3564, 1.3543, 1.3539, 1.3536, 1.3521, 1.3508, 1.3505, 1.3495, 1.3494, 1.3459, 1.3455, 1.3447, 1.3438, 1.3416, 1.3412, 1.3409, 1.3369, 1.3364, 1.3355, 1.3338, 1.3338, 1.3316, 1.3292, 1.3225, 1.3287, 1.3084, 1.3203, 1.2881, 1.1955, 1.2727, 1.2935, 1.1918, 1.2701, 1.1405, 0.8954, 0.753, 0.7829, 0.7274, 0.7775, 0.7688, 0.5596, 0.8265, 0.5806, 0.9712, 0.6332, 0.7044, 0.6678, 1.3867, 1.3773, 1.361, 1.3582, 1.3537, 1.3458, 1.3439, 1.3424, 1.3405, 1.3339, 1.3328, 1.3265, 1.325, 1.3242, 1.3216, 1.3176, 1.3151, 1.3139, 1.3136, 1.3092, 1.3067, 1.3043, 1.3029, 1.3009, 1.3007, 1.2996, 1.2921, 1.2886, 1.2871, 1.2847, 1.2805, 1.2826, 1.2732, 1.2588, 1.2499, 1.2675, 1.1894, 1.2281, 1.1964, 1.1709, 1.2009, 1.1658, 1.1792, 0.9376, 1.07, 1.106, 1.0499, 1.0576, 1.168, 0.9371, 0.9883, 0.979, 0.6425, 0.7086, 0.7655, 0.8781, 0.8641, 0.8663, 0.9509, 0.4979, 0.6774, 0.5227, 0.4846, 0.8777, 0.6888, 0.4347, 0.9494, -0.0991, 0.1805, 0.3532, 0.309, 0.5366, 0.7357, 0.4205, 0.1886, 0.3457, -0.0098, 1.4212, 1.4034, 1.3916, 1.3845, 1.378, 1.3749, 1.3744, 1.3716, 1.37, 1.37, 1.3583, 1.3557, 1.3552, 1.355, 1.3513, 1.3482, 1.347, 1.3442, 1.3404, 1.3381, 1.3381, 1.338, 1.3376, 1.3338, 1.3319, 1.3303, 1.3284, 1.3283, 1.3261, 1.3257, 1.3175, 1.3131, 1.3154, 1.3152, 1.3237, 1.2777, 1.1904, 1.2926, 1.0888, 1.2617, 1.0281, 1.1956, 1.1606, 1.0691, 1.1299, 0.7076, 0.9029, 0.8306, 0.8329, 0.7421, 0.7435, 0.8248, 0.7429, 0.7687, 0.8239, 0.6639, 0.7005, 0.8906, 0.5776, 0.2831, 0.2958, 0.6245, 0.767, 0.5324, 0.2691, 0.3996, 0.4735, 0.3503, 0.1982, 0.2222, -0.066, 0.1882]}, \"token.table\": {\"Topic\": [2, 3, 4, 2, 3, 4, 1, 3, 2, 1, 3, 4, 1, 2, 1, 2, 3, 2, 2, 1, 1, 3, 4, 1, 3, 1, 1, 3, 4, 1, 3, 4, 4, 1, 2, 3, 4, 3, 3, 4, 1, 2, 3, 4, 3, 4, 1, 2, 3, 4, 2, 4, 3, 4, 2, 4, 2, 3, 4, 1, 1, 3, 1, 3, 2, 3, 2, 4, 3, 4, 1, 4, 1, 1, 4, 1, 1, 1, 2, 4, 1, 1, 2, 3, 4, 1, 2, 3, 4, 1, 1, 1, 1, 1, 2, 3, 4, 1, 2, 1, 4, 2, 2, 2, 4, 4, 1, 3, 2, 4, 4, 1, 2, 4, 2, 2, 4, 2, 4, 2, 4, 2, 4, 3, 4, 2, 4, 2, 2, 4, 1, 4, 3, 4, 3, 4, 1, 2, 3, 4, 3, 3, 4, 1, 2, 3, 4, 2, 4, 1, 2, 3, 4, 1, 2, 3, 4, 1, 2, 3, 4, 1, 2, 3, 4, 2, 3, 4, 2, 3, 2, 3, 4, 2, 3, 4, 2, 4, 3, 1, 2, 3, 4, 1, 2, 3, 4, 1, 2, 3, 4, 1, 2, 3, 4, 4, 3, 4, 1, 2, 3, 4, 2, 3, 3, 4, 1, 2, 3, 4, 1, 2, 3, 4, 1, 2, 3, 4, 3, 1, 2, 3, 4, 2, 3, 1, 2, 3, 4, 1, 2, 3, 4, 4, 3, 1, 2, 3, 4, 1, 2, 3, 4, 2, 3, 4, 1, 3, 4, 1, 2, 3, 4, 3, 2, 3, 1, 2, 3, 4, 1, 2, 3, 4, 1, 2, 3, 4, 1, 2, 3, 4, 1, 2, 3, 4, 1, 2, 3, 4, 1, 2, 3, 4, 1, 3, 4, 1, 2, 3, 4, 1, 2, 3, 4, 4, 3, 1, 2, 3, 4, 2, 4, 2, 4, 2, 4, 1, 2, 3, 4, 1, 2, 3, 4, 1, 2, 3, 4, 2, 3, 4, 1, 2, 3, 4, 1, 2, 3, 4, 2, 3, 4, 2, 3, 4, 1, 2, 3, 4, 2, 4, 2, 1, 2, 3, 4, 1, 2, 3, 4, 1, 2, 3, 4, 1, 2, 3, 4, 2, 3, 4, 1, 2, 3, 4, 1, 2, 3, 4, 2, 2, 2, 3, 4, 1, 2, 3, 4, 1, 2, 3, 4, 1, 2, 3, 4, 1, 2, 3, 4, 1, 3, 4, 1, 2, 3, 4, 1, 2, 3, 4, 1, 2, 3, 4, 2, 3, 4, 2, 3, 4, 1, 2, 3, 4, 2, 1, 2, 3, 4, 1, 2, 3, 4, 2, 4, 1, 2, 3, 4, 1, 2, 4, 2, 1, 2, 3, 4, 3, 4, 1, 2, 3, 4, 1, 2, 3, 4, 3, 1, 2, 3, 4, 1, 2, 3, 4, 1, 2, 3, 4, 1, 2, 3, 4, 1, 2, 3, 4, 1, 2, 3, 4, 2, 3, 4, 2, 3, 1, 2, 3, 4, 2, 3, 4, 3, 2, 3, 4, 2, 3, 1, 2, 3, 4, 1, 2, 3, 4, 1, 2, 3, 4, 1, 2, 3, 4, 1, 2, 3, 4, 1, 2, 3, 4, 2, 1, 2, 3, 4, 1, 2, 3, 4, 3, 2, 2, 3, 4, 1, 2, 3, 4, 2, 3, 4, 2, 3, 4, 1, 2, 3, 4, 3, 3, 4, 1, 3, 3, 4, 3, 4, 2, 3, 4, 1, 2, 3, 4, 1, 2, 3, 4, 2, 3, 4, 2, 3, 4, 1, 2, 3, 2, 2, 2, 1, 2, 3, 4, 1, 2, 3, 4, 1, 2, 3, 4, 1, 2, 3, 4, 2, 3, 4, 1, 2, 3, 4, 1, 2, 3, 4, 1, 2, 3, 4, 1, 2, 3, 4, 1, 2, 3, 4, 1, 2, 3, 4, 1, 4], \"Freq\": [0.9869361278435866, 0.9102394554549136, 0.07001841965037797, 0.04838310659235818, 0.02419155329617909, 0.8950874719586263, 0.9896175756922697, 0.0058557252999542585, 0.9817811543930839, 0.9943174540516831, 0.004803465961602334, 0.8705153130085196, 0.9791443371498666, 0.9662966758963417, 0.033189409016728975, 0.9458981569767757, 0.016594704508364488, 0.9854931980257363, 0.9602663741279414, 0.9920925178082545, 0.988218324976565, 0.9210031544626546, 0.054176656144862036, 0.994662143247114, 0.00681275440580215, 0.9772412289266458, 0.9589934901199031, 0.01175475455567486, 0.9756446281210133, 0.9950000112021559, 0.004307359355853488, 0.9081929335067598, 0.9626961976257308, 0.7678094200940948, 0.0025340244887593886, 0.22046013052206684, 0.007602073466278166, 0.9730165253049309, 0.9352027005542812, 0.05969378939708178, 0.9751212153543536, 0.9834228277035336, 0.9146962662656913, 0.06097975108437942, 0.9219437936520692, 0.05268250249440396, 0.025755447494600275, 0.5494495465514725, 0.16311783413246841, 0.2661396241108695, 0.9778081216823344, 0.951517551246181, 0.06403361721984482, 0.8964706410778275, 0.04043584928910678, 0.930024533649456, 0.06765747852874604, 0.8795472208736986, 0.03382873926437302, 0.9621717409103426, 0.977234723977619, 0.972237771505854, 0.9937021083489428, 0.00694896579264995, 0.9612130173735466, 0.03314527646115678, 0.02874172562838334, 0.9484769457366502, 0.9697343016100564, 0.01763153275654648, 0.9763197980912766, 0.011094543160128143, 0.9771843189426922, 0.9874795250787505, 0.8460600756734725, 0.9889029004679787, 0.9696386136245094, 0.9919207078533029, 0.030092068019334985, 0.9629461766187195, 0.9889015380273004, 0.9772082954564548, 0.08607593530033135, 0.028691978433443784, 0.8894513314367573, 0.9669945428890118, 0.0051163732427990044, 0.0051163732427990044, 0.02558186621399502, 0.9860430720853056, 0.9860143887727121, 0.9844503037988096, 0.9589903870327432, 0.9203678138315163, 0.02570859815171833, 0.015425158891031, 0.03599203741240567, 0.9920689832371624, 0.9846966885752269, 0.9822331573530882, 0.8702031196618625, 0.9907337024747759, 0.9747170294077072, 0.9816372416804733, 0.012666286989425462, 0.908128572816309, 0.9517421018181228, 0.9706021543337621, 0.10897398238583782, 0.8717918590867025, 0.8463735389751181, 0.9435755225907744, 0.024830934805020376, 0.9516695036845025, 0.953095240025272, 0.9688172421359467, 0.8454826227775069, 0.07522888706818844, 0.9027466448182613, 0.04366277888904624, 0.9169183566699709, 0.04043572154368046, 0.9300215955046507, 0.9340312113071045, 0.03891796713779602, 0.049577271467069875, 0.8923908864072578, 0.9829710179629073, 0.12808467995982606, 0.8325504197388695, 0.9909398638967996, 0.846516650269344, 0.8674808823432639, 0.11566411764576852, 0.8897222532963064, 0.08897222532963063, 0.2569019323476899, 0.05138038646953798, 0.5211439199053137, 0.16882126982848192, 0.8559517074508719, 0.8958059169725224, 0.08143690154295657, 0.31449848891652954, 0.05851134677516829, 0.12433661189723261, 0.49734644758893043, 0.10548631175485029, 0.8790525979570858, 0.6501151078032003, 0.03421658462122107, 0.26232714876269486, 0.05702764103536845, 0.04738808264170379, 0.023694041320851896, 0.21324637188766707, 0.7345152809464087, 0.028071803533836277, 0.39300524947370785, 0.046786339223060455, 0.5427215349875013, 0.49011868058255137, 0.029260816751197096, 0.3438145968265659, 0.13167367538038693, 0.6623563885194281, 0.07199525962167698, 0.2591829346380371, 0.8931753048696744, 0.08119775498815222, 0.9492405401113463, 0.02260096524074634, 0.02260096524074634, 0.08597155270823724, 0.02865718423607908, 0.8883727113184514, 0.0989769057875085, 0.8907921520875766, 0.816068105062688, 0.28637742445054315, 0.45483473295086263, 0.1684573085003195, 0.09265151967517572, 0.15096088824592294, 0.0928990081513372, 0.5806188009458575, 0.1857980163026744, 0.14188592751787807, 0.18242476395155752, 0.14188592751787807, 0.5371395827462527, 0.2510768583448602, 0.0836922861149534, 0.5858460028046738, 0.0836922861149534, 0.906391312659355, 0.8777887287166799, 0.10326926220196234, 0.11945597423771102, 0.1628945103241514, 0.575560603145335, 0.1411752422809312, 0.9399939282077914, 0.030322384780896498, 0.9037904943316744, 0.07531587452763953, 0.9223157550574448, 0.015119930410777783, 0.030239860821555567, 0.04535979123233335, 0.785463668858558, 0.011220909555122257, 0.16831364332683385, 0.03366272866536677, 0.3655055308734395, 0.02520727799127169, 0.28988369689962445, 0.3192921878894414, 0.8546570627260333, 0.04709329387531769, 0.16953585795114368, 0.6216314791541935, 0.16011719917608014, 0.9249039105915322, 0.07340507226916922, 0.21488400874489225, 0.06785810802470281, 0.5881036028807577, 0.13571621604940562, 0.02111783780474527, 0.02111783780474527, 0.781359998775575, 0.16894270243796217, 0.9448831109536178, 0.815800579477814, 0.12004162739734821, 0.09003122054801115, 0.6302185438360781, 0.16505723767135377, 0.12451740534452682, 0.11206566481007414, 0.06225870267226341, 0.7035233401965766, 0.03400542909948047, 0.03400542909948047, 0.9181465856859726, 0.25523086115756566, 0.6947951220400398, 0.042538476859594276, 0.19247150376321526, 0.1603929198026794, 0.4170215914869664, 0.23256973371388512, 0.8783026869142748, 0.08161523321293938, 0.8977675653423332, 0.08095976970310861, 0.37241494063429964, 0.14572758546559553, 0.4047988485155431, 0.09836584783577544, 0.13771218697008564, 0.1770585261043958, 0.5803585022310751, 0.6464583295872904, 0.06033611076148044, 0.25858333183491616, 0.034477777577988825, 0.29068156189594996, 0.03179329583236953, 0.6222402184335178, 0.059044692260114835, 0.09477848624340443, 0.11508816186699108, 0.28433545873021326, 0.4942021068406088, 0.3239363486327236, 0.02399528508390545, 0.49190334422006177, 0.15596935304538542, 0.010570007345152583, 0.4967903452221714, 0.08456005876122066, 0.40166027911579816, 0.029793420638006572, 0.8640091985021906, 0.08938026191401972, 0.8246221833676294, 0.10994962444901725, 0.036649874816339086, 0.036649874816339086, 0.5560245863425902, 0.07174510791517293, 0.17936276978793234, 0.18833090827732896, 0.8459754235007857, 0.8538278063302195, 0.03174134659541648, 0.09522403978624942, 0.8252750114808284, 0.03174134659541648, 0.11669219664945185, 0.8557427754293135, 0.9795515339382017, 0.02798718668394862, 0.9686373335310144, 0.02728555869101449, 0.0936549231059271, 0.6170206698743432, 0.06060024436265871, 0.22587363807900065, 0.1415047886845274, 0.18457146350155748, 0.37529530911983355, 0.295314341602492, 0.4862015854794524, 0.03432011191619664, 0.34320111916196644, 0.13156042901208712, 0.04900534915476741, 0.6207344226270539, 0.3267023276984494, 0.3318628982281913, 0.16593144911409566, 0.21509632292567954, 0.2826980244166074, 0.07029222952573974, 0.08435067543088769, 0.7029222952573974, 0.14058445905147948, 0.04884072331881474, 0.8791330197386653, 0.04884072331881474, 0.030223876013805724, 0.030223876013805724, 0.9067162804141717, 0.7655506181685245, 0.039461372070542504, 0.094707292969302, 0.1025995673834105, 0.04364817542864892, 0.9166116840016273, 0.9815076900888468, 0.34719559753824397, 0.03542812219777999, 0.26925372870312797, 0.3542812219778, 0.018377475784779572, 0.2848508746640834, 0.14701980627823658, 0.5421355356509974, 0.15590928759692685, 0.1604948548791894, 0.463142295508518, 0.22010722954860262, 0.05732834888101445, 0.31530591884557946, 0.17198504664304334, 0.4586267910481156, 0.1899324234648583, 0.027133203352122617, 0.7868628972115559, 0.3130274824276722, 0.059367281150075765, 0.399379891373237, 0.22667507348210747, 0.5125264788785954, 0.09609871478973664, 0.26266982042528014, 0.12813161971964884, 0.9874967822665665, 0.9812283661406853, 0.9105997524106387, 0.059711459174468115, 0.04478359438085108, 0.39356991886155757, 0.22489709649231862, 0.1874142470769322, 0.19366138864616325, 0.1448727074564149, 0.17384724894769787, 0.3940537642814485, 0.2897454149128298, 0.06070050091261676, 0.01517512522815419, 0.6980557604950928, 0.21245175319415865, 0.08372997615828455, 0.01674599523165691, 0.8038077711195316, 0.10047597138994145, 0.1725260322361053, 0.7886904330793385, 0.049293152067458657, 0.17937029206119215, 0.02989504867686536, 0.6576910708910378, 0.1494752433843268, 0.2719034687563009, 0.23007216587071616, 0.1603533277280749, 0.334650423084678, 0.01579805462421755, 0.01579805462421755, 0.2685669286116984, 0.6951144034655723, 0.042153900865823844, 0.8009241164506531, 0.14753865303038347, 0.03258745420313607, 0.91244871768781, 0.06517490840627214, 0.16928349896332165, 0.18056906556087643, 0.507850496889965, 0.14671236576821212, 0.9634927620912171, 0.021580862276300225, 0.5359247465281223, 0.125888363278418, 0.31292250300635327, 0.13651270820753167, 0.22991614013900072, 0.13651270820753167, 0.49575667717472033, 0.14186438174441227, 0.8511862904664736, 0.24801187238259914, 0.11573887377854628, 0.3306824965101322, 0.30863699674279005, 0.040348118085971094, 0.08069623617194219, 0.887658597891364, 0.9603058081567002, 0.11432726812962762, 0.1333818128178989, 0.7431272428425796, 0.019054544688271273, 0.912371726358843, 0.06516940902563165, 0.08466572359631758, 0.08466572359631758, 0.7902134202322973, 0.05644381573087839, 0.1545128415800277, 0.12876070131668976, 0.4807066182489751, 0.24035330912448755, 0.8941389066090902, 0.5911296688693886, 0.06269557094069272, 0.2507822837627709, 0.09852161147823142, 0.37587051261957516, 0.05011606834927669, 0.4071930553378731, 0.16287722213514924, 0.22243446652133414, 0.4738821243280597, 0.038684255047188545, 0.27078978533031983, 0.3507987564969988, 0.09567238813554513, 0.07175429110165885, 0.4823482901833734, 0.05014143568647697, 0.5515557925512466, 0.041784529738730807, 0.3509900498053388, 0.10666392270612228, 0.3199917681183668, 0.03555464090204076, 0.5422082737561216, 0.8352538936035837, 0.08234897542570543, 0.08234897542570543, 0.9285084759377724, 0.06477966111193761, 0.028277463634535482, 0.056554927269070965, 0.7917689817669935, 0.11310985453814193, 0.8353538789354146, 0.04640854882974525, 0.11138051719138861, 0.8697412612692632, 0.9810414950290086, 0.009665433448561661, 0.009665433448561661, 0.968570281518609, 0.03124420262963255, 0.8361189975233595, 0.022148847616512833, 0.11628144998669238, 0.022148847616512833, 0.23241714801250005, 0.28710353578014713, 0.061522186238602956, 0.4238195051992648, 0.012671406632801906, 0.24709242933963715, 0.07602843979681144, 0.6589131449056991, 0.2155731676646256, 0.5065969440118702, 0.08622926706585023, 0.18323719251493176, 0.19975848670816002, 0.523504999648971, 0.006888223679591725, 0.26864072350407725, 0.06486018439058394, 0.18160851629363503, 0.16863647941551826, 0.5707696226371387, 0.956541454471806, 0.21547774965989905, 0.09794443166359049, 0.4799277151515934, 0.20568330649354002, 0.13630609968756033, 0.5523984039969551, 0.07174005246713701, 0.24391617838826585, 0.8699010156606765, 0.9509662858374942, 0.05789106281703351, 0.8394204108469859, 0.08683659422555028, 0.03095441269475462, 0.13929485712639578, 0.650042666589847, 0.18572647616852772, 0.9370179546111995, 0.0543198814267362, 0.01357997035668405, 0.05160071076742917, 0.8772120830462959, 0.05160071076742917, 0.19633384864607403, 0.16361154053839502, 0.12270865540379627, 0.5071957756690246, 0.885604441376016, 0.9012642615572571, 0.07510535512977143, 0.05741224660910705, 0.9185959457457128, 0.05192571567276928, 0.9346628821098472, 0.9214537964693209, 0.054203164498195344, 0.7950984343523112, 0.18133823941368502, 0.01394909533951423, 0.4980704520175235, 0.08920664812254152, 0.1412438595273574, 0.26761994436762454, 0.35855418807521244, 0.1752931586145483, 0.08764657930727415, 0.38245780061356, 0.5745153365943602, 0.10639172899895559, 0.31917518699686676, 0.031931319780882754, 0.798282994522069, 0.12772527912353102, 0.003156457259902667, 0.9942840368693402, 0.003156457259902667, 0.9704966102231769, 0.9793794505512033, 0.9835871271983928, 0.02546734963563932, 0.02546734963563932, 0.17827144744947523, 0.7640204890691796, 0.011955162319616276, 0.3108342203100232, 0.1554171101550116, 0.5140719797434999, 0.10011442150410803, 0.07008009505287563, 0.050057210752054014, 0.7808924877320427, 0.5179959206100088, 0.03171403595571482, 0.23785526966786114, 0.21142690637143213, 0.045368379185346246, 0.045368379185346246, 0.9073675837069249, 0.23467868789595586, 0.21121081910636028, 0.29334835986994484, 0.2581465566855515, 0.08879598686337573, 0.17759197372675145, 0.2841471579628023, 0.44397993431687865, 0.17759890933039718, 0.4439972733259929, 0.24736990942448178, 0.13319918199779787, 0.2840311382005434, 0.07889753838903983, 0.15779507677807966, 0.47338523033423896, 0.208413724417087, 0.3241991268710242, 0.3705132878525991, 0.10034734879341226, 0.5349387851813258, 0.1768018018819636, 0.1133344883858741, 0.18133518141739854, 0.9345390185069209, 0.05497288344158358], \"Term\": [\"Ahab\", \"Arabian\", \"Arabian\", \"Arthur\", \"Arthur\", \"Arthur\", \"Bennet\", \"Bennet\", \"Bildad\", \"Bingley\", \"Bingley\", \"Bistritz\", \"Bourgh\", \"Cape\", \"Captain\", \"Captain\", \"Captain\", \"Captain_Ahab\", \"Captain_Peleg\", \"Catherine\", \"Charlotte\", \"Clerval\", \"Clerval\", \"Collins\", \"Collins\", \"Colonel\", \"Colonel_Fitzwilliam\", \"Count\", \"Count\", \"Darcy\", \"Darcy\", \"Diary\", \"Dracula\", \"Elizabeth\", \"Elizabeth\", \"Elizabeth\", \"Elizabeth\", \"Ernest\", \"Felix\", \"Felix\", \"Fitzwilliam\", \"Flask\", \"Frankenstein\", \"Frankenstein\", \"Geneva\", \"Geneva\", \"God\", \"God\", \"God\", \"God\", \"Greenland\", \"Harker\", \"Hawkins\", \"Hawkins\", \"Helsing\", \"Helsing\", \"Henry\", \"Henry\", \"Henry\", \"Hertfordshire\", \"Hurst\", \"Ingolstadt\", \"Jane\", \"Jane\", \"Jonah\", \"Jonah\", \"Jonathan\", \"Jonathan\", \"Justine\", \"Justine\", \"Lady\", \"Lady\", \"Lady Catherine\", \"Lady_Catherine\", \"Last night\", \"Lizzy\", \"Longbourn\", \"Lucas\", \"Lucy\", \"Lucy\", \"Lydia\", \"Meryton\", \"Mina\", \"Mina\", \"Mina\", \"Miss\", \"Miss\", \"Miss\", \"Miss\", \"Miss Bingley\", \"Miss_Bennet\", \"Miss_Bingley\", \"Miss_Lucas\", \"Mrs\", \"Mrs\", \"Mrs\", \"Mrs\", \"Mrs_Bennet\", \"Nantucket\", \"Netherfield\", \"Pass\", \"Peleg\", \"Pequod\", \"Queequeg\", \"Queequeg\", \"Renfield\", \"Rosings\", \"Safie\", \"Seward\", \"Seward\", \"Seward ' s\", \"Sir_William\", \"Sir_William\", \"Slovaks\", \"Starbuck\", \"Stubb\", \"Transylvania\", \"Van\", \"Van\", \"Van Helsing\", \"Van Helsing\", \"Van_Helsing\", \"Van_Helsing\", \"Victor\", \"Victor\", \"Westenra\", \"Westenra\", \"Whale\", \"Whitby\", \"Whitby\", \"Wickham\", \"abbey\", \"abhor\", \"abhor\", \"accent\", \"accent\", \"appear\", \"appear\", \"appear\", \"appear\", \"ardent\", \"ardently\", \"ardently\", \"ask\", \"ask\", \"ask\", \"ask\", \"asleep\", \"asleep\", \"attention\", \"attention\", \"attention\", \"attention\", \"awake\", \"awake\", \"awake\", \"awake\", \"bed\", \"bed\", \"bed\", \"bed\", \"believe\", \"believe\", \"believe\", \"believe\", \"boat\", \"boat\", \"boat\", \"cabin\", \"cabin\", \"captain\", \"captain\", \"captain\", \"castle\", \"castle\", \"castle\", \"cat\", \"cat\", \"celestial\", \"chapter\", \"chapter\", \"chapter\", \"chapter\", \"child\", \"child\", \"child\", \"child\", \"close\", \"close\", \"close\", \"close\", \"countenance\", \"countenance\", \"countenance\", \"countenance\", \"courtyard\", \"creator\", \"creator\", \"creature\", \"creature\", \"creature\", \"creature\", \"crew\", \"crew\", \"crime\", \"crime\", \"dance\", \"dance\", \"dance\", \"dance\", \"daughter\", \"daughter\", \"daughter\", \"daughter\", \"dear\", \"dear\", \"dear\", \"dear\", \"dearest\", \"death\", \"death\", \"death\", \"death\", \"deck\", \"deck\", \"desire\", \"desire\", \"desire\", \"desire\", \"despair\", \"despair\", \"despair\", \"despair\", \"diary\", \"disaster\", \"discover\", \"discover\", \"discover\", \"discover\", \"door\", \"door\", \"door\", \"door\", \"driver\", \"driver\", \"driver\", \"endeavour\", \"endeavour\", \"endeavour\", \"enter\", \"enter\", \"enter\", \"enter\", \"enterprise\", \"enthusiasm\", \"enthusiasm\", \"face\", \"face\", \"face\", \"face\", \"fall\", \"fall\", \"fall\", \"fall\", \"family\", \"family\", \"family\", \"family\", \"father\", \"father\", \"father\", \"father\", \"fear\", \"fear\", \"fear\", \"fear\", \"feeling\", \"feeling\", \"feeling\", \"feeling\", \"foot\", \"foot\", \"foot\", \"foot\", \"forever\", \"forever\", \"forever\", \"gentleman\", \"gentleman\", \"gentleman\", \"gentleman\", \"girl\", \"girl\", \"girl\", \"girl\", \"glacier\", \"government\", \"grief\", \"grief\", \"grief\", \"grief\", \"harbour\", \"harbour\", \"harpoon\", \"harpoon\", \"harpooneer\", \"harpooneer\", \"head\", \"head\", \"head\", \"head\", \"heart\", \"heart\", \"heart\", \"heart\", \"hope\", \"hope\", \"hope\", \"hope\", \"horror\", \"horror\", \"horror\", \"house\", \"house\", \"house\", \"house\", \"human\", \"human\", \"human\", \"human\", \"innocence\", \"innocence\", \"innocence\", \"key\", \"key\", \"key\", \"lady\", \"lady\", \"lady\", \"lady\", \"later\", \"later\", \"leg\", \"letter\", \"letter\", \"letter\", \"letter\", \"lie\", \"lie\", \"lie\", \"lie\", \"life\", \"life\", \"life\", \"life\", \"light\", \"light\", \"light\", \"light\", \"lock\", \"lock\", \"lock\", \"love\", \"love\", \"love\", \"love\", \"manner\", \"manner\", \"manner\", \"manner\", \"mast\", \"mast_head\", \"mate\", \"mate\", \"mate\", \"mean\", \"mean\", \"mean\", \"mean\", \"mind\", \"mind\", \"mind\", \"mind\", \"miserable\", \"miserable\", \"miserable\", \"miserable\", \"misery\", \"misery\", \"misery\", \"misery\", \"misfortune\", \"misfortune\", \"misfortune\", \"month\", \"month\", \"month\", \"month\", \"morning\", \"morning\", \"morning\", \"morning\", \"mountain\", \"mountain\", \"mountain\", \"mountain\", \"murder\", \"murder\", \"murder\", \"murderer\", \"murderer\", \"murderer\", \"nature\", \"nature\", \"nature\", \"nature\", \"oil\", \"old\", \"old\", \"old\", \"old\", \"open\", \"open\", \"open\", \"open\", \"outside\", \"outside\", \"pass\", \"pass\", \"pass\", \"pass\", \"patient\", \"patient\", \"patient\", \"pipe\", \"possess\", \"possess\", \"possess\", \"possess\", \"protector\", \"protector\", \"pursue\", \"pursue\", \"pursue\", \"pursue\", \"remain\", \"remain\", \"remain\", \"remain\", \"remorse\", \"reply\", \"reply\", \"reply\", \"reply\", \"return\", \"return\", \"return\", \"return\", \"right\", \"right\", \"right\", \"right\", \"room\", \"room\", \"room\", \"room\", \"round\", \"round\", \"round\", \"round\", \"run\", \"run\", \"run\", \"run\", \"sail\", \"sail\", \"sail\", \"sailor\", \"sailor\", \"science\", \"science\", \"science\", \"science\", \"sea\", \"sea\", \"sea\", \"shed\", \"ship\", \"ship\", \"ship\", \"shipmate\", \"shipmate\", \"sister\", \"sister\", \"sister\", \"sister\", \"sit\", \"sit\", \"sit\", \"sit\", \"sleep\", \"sleep\", \"sleep\", \"sleep\", \"small\", \"small\", \"small\", \"small\", \"sort\", \"sort\", \"sort\", \"sort\", \"sound\", \"sound\", \"sound\", \"sound\", \"sperm\", \"spirit\", \"spirit\", \"spirit\", \"spirit\", \"stand\", \"stand\", \"stand\", \"stand\", \"sympathize\", \"tail\", \"tale\", \"tale\", \"tale\", \"tear\", \"tear\", \"tear\", \"tear\", \"thou\", \"thou\", \"thou\", \"torture\", \"torture\", \"torture\", \"try\", \"try\", \"try\", \"try\", \"undertaking\", \"unfortunate\", \"unfortunate\", \"union\", \"union\", \"valley\", \"valley\", \"victim\", \"victim\", \"voyage\", \"voyage\", \"voyage\", \"walk\", \"walk\", \"walk\", \"walk\", \"want\", \"want\", \"want\", \"want\", \"water\", \"water\", \"water\", \"weep\", \"weep\", \"weep\", \"whale\", \"whale\", \"whale\", \"whale_ship\", \"whaleman\", \"whaling\", \"whilst\", \"whilst\", \"whilst\", \"whilst\", \"wind\", \"wind\", \"wind\", \"wind\", \"window\", \"window\", \"window\", \"window\", \"wish\", \"wish\", \"wish\", \"wish\", \"wolf\", \"wolf\", \"wolf\", \"word\", \"word\", \"word\", \"word\", \"work\", \"work\", \"work\", \"work\", \"world\", \"world\", \"world\", \"world\", \"write\", \"write\", \"write\", \"write\", \"year\", \"year\", \"year\", \"year\", \"young\", \"young\", \"young\", \"young\", \"young_lady\", \"young_lady\"]}, \"R\": 30, \"lambda.step\": 0.01, \"plot.opts\": {\"xlab\": \"PC1\", \"ylab\": \"PC2\"}, \"topic.order\": [4, 3, 1, 2]};\n",
       "\n",
       "function LDAvis_load_lib(url, callback){\n",
       "  var s = document.createElement('script');\n",
       "  s.src = url;\n",
       "  s.async = true;\n",
       "  s.onreadystatechange = s.onload = callback;\n",
       "  s.onerror = function(){console.warn(\"failed to load library \" + url);};\n",
       "  document.getElementsByTagName(\"head\")[0].appendChild(s);\n",
       "}\n",
       "\n",
       "if(typeof(LDAvis) !== \"undefined\"){\n",
       "   // already loaded: just create the visualization\n",
       "   !function(LDAvis){\n",
       "       new LDAvis(\"#\" + \"ldavis_el73526108265499526394267984\", ldavis_el73526108265499526394267984_data);\n",
       "   }(LDAvis);\n",
       "}else if(typeof define === \"function\" && define.amd){\n",
       "   // require.js is available: use it to load d3/LDAvis\n",
       "   require.config({paths: {d3: \"https://d3js.org/d3.v5\"}});\n",
       "   require([\"d3\"], function(d3){\n",
       "      window.d3 = d3;\n",
       "      LDAvis_load_lib(\"https://cdn.jsdelivr.net/gh/bmabey/pyLDAvis@3.4.0/pyLDAvis/js/ldavis.v3.0.0.js\", function(){\n",
       "        new LDAvis(\"#\" + \"ldavis_el73526108265499526394267984\", ldavis_el73526108265499526394267984_data);\n",
       "      });\n",
       "    });\n",
       "}else{\n",
       "    // require.js not available: dynamically load d3 & LDAvis\n",
       "    LDAvis_load_lib(\"https://d3js.org/d3.v5.js\", function(){\n",
       "         LDAvis_load_lib(\"https://cdn.jsdelivr.net/gh/bmabey/pyLDAvis@3.4.0/pyLDAvis/js/ldavis.v3.0.0.js\", function(){\n",
       "                 new LDAvis(\"#\" + \"ldavis_el73526108265499526394267984\", ldavis_el73526108265499526394267984_data);\n",
       "            })\n",
       "         });\n",
       "}\n",
       "</script>"
      ],
      "text/plain": [
       "<IPython.core.display.HTML object>"
      ]
     },
     "execution_count": 59,
     "metadata": {},
     "output_type": "execute_result"
    }
   ],
   "source": [
    "# plot topics\n",
    "data = pyLDAvis.gensim_models.prepare(model, corpus, dictionary)\n",
    "pyLDAvis.display(data)"
   ]
  },
  {
   "cell_type": "code",
   "execution_count": 60,
   "metadata": {},
   "outputs": [],
   "source": [
    "# assignment\n",
    "sent_to_cluster = list()\n",
    "for n, doc in enumerate(corpus):\n",
    "    if doc:\n",
    "        cluster = max(model[doc], key=lambda x: x[1])\n",
    "        sent_to_cluster.append(cluster[0])"
   ]
  },
  {
   "cell_type": "code",
   "execution_count": 61,
   "metadata": {},
   "outputs": [
    {
     "name": "stdout",
     "output_type": "stream",
     "text": [
      "DRACULA.txt : 1 - 60\n",
      "Accuracy: 1.0\n",
      "------\n",
      "Frankenstein.txt : 0 - 54\n",
      "Accuracy: 0.9\n",
      "------\n",
      "Moby_Dick.txt : 2 - 58\n",
      "Accuracy: 0.9666666666666667\n",
      "------\n",
      "PRIDE_AND_PREJUDICE.txt : 3 - 60\n",
      "Accuracy: 1.0\n",
      "------\n"
     ]
    }
   ],
   "source": [
    "# accuracy\n",
    "from collections import Counter\n",
    "\n",
    "for book, cluster in book_id.items():\n",
    "    assignments = list()\n",
    "    for real, given in zip(chunk_class, sent_to_cluster):\n",
    "        if real == cluster:\n",
    "            assignments.append(given)\n",
    "    most_common, num_most_common = Counter(\n",
    "        assignments).most_common(1)[0]  # 4, 6 times\n",
    "    print(book, \":\", most_common, \"-\", num_most_common)\n",
    "    print(\"Accuracy:\", num_most_common / limit)\n",
    "    print(\"------\")"
   ]
  },
  {
   "cell_type": "markdown",
   "metadata": {},
   "source": [
    "# Task 4: Semantic analysis based on lexical categories\n"
   ]
  },
  {
   "cell_type": "code",
   "execution_count": null,
   "metadata": {},
   "outputs": [],
   "source": [
    "from empath import Empath\n",
    "\n",
    "lexicon = Empath()"
   ]
  },
  {
   "cell_type": "markdown",
   "metadata": {},
   "source": [
    "### Let's see what pre-build categories we can study! More information: https://hci.stanford.edu/publications/2016/ethan/empath-chi-2016.pdf\n"
   ]
  },
  {
   "cell_type": "code",
   "execution_count": null,
   "metadata": {},
   "outputs": [],
   "source": [
    "for cat in list(lexicon.cats.keys())[:15]:\n",
    "    print(cat)"
   ]
  },
  {
   "cell_type": "markdown",
   "metadata": {},
   "source": [
    "### For each category, we can examine representative terms\n"
   ]
  },
  {
   "cell_type": "code",
   "execution_count": null,
   "metadata": {},
   "outputs": [],
   "source": [
    "lexicon.cats[\"health\"][:15]"
   ]
  },
  {
   "cell_type": "markdown",
   "metadata": {},
   "source": [
    "### Studying Pride and Prejudice\n"
   ]
  },
  {
   "cell_type": "code",
   "execution_count": null,
   "metadata": {},
   "outputs": [],
   "source": [
    "nlp = spacy.load(\"en_core_web_sm\")\n",
    "doc = nlp(books[3])"
   ]
  },
  {
   "cell_type": "code",
   "execution_count": null,
   "metadata": {},
   "outputs": [],
   "source": [
    "empath_features = lexicon.analyze(\n",
    "    doc.text, categories=[\"disappointment\", \"pain\", \"joy\", \"beauty\", \"affection\"]\n",
    ")"
   ]
  },
  {
   "cell_type": "code",
   "execution_count": null,
   "metadata": {},
   "outputs": [],
   "source": [
    "empath_features"
   ]
  },
  {
   "cell_type": "code",
   "execution_count": null,
   "metadata": {},
   "outputs": [],
   "source": [
    "empath_features = lexicon.analyze(\n",
    "    doc.text,\n",
    "    categories=[\"disappointment\", \"pain\", \"joy\", \"beauty\", \"affection\"],\n",
    "    normalize=True,\n",
    ")"
   ]
  },
  {
   "cell_type": "code",
   "execution_count": null,
   "metadata": {},
   "outputs": [],
   "source": [
    "empath_features"
   ]
  },
  {
   "cell_type": "markdown",
   "metadata": {},
   "source": [
    "### Usecase: the evolution of topics\n"
   ]
  },
  {
   "cell_type": "code",
   "execution_count": null,
   "metadata": {},
   "outputs": [],
   "source": [
    "bins = range(0, len(doc.text), 150000)"
   ]
  },
  {
   "cell_type": "code",
   "execution_count": null,
   "metadata": {},
   "outputs": [],
   "source": [
    "love = []\n",
    "pain = []\n",
    "beauty = []\n",
    "affection = []\n",
    "\n",
    "\n",
    "for cnt, i in enumerate(bins[:-1]):\n",
    "    empath_features = lexicon.analyze(\n",
    "        doc.text[bins[cnt] : bins[cnt + 1]],\n",
    "        categories=[\"love\", \"pain\", \"joy\", \"beauty\", \"affection\"],\n",
    "        normalize=True,\n",
    "    )\n",
    "    love.append(empath_features[\"love\"])\n",
    "    pain.append(empath_features[\"pain\"])\n",
    "    beauty.append(empath_features[\"beauty\"])\n",
    "    affection.append(empath_features[\"affection\"])"
   ]
  },
  {
   "cell_type": "code",
   "execution_count": null,
   "metadata": {},
   "outputs": [],
   "source": [
    "plt.plot(love, label=\"love\")\n",
    "plt.plot(beauty, label=\"beauty\")\n",
    "plt.plot(affection, label=\"affection\")\n",
    "plt.plot(pain, label=\"pain\")\n",
    "\n",
    "plt.xlabel(\"progression in the book\")\n",
    "plt.ylabel(\"frequency of a category\")\n",
    "plt.legend()"
   ]
  },
  {
   "cell_type": "code",
   "execution_count": null,
   "metadata": {},
   "outputs": [],
   "source": [
    "# We can observe how as the story progresses, beauty and affection categories decrease, while love and pain intensify!"
   ]
  },
  {
   "cell_type": "markdown",
   "metadata": {},
   "source": [
    "### We can create custom categories based on seed terms!\n",
    "\n",
    "### Models trained on: fiction, nytimes or reddit\n"
   ]
  },
  {
   "cell_type": "code",
   "execution_count": null,
   "metadata": {},
   "outputs": [],
   "source": [
    "lexicon.create_category(\n",
    "    \"healthy_food\", [\"healthy_food\", \"low_carb\", \"kale\", \"avocado\"], model=\"nytimes\"\n",
    ")"
   ]
  },
  {
   "cell_type": "code",
   "execution_count": null,
   "metadata": {},
   "outputs": [],
   "source": [
    "lexicon.create_category(\n",
    "    \"healthy_food\", [\"healthy_food\", \"low_carb\", \"kale\", \"avocado\"], model=\"reddit\"\n",
    ")"
   ]
  },
  {
   "cell_type": "code",
   "execution_count": null,
   "metadata": {},
   "outputs": [],
   "source": [
    "lexicon.create_category(\n",
    "    \"festive_food\", [\"festive_food\", \"turkey\", \"eggnog\"], model=\"nytimes\"\n",
    ")"
   ]
  },
  {
   "cell_type": "markdown",
   "metadata": {},
   "source": [
    "### List of further resources\n",
    "\n",
    "    * NLTK\n",
    "    * Jellyfish: string similarity library\n",
    "    * TextBlob: simplified text processing\n",
    "    * PyEnchant: language detection\n",
    "    * WordNet: ontology of concepts (inc. in NLTK)\n",
    "    * Stanford NLP (Java)\n",
    "    * Tweet NLP: https://www.cs.cmu.edu/~ark/TweetNLP/\n"
   ]
  },
  {
   "cell_type": "markdown",
   "metadata": {},
   "source": [
    "## Part 2\n"
   ]
  },
  {
   "cell_type": "markdown",
   "metadata": {},
   "source": [
    "### Question 1:\n",
    "\n",
    "An NLP preprocessing model, using the list of stopwords ['a', 'the', 'is',\n",
    "'you', 'I','my','with','was'] for the input sentence “I was driving down the\n",
    "street with my CAR! :)” <br> gives the following output: {driving, down, street,\n",
    "car, :)}. The model consists of: <br>\n",
    "\n",
    "a) Stopword Removal, Casefolding and Stemming <br> b) Stopword Removal and\n",
    "Casefolding <br> c) Stopword Removal and Stemming <br> d) Casefolding and\n",
    "Stemming <br>\n"
   ]
  },
  {
   "cell_type": "code",
   "execution_count": 62,
   "metadata": {},
   "outputs": [],
   "source": [
    "# b) Stopword Removal + Casefolding (no stemming bedause driving stays driving)"
   ]
  },
  {
   "cell_type": "markdown",
   "metadata": {},
   "source": [
    "### Question 2:\n",
    "\n",
    "What statement is false about topic detection using LSA: <br>\n",
    "\n",
    "a) It finds the representation of documents and words in the latent \"topic\n",
    "space\" <br> b) It produces topics interpretable in “word space” <br> c) A\n",
    "document's topic representation is a probability distribution over topics <br>\n",
    "d) The vectors representing topics in “word space” are linearly independent <br>\n"
   ]
  },
  {
   "cell_type": "code",
   "execution_count": 65,
   "metadata": {},
   "outputs": [],
   "source": [
    "# c) Topic representation is not a probability distribution over topics"
   ]
  },
  {
   "cell_type": "markdown",
   "metadata": {},
   "source": [
    "### Question 3:\n",
    "\n",
    "The problem of having more features than documents when using a TF-IDF matrix\n",
    "for document classification cannot be addressed by: <br>\n",
    "\n",
    "a) Using SVD for dimensionality reduction <br> b) Using min-max scaling of\n",
    "features <br> c) Penalizing very large positive and very large negative weights\n",
    "(a.k.a. regularization) <br> d) Using online feature selection <br>\n"
   ]
  },
  {
   "cell_type": "code",
   "execution_count": 63,
   "metadata": {},
   "outputs": [],
   "source": [
    "# b) Min-max scaling doesn't help"
   ]
  },
  {
   "cell_type": "markdown",
   "metadata": {},
   "source": [
    "### Question 4:\n",
    "\n",
    "Which of the following is false about word vectors: <br>\n",
    "\n",
    "a) Word2vec is used to achieve a lower dimensional representation than bag of\n",
    "words <br> b) Semantically similar words typically have similar word2vec vectors\n",
    "<br> c) Each dimension in the word2vec embedding has a clear interpretation <br>\n",
    "d) Word2Vec can be used for the computation of sentence vectors <br>\n"
   ]
  },
  {
   "cell_type": "code",
   "execution_count": 64,
   "metadata": {},
   "outputs": [],
   "source": [
    "# c) individual entries are not interpretable in word2vec"
   ]
  },
  {
   "cell_type": "markdown",
   "metadata": {},
   "source": [
    "### Question 5:\n",
    "\n",
    "Given the following word (W) / context (C) co-occurrence frequencies, which\n",
    "statement is true regarding the pointwise mutual information (PMI)?\n",
    "\n",
    "|     | W1  | W2  | W3  |\n",
    "| --- | --- | --- | --- |\n",
    "| C1  | 2   | 0   | 3   |\n",
    "| C2  | 6   | 4   | 0   |\n",
    "| C3  | 1   | 1   | 3   |\n",
    "\n",
    "a) PMI(w=W1, c=C2) > PMI(w=W2, c=C2) > PMI(w=W3, c=C3) <br> b) PMI(w=W2, c=C2) >\n",
    "PMI(w=W1, c=C2) > PMI(w=W3, c=C3) <br> c) PMI(w=W3, c=C3) > PMI(w=W1, c=C2) >\n",
    "PMI(w=W2, c=C2) <br> d) PMI(w=W3, c=C3) > PMI(w=W2, c=C2) > PMI(w=W1, c=C2) <br>\n"
   ]
  },
  {
   "cell_type": "code",
   "execution_count": 72,
   "metadata": {},
   "outputs": [
    {
     "data": {
      "text/plain": [
       "(0.41503749927884376, 0.6780719051126377, 1.0)"
      ]
     },
     "execution_count": 72,
     "metadata": {},
     "output_type": "execute_result"
    }
   ],
   "source": [
    "import numpy as np\n",
    "\n",
    "# Co-occurrence matrix\n",
    "co_occurrence_matrix = np.array([[2, 0, 3], [6, 4, 0], [1, 1, 3]])\n",
    "\n",
    "# Calculate the probabilities\n",
    "P_w = co_occurrence_matrix.sum(axis=0) / co_occurrence_matrix.sum()\n",
    "P_c = co_occurrence_matrix.sum(axis=1) / co_occurrence_matrix.sum()\n",
    "P_wc = co_occurrence_matrix / co_occurrence_matrix.sum()\n",
    "\n",
    "# PMI calculation\n",
    "\n",
    "\n",
    "def PMI(w, c):\n",
    "    return np.log2(P_wc[c, w] / (P_w[w] * P_c[c]))\n",
    "\n",
    "\n",
    "# PMI values for the given combinations\n",
    "PMI_W1_C2 = PMI(0, 1)\n",
    "PMI_W2_C2 = PMI(1, 1)\n",
    "PMI_W3_C3 = PMI(2, 2)\n",
    "\n",
    "PMI_W1_C2, PMI_W2_C2, PMI_W3_C3"
   ]
  },
  {
   "cell_type": "code",
   "execution_count": 69,
   "metadata": {},
   "outputs": [],
   "source": [
    "# d) PMI(w=W3, c=C3) > PMI(w=W2_C2) > PMI(w=W1, c=C2)"
   ]
  }
 ],
 "metadata": {
  "kernelspec": {
   "display_name": "Python 3 (ipykernel)",
   "language": "python",
   "name": "python3"
  },
  "language_info": {
   "codemirror_mode": {
    "name": "ipython",
    "version": 3
   },
   "file_extension": ".py",
   "mimetype": "text/x-python",
   "name": "python",
   "nbconvert_exporter": "python",
   "pygments_lexer": "ipython3",
   "version": "3.9.16"
  },
  "toc": {
   "colors": {
    "hover_highlight": "#DAA520",
    "navigate_num": "#000000",
    "navigate_text": "#333333",
    "running_highlight": "#FF0000",
    "selected_highlight": "#FFD700",
    "sidebar_border": "#EEEEEE",
    "wrapper_background": "#FFFFFF"
   },
   "moveMenuLeft": true,
   "nav_menu": {
    "height": "228px",
    "width": "252px"
   },
   "navigate_menu": true,
   "number_sections": true,
   "sideBar": true,
   "threshold": 4,
   "toc_cell": false,
   "toc_section_display": "block",
   "toc_window_display": false,
   "widenNotebook": false
  },
  "varInspector": {
   "cols": {
    "lenName": 16,
    "lenType": 16,
    "lenVar": 40
   },
   "kernels_config": {
    "python": {
     "delete_cmd_postfix": "",
     "delete_cmd_prefix": "del ",
     "library": "var_list.py",
     "varRefreshCmd": "print(var_dic_list())"
    },
    "r": {
     "delete_cmd_postfix": ") ",
     "delete_cmd_prefix": "rm(",
     "library": "var_list.r",
     "varRefreshCmd": "cat(var_dic_list()) "
    }
   },
   "types_to_exclude": [
    "module",
    "function",
    "builtin_function_or_method",
    "instance",
    "_Feature"
   ],
   "window_display": false
  }
 },
 "nbformat": 4,
 "nbformat_minor": 4
}
