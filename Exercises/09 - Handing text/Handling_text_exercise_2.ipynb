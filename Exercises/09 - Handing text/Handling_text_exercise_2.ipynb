{
 "cells": [
  {
   "cell_type": "code",
   "execution_count": 3,
   "metadata": {
    "tags": []
   },
   "outputs": [],
   "source": [
    "import numpy as np\n",
    "import pandas as pd\n",
    "import matplotlib.pyplot as plt\n",
    "%matplotlib inline\n",
    "from sklearn.linear_model import LogisticRegressionCV\n",
    "from sklearn.decomposition import TruncatedSVD\n",
    "from sklearn.feature_extraction.text import TfidfVectorizer\n",
    "from helpers.helper_functions import *"
   ]
  },
  {
   "cell_type": "markdown",
   "metadata": {},
   "source": [
    "# Handling text 2 exercise\n",
    "\n",
    "[Handling text exercisses ADApted drom ADA 2018 final exam]\n",
    "\n",
    "The Sheldon Cooper we all know and love (OK, some of us might not know him, and\n",
    "some might not love him) from the TV series \"The Big Bang Theory\" has gotten\n",
    "into an argument with Leonard from the same TV show. Sheldon insists that he\n",
    "knows the show better than anyone, and keeps making various claims about the\n",
    "show, which neither of them know how to prove or disprove. The two of them have\n",
    "reached out to you ladies and gentlemen, as data scientists, to help them. You\n",
    "will be given the full script of the series, with information on the episode,\n",
    "the scene, the person saying each dialogue line, and the dialogue lines\n",
    "themselves.\n",
    "\n",
    "Leonard has challenged several of Sheldon's claims about the show, and\n",
    "throughout this exam you will see some of those and you will get to prove or\n",
    "disprove them, but remember: sometimes, we can neither prove a claim, nor\n",
    "disprove it!\n"
   ]
  },
  {
   "cell_type": "markdown",
   "metadata": {},
   "source": [
    "## Task A: Picking up the shovel\n",
    "\n",
    "**Note: You will use the data you preprocess in this task in all the subsequent\n",
    "ones.**\n",
    "\n",
    "Our friends' argument concerns the entire show. We have given you a file in the\n",
    "`data/` folder that contains the script of every single episode. New episodes\n",
    "are indicated by '>>', new scenes by '>', and the rest of the lines are dialogue\n",
    "lines. Some lines are said by multiple people (for example, lines indicated by\n",
    "'All' or 'Together'); **you must discard these lines**, for the sake of\n",
    "simplicity. However, you do not need to do it for Q1 in this task -- you'll take\n",
    "care of it when you solve Q2.\n",
    "\n",
    "**Q1**. Your first task is to extract all lines of dialogue in each scene and\n",
    "episode, creating a dataframe where each row has the episode and scene where a\n",
    "dialogue line was said, the character who said it, and the line itself. You do\n",
    "not need to extract the proper name of the episode (e.g. episode 1 can appear as\n",
    "\"Series 01 Episode 01 - Pilot Episode\", and doesn't need to appear as \"Pilot\n",
    "Episode\"). Then, answer the following question: In total, how many scenes are\n",
    "there in each season? We're not asking about unique scenes; the same location\n",
    "appearing in two episodes counts as two scenes. You can use a Pandas dataframe\n",
    "with a season column and a scene count column as the response.\n",
    "\n",
    "**Note: The data refers to seasons as \"series\".**\n"
   ]
  },
  {
   "cell_type": "code",
   "execution_count": 4,
   "metadata": {},
   "outputs": [
    {
     "name": "stdout",
     "output_type": "stream",
     "text": [
      ">> Series 01 Episode 01 – Pilot Episode\n",
      "> A corridor at a sperm bank.\n",
      "Sheldon: So if a photon is directed through a plane with two slits in it and either slit is observed it will not go through both slits. If it’s unobserved it will, however, if it’s observed after it’s left the plane but before it hits its target, it will not have gone through both slits.\n",
      "Leonard: Agreed, what’s your point?\n",
      "Sheldon: There’s no point, I just think it’s a good idea for a tee-shirt.\n",
      "Leonard: Excuse me?\n",
      "Receptionist: Hang on.\n",
      "Leonard: One across is Aegean, eight down is Nabakov, twenty-six across is MCM, fourteen down is… move your finger… phylum, which makes fourteen across Port-au-Prince. See, Papa Doc’s capital idea, that’s Port-au-Prince. Haiti.\n",
      "Receptionist: Can I help you?\n",
      "Leonard: Yes. Um, is this the High IQ sperm bank?\n"
     ]
    }
   ],
   "source": [
    "!head -10 data/all_scripts.txt"
   ]
  },
  {
   "cell_type": "code",
   "execution_count": 5,
   "metadata": {},
   "outputs": [
    {
     "data": {
      "text/html": [
       "<div>\n",
       "<style scoped>\n",
       "    .dataframe tbody tr th:only-of-type {\n",
       "        vertical-align: middle;\n",
       "    }\n",
       "\n",
       "    .dataframe tbody tr th {\n",
       "        vertical-align: top;\n",
       "    }\n",
       "\n",
       "    .dataframe thead th {\n",
       "        text-align: right;\n",
       "    }\n",
       "</style>\n",
       "<table border=\"1\" class=\"dataframe\">\n",
       "  <thead>\n",
       "    <tr style=\"text-align: right;\">\n",
       "      <th></th>\n",
       "      <th>Episode</th>\n",
       "      <th>Scence</th>\n",
       "      <th>Character</th>\n",
       "      <th>Dialogue</th>\n",
       "    </tr>\n",
       "  </thead>\n",
       "  <tbody>\n",
       "    <tr>\n",
       "      <th>0</th>\n",
       "      <td>Series 01 Episode 01 – Pilot Episode</td>\n",
       "      <td>A corridor at a sperm bank.</td>\n",
       "      <td>Sheldon</td>\n",
       "      <td>So if a photon is directed through a plane wit...</td>\n",
       "    </tr>\n",
       "    <tr>\n",
       "      <th>1</th>\n",
       "      <td>Series 01 Episode 01 – Pilot Episode</td>\n",
       "      <td>A corridor at a sperm bank.</td>\n",
       "      <td>Leonard</td>\n",
       "      <td>Agreed, what’s your point?</td>\n",
       "    </tr>\n",
       "    <tr>\n",
       "      <th>2</th>\n",
       "      <td>Series 01 Episode 01 – Pilot Episode</td>\n",
       "      <td>A corridor at a sperm bank.</td>\n",
       "      <td>Sheldon</td>\n",
       "      <td>There’s no point, I just think it’s a good ide...</td>\n",
       "    </tr>\n",
       "    <tr>\n",
       "      <th>3</th>\n",
       "      <td>Series 01 Episode 01 – Pilot Episode</td>\n",
       "      <td>A corridor at a sperm bank.</td>\n",
       "      <td>Leonard</td>\n",
       "      <td>Excuse me?</td>\n",
       "    </tr>\n",
       "    <tr>\n",
       "      <th>4</th>\n",
       "      <td>Series 01 Episode 01 – Pilot Episode</td>\n",
       "      <td>A corridor at a sperm bank.</td>\n",
       "      <td>Receptionist</td>\n",
       "      <td>Hang on.</td>\n",
       "    </tr>\n",
       "  </tbody>\n",
       "</table>\n",
       "</div>"
      ],
      "text/plain": [
       "                                Episode                       Scence  \\\n",
       "0  Series 01 Episode 01 – Pilot Episode  A corridor at a sperm bank.   \n",
       "1  Series 01 Episode 01 – Pilot Episode  A corridor at a sperm bank.   \n",
       "2  Series 01 Episode 01 – Pilot Episode  A corridor at a sperm bank.   \n",
       "3  Series 01 Episode 01 – Pilot Episode  A corridor at a sperm bank.   \n",
       "4  Series 01 Episode 01 – Pilot Episode  A corridor at a sperm bank.   \n",
       "\n",
       "      Character                                           Dialogue  \n",
       "0       Sheldon  So if a photon is directed through a plane wit...  \n",
       "1       Leonard                         Agreed, what’s your point?  \n",
       "2       Sheldon  There’s no point, I just think it’s a good ide...  \n",
       "3       Leonard                                         Excuse me?  \n",
       "4  Receptionist                                           Hang on.  "
      ]
     },
     "execution_count": 5,
     "metadata": {},
     "output_type": "execute_result"
    }
   ],
   "source": [
    "lines_of_dialogue = []\n",
    "with open(\"data/all_scripts.txt\", \"r\") as file:\n",
    "    episode, scence = \"\", \"\"\n",
    "    for line in file:\n",
    "        line = line.strip()\n",
    "        if line.startswith(\"All\") or line.startswith(\"Together\"):\n",
    "            continue\n",
    "        # New episodes\n",
    "        elif line[:2] == \">>\":\n",
    "            episode = line[3:]\n",
    "        # New scence\n",
    "        elif line[:1] == \">\":\n",
    "            scence = line[2:]\n",
    "        # Line of dialogue\n",
    "        else:\n",
    "            character, dialogue = map(lambda x: x.strip(), line.split(\":\", 1))\n",
    "            lines_of_dialogue.append((episode, scence, character, dialogue))\n",
    "\n",
    "    df = pd.DataFrame(\n",
    "        lines_of_dialogue, columns=[\"Episode\",\n",
    "                                    \"Scence\", \"Character\", \"Dialogue\"]\n",
    "    )\n",
    "\n",
    "df.head(5)"
   ]
  },
  {
   "cell_type": "markdown",
   "metadata": {},
   "source": [
    "**Q2**. Now, let's define two sets of characters: all the characters, and\n",
    "recurrent characters. Recurrent characters are those who appear in more than one\n",
    "episode. For the subsequent sections, you will need to have a list of recurrent\n",
    "characters. Assume that there are no two _named characters_ (i.e. characters who\n",
    "have actual names and aren't referred to generically as \"little girl\", \"grumpy\n",
    "grandpa\", etc.) with the same name, i.e. there are no two Sheldons, etc.\n",
    "Generate a list of recurrent characters who have more than 90 dialogue lines in\n",
    "total, and then take a look at the list you have. If you've done this correctly,\n",
    "you should have a list of 20 names. However, one of these is clearly not a\n",
    "recurrent character. Manually remove that one, and print out your list of\n",
    "recurrent characters. To remove that character, pay attention to the _named\n",
    "character_ assumption we gave you earlier on. **For all the subsequent\n",
    "questions, you must only keep the dialogue lines said by the recurrent\n",
    "characters in your list.**\n"
   ]
  },
  {
   "cell_type": "code",
   "execution_count": 15,
   "metadata": {},
   "outputs": [
    {
     "name": "stdout",
     "output_type": "stream",
     "text": [
      "There are 20 recurrent characters in the dataset before removal.\n",
      "There are 19 recurrent characters in the dataset after removal.\n"
     ]
    }
   ],
   "source": [
    "# Get list of recurrent characters (had more than 90 dialogues)\n",
    "num_dialogues = df[\"Character\"].value_counts()\n",
    "recurrent_characters = num_dialogues[num_dialogues > 90].index.tolist()\n",
    "\n",
    "print(\n",
    "    f\"There are {len(recurrent_characters)} recurrent characters in the dataset before removal.\"\n",
    ")\n",
    "\n",
    "# Remove non-recurrent characters\n",
    "recurrent_characters.remove(\"Man\")\n",
    "\n",
    "print(\n",
    "    f\"There are {len(recurrent_characters)} recurrent characters in the dataset after removal.\"\n",
    ")"
   ]
  },
  {
   "cell_type": "markdown",
   "metadata": {},
   "source": [
    "## Task B: Read the scripts carefully\n",
    "\n",
    "### Part 1: Don't put the shovel down just yet\n",
    "\n",
    "**Q3**. From each dialogue line, replace punctuation marks (listed in the\n",
    "EXCLUDE_CHARS variable provided in `helpers/helper_functions.py`) with\n",
    "whitespaces, and lowercase all the text. **Do not remove any stopwords, leave\n",
    "them be for all the questions in this task.**\n"
   ]
  },
  {
   "cell_type": "code",
   "execution_count": 22,
   "metadata": {},
   "outputs": [],
   "source": [
    "import re  # Allowed?\n",
    "\n",
    "# Remove excluded characters with whitespaces\n",
    "\n",
    "\n",
    "def replace_chars(excluded, x):\n",
    "    return \"\".join([c if c not in excluded else \" \" for c in x])\n",
    "\n",
    "\n",
    "df[\"Dialogue\"] = df[\"Dialogue\"].apply(lambda x: replace_chars(EXCLUDE_CHARS, x))\n",
    "\n",
    "# Lower-case all characters\n",
    "df[\"Dialogue\"] = df[\"Dialogue\"].apply(lambda x: x.lower())"
   ]
  },
  {
   "cell_type": "markdown",
   "metadata": {},
   "source": [
    "**Q4**. For each term, calculate its \"corpus frequency\", i.e. its number of\n",
    "occurrences in the entire series. Visualize the distribution of corpus frequency\n",
    "using a histogram. Explain your observations. What are the appropriate x and y\n",
    "scales for this plot?\n"
   ]
  },
  {
   "cell_type": "code",
   "execution_count": 29,
   "metadata": {},
   "outputs": [
    {
     "data": {
      "image/png": "[encoded data removed]",
      "text/plain": [
       "<Figure size 1000x500 with 1 Axes>"
      ]
     },
     "metadata": {},
     "output_type": "display_data"
    },
    {
     "data": {
      "image/png": "[encoded data removed]",
      "text/plain": [
       "<Figure size 1000x500 with 1 Axes>"
      ]
     },
     "metadata": {},
     "output_type": "display_data"
    }
   ],
   "source": [
    "from collections import Counter\n",
    "\n",
    "\n",
    "# Split the dialogue into words\n",
    "df[\"Words\"] = df[\"Dialogue\"].apply(lambda x: x.split())\n",
    "\n",
    "# Add all words to a list\n",
    "words = []\n",
    "for word_list in df[\"Words\"]:\n",
    "    words.extend(word_list)\n",
    "\n",
    "# Count the number of times each word appears\n",
    "word_frequency = Counter(words)\n",
    "\n",
    "# Histogram on linear scale\n",
    "_, ax = plt.subplots(figsize=(10, 5))\n",
    "ax.hist(word_frequency.values(), bins=100)\n",
    "\n",
    "# Histogram on log scale\n",
    "_, ax = plt.subplots(figsize=(10, 5))\n",
    "ax.hist(word_frequency.values(), bins=100)\n",
    "ax.set_xscale(\"log\")\n",
    "ax.set_yscale(\"log\")"
   ]
  },
  {
   "cell_type": "markdown",
   "metadata": {},
   "source": [
    "### Part 2: Talkativity\n",
    "\n",
    "**Q5**. For each of the recurrent characters, calculate their total number of\n",
    "words uttered across all episodes. Based on this, who seems to be the most\n",
    "talkative character?\n"
   ]
  },
  {
   "cell_type": "code",
   "execution_count": 7,
   "metadata": {},
   "outputs": [],
   "source": [
    "# your code goes here"
   ]
  },
  {
   "cell_type": "markdown",
   "metadata": {},
   "source": [
    "## Task D: The Detective's Hat\n",
    "\n",
    "Sheldon claims that given a dialogue line, he can, with an accuracy of above\n",
    "70%, say whether it's by himself or by someone else. Leonard contests this\n",
    "claim, since he believes that this claimed accuracy is too high.\n",
    "\n",
    "**Q6**. Divide the set of all dialogue lines into two subsets: the training set,\n",
    "consisting of all the seasons except the last two, and the test set, consisting\n",
    "of the last two seasons.\n"
   ]
  },
  {
   "cell_type": "code",
   "execution_count": 8,
   "metadata": {},
   "outputs": [],
   "source": [
    "# your code goes here"
   ]
  },
  {
   "cell_type": "markdown",
   "metadata": {},
   "source": [
    "**Q7**. Find the set of all words in the training set that are only uttered by\n",
    "Sheldon. Is it possible for Sheldon to identify himself only based on these? Use\n",
    "the test set to assess this possibility, and explain your method.\n"
   ]
  },
  {
   "cell_type": "code",
   "execution_count": 9,
   "metadata": {
    "tags": []
   },
   "outputs": [],
   "source": [
    "# your code goes here"
   ]
  }
 ],
 "metadata": {
  "kernelspec": {
   "display_name": "Python 3 (ipykernel)",
   "language": "python",
   "name": "python3"
  },
  "language_info": {
   "codemirror_mode": {
    "name": "ipython",
    "version": 3
   },
   "file_extension": ".py",
   "mimetype": "text/x-python",
   "name": "python",
   "nbconvert_exporter": "python",
   "pygments_lexer": "ipython3",
   "version": "3.9.16"
  },
  "varInspector": {
   "cols": {
    "lenName": 16,
    "lenType": 16,
    "lenVar": 40
   },
   "kernels_config": {
    "python": {
     "delete_cmd_postfix": "",
     "delete_cmd_prefix": "del ",
     "library": "var_list.py",
     "varRefreshCmd": "print(var_dic_list())"
    },
    "r": {
     "delete_cmd_postfix": ") ",
     "delete_cmd_prefix": "rm(",
     "library": "var_list.r",
     "varRefreshCmd": "cat(var_dic_list()) "
    }
   },
   "types_to_exclude": [
    "module",
    "function",
    "builtin_function_or_method",
    "instance",
    "_Feature"
   ],
   "window_display": false
  }
 },
 "nbformat": 4,
 "nbformat_minor": 4
}
